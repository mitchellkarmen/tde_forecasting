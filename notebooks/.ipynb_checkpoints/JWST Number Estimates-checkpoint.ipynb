{
 "cells": [
  {
   "cell_type": "code",
   "execution_count": 1,
   "id": "0f8e5662",
   "metadata": {
    "scrolled": true
   },
   "outputs": [
    {
     "name": "stderr",
     "output_type": "stream",
     "text": [
      "WARNING: AstropyDeprecationWarning: The update_default_config function is deprecated and may be removed in a future version. [sncosmo]\n"
     ]
    }
   ],
   "source": [
    "import numpy as np\n",
    "import sncosmo\n",
    "import matplotlib.pyplot as plt\n",
    "from astropy import units as u\n",
    "from astropy.cosmology import WMAP9 as cosmo\n",
    "from astropy import constants as const\n",
    "import sys\n",
    "sys.path.append('../')\n",
    "from scripts import tde_utils"
   ]
  },
  {
   "cell_type": "code",
   "execution_count": 2,
   "id": "032863c3",
   "metadata": {},
   "outputs": [],
   "source": [
    "import seaborn as sns\n",
    "sns.set_context('paper')"
   ]
  },
  {
   "cell_type": "code",
   "execution_count": 14,
   "id": "3ee5fb14",
   "metadata": {},
   "outputs": [],
   "source": [
    "jwst_filters =['f070w', \n",
    "               'f115w', \n",
    "               'f150w',\n",
    "               'f277w',\n",
    "               'f356w',\n",
    "               'f444w',\n",
    "               'f140m',\n",
    "               'f182m',\n",
    "               'f250m',\n",
    "               'f335m',\n",
    "               'f410m',\n",
    "               'f480m'\n",
    "              ]"
   ]
  },
  {
   "cell_type": "code",
   "execution_count": 15,
   "id": "dc35023f",
   "metadata": {},
   "outputs": [],
   "source": [
    "def d_maglim(z, args):\n",
    "    try:\n",
    "        filt, maglim = args\n",
    "        source = tde_utils.BlackBodySource(30000)\n",
    "        bb_model = sncosmo.Model(source=source)\n",
    "        bb_model.set(z=z)\n",
    "        luminosity_distance = cosmo.luminosity_distance(z)\n",
    "        \n",
    "        filter_abs_mag = bb_model.bandmag(filt, 'ab', 0)\n",
    "        app_mag = filter_abs_mag + 5*np.log10(luminosity_distance/(10 * u.parsec))\n",
    "        #print(np.abs(app_mag - (maglim-1)))\n",
    "        return np.abs(app_mag - (maglim))\n",
    "    except:\n",
    "        return 1000"
   ]
  },
  {
   "cell_type": "code",
   "execution_count": 16,
   "id": "91b3dc08",
   "metadata": {},
   "outputs": [],
   "source": [
    "from scipy.optimize import minimize"
   ]
  },
  {
   "cell_type": "code",
   "execution_count": 21,
   "id": "ada51810",
   "metadata": {},
   "outputs": [],
   "source": [
    "maglim = 28.2\n",
    "\n",
    "z_lims = {}\n",
    "for filt in jwst_filters:\n",
    "    res = minimize(d_maglim, \n",
    "                   args = [filt, maglim], \n",
    "                   bounds = [[0.01, 25]],\n",
    "                   x0=2)\n",
    "    z_lims[filt] = res.x[0]"
   ]
  },
  {
   "cell_type": "code",
   "execution_count": 22,
   "id": "9e716692",
   "metadata": {},
   "outputs": [
    {
     "data": {
      "text/plain": [
       "{'f070w': 8.4133540490200751,\n",
       " 'f115w': 12.155529445874182,\n",
       " 'f150w': 14.485862340316832,\n",
       " 'f277w': 19.976864684266946,\n",
       " 'f356w': 21.387861928889922,\n",
       " 'f444w': 20.98922581602687,\n",
       " 'f140m': 13.905251820343592,\n",
       " 'f182m': 16.417128853639245,\n",
       " 'f250m': 19.236434038668747,\n",
       " 'f335m': 21.253965415144453,\n",
       " 'f410m': 21.517282569480898,\n",
       " 'f480m': 20.043112169202747}"
      ]
     },
     "execution_count": 22,
     "metadata": {},
     "output_type": "execute_result"
    }
   ],
   "source": [
    "z_lims"
   ]
  },
  {
   "cell_type": "code",
   "execution_count": 23,
   "id": "447699a4",
   "metadata": {},
   "outputs": [],
   "source": [
    "## TDE Rate: 5×10−8/𝑦𝑟/𝑀𝑝𝑐3\n",
    "tde_rate = (5e-8 * u.year**(-1) * u.Mpc**(-3))\n",
    "\n",
    "snia_rate = 2.4e-5 * u.year**(-1) * u.Mpc**(-3) # https://arxiv.org/abs/1903.08580"
   ]
  },
  {
   "cell_type": "code",
   "execution_count": 24,
   "id": "fd63eb7e",
   "metadata": {},
   "outputs": [],
   "source": [
    "def calc_volume(sq_degrees, z):\n",
    "    \n",
    "    sphere_area_sterad = 4*np.pi\n",
    "    sphere_area_degrees = sphere_area_sterad * ((180/np.pi)**2)\n",
    "    fractional_area = sq_degrees / sphere_area_degrees\n",
    "\n",
    "    total_volume = cosmo.comoving_volume(z)\n",
    "    \n",
    "    return total_volume * fractional_area"
   ]
  },
  {
   "cell_type": "code",
   "execution_count": 36,
   "id": "757cb6f5",
   "metadata": {},
   "outputs": [],
   "source": [
    "sq_degs = 0.32\n",
    "filter_volumes = {filt: calc_volume(sq_degs, filtz) for filt, filtz in z_lims.items()}"
   ]
  },
  {
   "cell_type": "code",
   "execution_count": 37,
   "id": "275c0743",
   "metadata": {},
   "outputs": [
    {
     "data": {
      "text/plain": [
       "{'f070w': <Quantity 26078327.00281294 Mpc3>,\n",
       " 'f115w': <Quantity 33504039.38972783 Mpc3>,\n",
       " 'f150w': <Quantity 37086666.37874024 Mpc3>,\n",
       " 'f277w': <Quantity 43568454.992815904 Mpc3>,\n",
       " 'f356w': <Quantity 44916907.18281948 Mpc3>,\n",
       " 'f444w': <Quantity 44546433.99823701 Mpc3>,\n",
       " 'f140m': <Quantity 36251902.651866175 Mpc3>,\n",
       " 'f182m': <Quantity 39630794.950285085 Mpc3>,\n",
       " 'f250m': <Quantity 42817069.17082128 Mpc3>,\n",
       " 'f335m': <Quantity 44793356.085868806 Mpc3>,\n",
       " 'f410m': <Quantity 45035490.10323879 Mpc3>,\n",
       " 'f480m': <Quantity 43634151.461945385 Mpc3>}"
      ]
     },
     "execution_count": 37,
     "metadata": {},
     "output_type": "execute_result"
    }
   ],
   "source": [
    "filter_volumes"
   ]
  },
  {
   "cell_type": "code",
   "execution_count": 38,
   "id": "cb936ede",
   "metadata": {},
   "outputs": [
    {
     "data": {
      "text/plain": [
       "{'f070w': 1.303916350140647,\n",
       " 'f115w': 1.6752019694863916,\n",
       " 'f150w': 1.8543333189370121,\n",
       " 'f277w': 2.1784227496407951,\n",
       " 'f356w': 2.2458453591409739,\n",
       " 'f444w': 2.2273216999118501,\n",
       " 'f140m': 1.8125951325933087,\n",
       " 'f182m': 1.9815397475142542,\n",
       " 'f250m': 2.1408534585410637,\n",
       " 'f335m': 2.2396678042934401,\n",
       " 'f410m': 2.2517745051619396,\n",
       " 'f480m': 2.181707573097269}"
      ]
     },
     "execution_count": 38,
     "metadata": {},
     "output_type": "execute_result"
    }
   ],
   "source": [
    "{filt: (tde_rate * calc_volume(sq_degs, filtz)).value for filt, filtz in z_lims.items()}"
   ]
  },
  {
   "cell_type": "code",
   "execution_count": null,
   "id": "beffddc8",
   "metadata": {},
   "outputs": [],
   "source": []
  }
 ],
 "metadata": {
  "kernelspec": {
   "display_name": "Python 3 (ipykernel)",
   "language": "python",
   "name": "python3"
  },
  "language_info": {
   "codemirror_mode": {
    "name": "ipython",
    "version": 3
   },
   "file_extension": ".py",
   "mimetype": "text/x-python",
   "name": "python",
   "nbconvert_exporter": "python",
   "pygments_lexer": "ipython3",
   "version": "3.9.12"
  }
 },
 "nbformat": 4,
 "nbformat_minor": 5
}

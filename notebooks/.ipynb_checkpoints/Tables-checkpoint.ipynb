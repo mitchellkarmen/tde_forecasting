{
 "cells": [
  {
   "cell_type": "code",
   "execution_count": 17,
   "id": "06014348",
   "metadata": {
    "scrolled": true
   },
   "outputs": [],
   "source": [
    "import numpy as np\n",
    "import sncosmo\n",
    "from tqdm.notebook import tqdm\n",
    "from tabulate import tabulate\n",
    "\n",
    "import matplotlib.pyplot as plt\n",
    "import seaborn as sns\n",
    "sns.set_context('paper')\n",
    "\n",
    "from astropy import units as u\n",
    "from astropy.cosmology import WMAP9 as cosmo\n",
    "from astropy import constants as const\n",
    "from scipy.optimize import minimize\n",
    "\n",
    "import sys\n",
    "sys.path.append('../')\n",
    "from scripts import tde_utils"
   ]
  },
  {
   "cell_type": "code",
   "execution_count": 8,
   "id": "087673f7",
   "metadata": {},
   "outputs": [],
   "source": [
    "# class BlackBodySource(tde_utils.BlackBodySource):\n",
    "    \n",
    "#     def _d_maglim(self, args):\n",
    "#         def d_maglim(z, args):\n",
    "            \n",
    "#             try:\n",
    "#                 filt, maglim = args\n",
    "\n",
    "#                 self.set(z=z)\n",
    "#                 luminosity_distance = cosmo.luminosity_distance(z)\n",
    "\n",
    "#                 filter_abs_mag = self.bandmag(filt, 'ab', 0)\n",
    "#                 app_mag = filter_abs_mag + 5*np.log10(luminosity_distance/(10 * u.parsec))\n",
    "                \n",
    "#                 return np.abs(app_mag - (maglim))\n",
    "#             except:\n",
    "#                 return 1000\n",
    "    \n",
    "#     def get_max_z(self, passband, maglim):\n",
    "        \n",
    "#         res = minimize(self.d_maglim, \n",
    "#                        args = [passband, maglim], \n",
    "#                        bounds = [[0.01, 40]],\n",
    "#                        x0=5)\n",
    "#         return res.x"
   ]
  },
  {
   "cell_type": "code",
   "execution_count": 12,
   "id": "49c26d3e",
   "metadata": {},
   "outputs": [],
   "source": [
    "def d_maglim(z, args):\n",
    "    try:\n",
    "        filt, maglim, model = args\n",
    "\n",
    "        model.set(z=z)\n",
    "        luminosity_distance = cosmo.luminosity_distance(z)\n",
    "\n",
    "        filter_abs_mag = model.bandmag(filt, 'ab', 0)\n",
    "        app_mag = filter_abs_mag + 5*np.log10(luminosity_distance/(10 * u.parsec))\n",
    "\n",
    "        return np.abs(app_mag - (maglim))\n",
    "    except:\n",
    "        return 1000"
   ]
  },
  {
   "cell_type": "code",
   "execution_count": 101,
   "id": "9bbbbd0b",
   "metadata": {},
   "outputs": [],
   "source": [
    "def get_max_z(model, passband, maglim):\n",
    "\n",
    "    res = minimize(d_maglim, \n",
    "                   args = [passband, maglim, model], \n",
    "                   bounds = [[0.01, 40]],\n",
    "                   x0=5,\n",
    "                  method = 'L-BFGS-B')\n",
    "    return res.x[0]"
   ]
  },
  {
   "cell_type": "code",
   "execution_count": 102,
   "id": "8fd04ac6",
   "metadata": {},
   "outputs": [],
   "source": [
    "def calc_volume(sq_degrees, z):\n",
    "    \n",
    "    sphere_area_sterad = 4*np.pi\n",
    "    sphere_area_degrees = sphere_area_sterad * ((180/np.pi)**2)\n",
    "    fractional_area = sq_degrees / sphere_area_degrees\n",
    "\n",
    "    total_volume = cosmo.comoving_volume(z)\n",
    "    \n",
    "    return total_volume * fractional_area"
   ]
  },
  {
   "cell_type": "code",
   "execution_count": 103,
   "id": "bb6c611d",
   "metadata": {},
   "outputs": [],
   "source": [
    "roman_filters = ['f062', 'f087', \n",
    "                 'f106', 'f129', \n",
    "                 'f158', 'f184', \n",
    "                 'f213', 'f146']\n",
    "\n",
    "\n",
    "hour_limits = [28.5, 28.2, 28.1, 28.0, 28.0, 27.4, 26.2, 28.4] # 1 hour point source limits\n",
    "minute_limits = [25.5, 25.1, 25.1, 25.0, 24.9, 24.4, 23.7, 25.9]"
   ]
  },
  {
   "cell_type": "code",
   "execution_count": 104,
   "id": "06c8486f",
   "metadata": {},
   "outputs": [],
   "source": [
    "wide_limits = {'f062': 26.4,\n",
    "               'f087': 25.6, \n",
    "               'f106': 25.5,\n",
    "               'f129': 25.4,\n",
    "               'f158': -1,\n",
    "               'f184': 0,\n",
    "               'f213': 0,\n",
    "               'f146': 0\n",
    "              }\n",
    "\n",
    "\n",
    "deep_limits = {'f062': 0, \n",
    "               'f087': 0,\n",
    "               'f106': 26.7,\n",
    "               'f129': 26.6,\n",
    "               'f158': 26.5,\n",
    "               'f184': 26.7,\n",
    "               'f213': 0,\n",
    "               'f146': 0\n",
    "              }\n",
    "\n",
    "hour_limits = dict(zip(roman_filters, hour_limits))\n",
    "minute_limits = dict(zip(roman_filters, minute_limits))"
   ]
  },
  {
   "cell_type": "code",
   "execution_count": 105,
   "id": "1d79d039",
   "metadata": {},
   "outputs": [],
   "source": [
    "tde_source = BlackBodySource(30000)\n",
    "tde_model = sncosmo.Model(source=tde_source)"
   ]
  },
  {
   "cell_type": "code",
   "execution_count": 107,
   "id": "547e6999",
   "metadata": {},
   "outputs": [
    {
     "data": {
      "application/vnd.jupyter.widget-view+json": {
       "model_id": "b33a65b360c5462794d4deef4acf14dc",
       "version_major": 2,
       "version_minor": 0
      },
      "text/plain": [
       "  0%|          | 0/8 [00:00<?, ?it/s]"
      ]
     },
     "metadata": {},
     "output_type": "display_data"
    }
   ],
   "source": [
    "max_zs = {}\n",
    "max_zs['Survey Depth'] = ['One minute limits', 'One hour limits', 'HLTDS Wide Limits', 'HLTDS Deep Limits']\n",
    "\n",
    "for filt in tqdm(roman_filters):\n",
    "    mags = []\n",
    "    for depth in [minute_limits, hour_limits, wide_limits, deep_limits]:\n",
    "        limit = depth[filt]\n",
    "        max_z = get_max_z(tde_model, filt, limit)\n",
    "        mags.append(max_z)\n",
    "    max_zs[filt] = mags"
   ]
  },
  {
   "cell_type": "code",
   "execution_count": 80,
   "id": "a785408e",
   "metadata": {},
   "outputs": [
    {
     "data": {
      "text/plain": [
       "{'Survey Depth': ['One minute limits',\n",
       "  'One hour limits',\n",
       "  'HLTDS Wide Limits',\n",
       "  'HLTDS Deep Limits'],\n",
       " 'f062': [array([ 3.48187185]),\n",
       "  array([ 8.27601365]),\n",
       "  array([ 4.91235146]),\n",
       "  array([ 0.01])],\n",
       " 'f087': [array([ 2.74442822]),\n",
       "  array([ 9.97302348]),\n",
       "  array([ 3.85575656]),\n",
       "  array([ 0.01])],\n",
       " 'f106': [array([ 2.37122817]),\n",
       "  array([ 11.18910736]),\n",
       "  array([ 3.37474539]),\n",
       "  array([ 7.07464982])],\n",
       " 'f129': [array([ 1.67024573]),\n",
       "  array([ 12.43029817]),\n",
       "  array([ 2.51069292]),\n",
       "  array([ 7.07918747])],\n",
       " 'f158': [array([ 1.12951184]),\n",
       "  array([ 14.02156439]),\n",
       "  array([ 0.01]),\n",
       "  array([ 6.44931608])],\n",
       " 'f184': [array([ 0.62296368]),\n",
       "  array([ 11.80508703]),\n",
       "  array([ 0.01]),\n",
       "  array([ 7.16807925])],\n",
       " 'f213': [array([ 0.34123361]),\n",
       "  array([ 2.67778318]),\n",
       "  array([ 0.01]),\n",
       "  array([ 0.01])],\n",
       " 'f146': [array([ 3.9143782]),\n",
       "  array([ 14.53156602]),\n",
       "  array([ 0.01]),\n",
       "  array([ 0.01])]}"
      ]
     },
     "execution_count": 80,
     "metadata": {},
     "output_type": "execute_result"
    }
   ],
   "source": [
    "max_zs"
   ]
  },
  {
   "cell_type": "code",
   "execution_count": 81,
   "id": "fd7de04d",
   "metadata": {},
   "outputs": [
    {
     "name": "stdout",
     "output_type": "stream",
     "text": [
      "Survey Depth          f062     f087      f106      f129      f158       f184      f213      f146\n",
      "-----------------  -------  -------  --------  --------  --------  ---------  --------  --------\n",
      "One minute limits  3.48187  2.74443   2.37123   1.67025   1.12951   0.622964  0.341234   3.91438\n",
      "One hour limits    8.27601  9.97302  11.1891   12.4303   14.0216   11.8051    2.67778   14.5316\n",
      "HLTDS Wide Limits  4.91235  3.85576   3.37475   2.51069   0.01      0.01      0.01       0.01\n",
      "HLTDS Deep Limits  0.01     0.01      7.07465   7.07919   6.44932   7.16808   0.01       0.01\n"
     ]
    }
   ],
   "source": [
    "print(tabulate(max_zs, headers='keys'))"
   ]
  },
  {
   "cell_type": "code",
   "execution_count": 82,
   "id": "aeec6480",
   "metadata": {},
   "outputs": [],
   "source": [
    "tde_rate = (5e-8 * u.year**(-1) * u.Mpc**(-3))"
   ]
  },
  {
   "cell_type": "code",
   "execution_count": 91,
   "id": "b204aa8d",
   "metadata": {
    "scrolled": false
   },
   "outputs": [
    {
     "name": "stdout",
     "output_type": "stream",
     "text": [
      "\n",
      "1 deg^2\n",
      "---------\n",
      "\n",
      "Survey Depth              f062         f087      f106      f129         f158         f184         f213         f146\n",
      "-----------------  -----------  -----------  --------  --------  -----------  -----------  -----------  -----------\n",
      "One minute limits  1.6993       1.23267      0.990932  0.547958  0.251879     0.0627425    0.0128218    1.9608\n",
      "One hour limits    4.024        4.60613      4.97093   5.30636   5.69093      5.14167      1.18961      5.80483\n",
      "HLTDS Wide Limits  2.52259      1.92597      1.63298   1.08136   4.08018e-07  4.08018e-07  4.08018e-07  4.08018e-07\n",
      "HLTDS Deep Limits  4.08018e-07  4.08018e-07  3.54864   3.55055   3.27643      3.58777      4.08018e-07  4.08018e-07\n",
      "\n",
      "5 deg^2\n",
      "---------\n",
      "\n",
      "Survey Depth               f062          f087      f106      f129          f158          f184         f213          f146\n",
      "-----------------  ------------  ------------  --------  --------  ------------  ------------  -----------  ------------\n",
      "One minute limits   8.4965        6.16337       4.95466   2.73979   1.25939       0.313713     0.064109      9.80401\n",
      "One hour limits    20.12         23.0307       24.8546   26.5318   28.4547       25.7084       5.94804      29.0241\n",
      "HLTDS Wide Limits  12.6129        9.62987       8.1649    5.40679   2.04009e-06   2.04009e-06  2.04009e-06   2.04009e-06\n",
      "HLTDS Deep Limits   2.04009e-06   2.04009e-06  17.7432   17.7527   16.3821       17.9388       2.04009e-06   2.04009e-06\n",
      "\n",
      "10 deg^2\n",
      "---------\n",
      "\n",
      "Survey Depth               f062          f087      f106      f129          f158          f184          f213          f146\n",
      "-----------------  ------------  ------------  --------  --------  ------------  ------------  ------------  ------------\n",
      "One minute limits  16.993        12.3267        9.90932   5.47958   2.51879       0.627425      0.128218     19.608\n",
      "One hour limits    40.24         46.0613       49.7093   53.0636   56.9093       51.4167       11.8961       58.0483\n",
      "HLTDS Wide Limits  25.2259       19.2597       16.3298   10.8136    4.08018e-06   4.08018e-06   4.08018e-06   4.08018e-06\n",
      "HLTDS Deep Limits   4.08018e-06   4.08018e-06  35.4864   35.5055   32.7643       35.8777        4.08018e-06   4.08018e-06\n",
      "\n",
      "15 deg^2\n",
      "---------\n",
      "\n",
      "Survey Depth               f062          f087     f106      f129          f158          f184          f213          f146\n",
      "-----------------  ------------  ------------  -------  --------  ------------  ------------  ------------  ------------\n",
      "One minute limits  25.4895       18.4901       14.864    8.21937   3.77818       0.941138      0.192327     29.412\n",
      "One hour limits    60.36         69.092        74.5639  79.5954   85.364        77.1251       17.8441       87.0724\n",
      "HLTDS Wide Limits  37.8388       28.8896       24.4947  16.2204    6.12027e-06   6.12027e-06   6.12027e-06   6.12027e-06\n",
      "HLTDS Deep Limits   6.12027e-06   6.12027e-06  53.2296  53.2582   49.1464       53.8165        6.12027e-06   6.12027e-06\n"
     ]
    }
   ],
   "source": [
    "for sq_degs in [1, 5, 10, 15]:\n",
    "    numbers = {}\n",
    "    numbers['Survey Depth'] = ['One minute limits', 'One hour limits', 'HLTDS Wide Limits', 'HLTDS Deep Limits']\n",
    "    print('\\n'+ str(sq_degs) + ' deg^2\\n---------\\n')\n",
    "    for filt in roman_filters:\n",
    "        nums = []\n",
    "        for depth in [minute_limits, hour_limits, wide_limits, deep_limits]:\n",
    "            limit = depth[filt]\n",
    "            max_z = get_max_z(tde_model, filt, limit)\n",
    "            volume = calc_volume(sq_degs, max_z)\n",
    "            num = tde_rate * volume\n",
    "            nums.append(num.value)\n",
    "        numbers[filt] = nums\n",
    "    \n",
    "    print(tabulate(numbers, headers='keys'))"
   ]
  },
  {
   "cell_type": "code",
   "execution_count": 92,
   "id": "ed31b808",
   "metadata": {},
   "outputs": [
    {
     "name": "stdout",
     "output_type": "stream",
     "text": [
      "TDEs with z>5\n",
      "\n",
      "\n",
      "1 deg^2\n",
      "---------\n",
      "\n",
      "Survey Depth          f062     f087      f106      f129      f158     f184    f213     f146\n",
      "-----------------  -------  -------  --------  --------  --------  -------  ------  -------\n",
      "One minute limits  0        0        0         0         0         0             0  0\n",
      "One hour limits    1.45489  2.03702  2.40182   2.73725   3.12182   2.57256       0  3.23572\n",
      "HLTDS Wide Limits  0        0        0         0         0         0             0  0\n",
      "HLTDS Deep Limits  0        0        0.979528  0.981438  0.707318  1.01866       0  0\n",
      "TDEs with z>5\n",
      "\n",
      "\n",
      "5 deg^2\n",
      "---------\n",
      "\n",
      "Survey Depth          f062     f087      f106      f129      f158     f184    f213     f146\n",
      "-----------------  -------  -------  --------  --------  --------  -------  ------  -------\n",
      "One minute limits  0         0        0         0         0         0            0   0\n",
      "One hour limits    7.27445  10.1851  12.0091   13.6863   15.6091   12.8628       0  16.1786\n",
      "HLTDS Wide Limits  0         0        0         0         0         0            0   0\n",
      "HLTDS Deep Limits  0         0        4.89764   4.90719   3.53659   5.0933       0   0\n",
      "TDEs with z>5\n",
      "\n",
      "\n",
      "10 deg^2\n",
      "---------\n",
      "\n",
      "Survey Depth          f062     f087      f106      f129      f158     f184    f213     f146\n",
      "-----------------  -------  -------  --------  --------  --------  -------  ------  -------\n",
      "One minute limits   0        0        0         0         0         0            0   0\n",
      "One hour limits    14.5489  20.3702  24.0182   27.3725   31.2182   25.7256       0  32.3572\n",
      "HLTDS Wide Limits   0        0        0         0         0         0            0   0\n",
      "HLTDS Deep Limits   0        0        9.79528   9.81438   7.07318  10.1866       0   0\n",
      "TDEs with z>5\n",
      "\n",
      "\n",
      "15 deg^2\n",
      "---------\n",
      "\n",
      "Survey Depth          f062     f087     f106     f129     f158     f184    f213     f146\n",
      "-----------------  -------  -------  -------  -------  -------  -------  ------  -------\n",
      "One minute limits   0        0        0        0        0        0            0   0\n",
      "One hour limits    21.8234  30.5553  36.0273  41.0588  46.8273  38.5884       0  48.5358\n",
      "HLTDS Wide Limits   0        0        0        0        0        0            0   0\n",
      "HLTDS Deep Limits   0        0       14.6929  14.7216  10.6098  15.2799       0   0\n"
     ]
    }
   ],
   "source": [
    "for sq_degs in [1, 5, 10, 15]:\n",
    "    numbers = {}\n",
    "    numbers['Survey Depth'] = ['One minute limits', 'One hour limits', 'HLTDS Wide Limits', 'HLTDS Deep Limits']\n",
    "    print('TDEs with z>5\\n')\n",
    "    print('\\n'+ str(sq_degs) + ' deg^2\\n---------\\n')\n",
    "    for filt in roman_filters:\n",
    "        nums = []\n",
    "        for depth in [minute_limits, hour_limits, wide_limits, deep_limits]:\n",
    "            limit = depth[filt]\n",
    "            max_z = get_max_z(tde_model, filt, limit)\n",
    "            volume = calc_volume(sq_degs, max_z)\n",
    "            if max_z > 5:\n",
    "                volume = volume - calc_volume(sq_degs, 5)\n",
    "            else:\n",
    "                volume = 0\n",
    "            num = tde_rate * volume\n",
    "            nums.append(num.value)\n",
    "        numbers[filt] = nums\n",
    "    \n",
    "    print(tabulate(numbers, headers='keys'))"
   ]
  },
  {
   "cell_type": "code",
   "execution_count": 93,
   "id": "4b5a6a78",
   "metadata": {},
   "outputs": [
    {
     "name": "stdout",
     "output_type": "stream",
     "text": [
      "Collecting latextable\n",
      "  Downloading latextable-0.3.0.tar.gz (7.4 kB)\n",
      "Collecting texttable\n",
      "  Downloading texttable-1.6.7-py2.py3-none-any.whl (10 kB)\n",
      "Building wheels for collected packages: latextable\n",
      "  Building wheel for latextable (setup.py) ... \u001b[?25ldone\n",
      "\u001b[?25h  Created wheel for latextable: filename=latextable-0.3.0-py3-none-any.whl size=7254 sha256=2a15d62aae43ec2671962211fe9dc00d35055af071fccdda6dec9fe5540367aa\n",
      "  Stored in directory: /Users/mitchell/Library/Caches/pip/wheels/12/63/28/b92eadfa978948d471ef8acb218675b6f434ea727b6bcc4eef\n",
      "Successfully built latextable\n",
      "Installing collected packages: texttable, latextable\n",
      "Successfully installed latextable-0.3.0 texttable-1.6.7\n"
     ]
    }
   ],
   "source": [
    "!pip install latextable"
   ]
  },
  {
   "cell_type": "code",
   "execution_count": 94,
   "id": "9075e13c",
   "metadata": {},
   "outputs": [],
   "source": [
    "import latextable\n",
    "import texttable"
   ]
  },
  {
   "cell_type": "code",
   "execution_count": 108,
   "id": "b8af3b84",
   "metadata": {},
   "outputs": [],
   "source": [
    "import pandas as pd\n",
    "df = pd.DataFrame(max_zs)"
   ]
  },
  {
   "cell_type": "code",
   "execution_count": 111,
   "id": "b7c78ffd",
   "metadata": {},
   "outputs": [
    {
     "name": "stdout",
     "output_type": "stream",
     "text": [
      "\\begin{tabular}{lrrrrrrrr}\n",
      "\\toprule\n",
      "      Survey Depth &      f062 &      f087 &       f106 &       f129 &       f158 &       f184 &      f213 &       f146 \\\\\n",
      "\\midrule\n",
      " One minute limits &  3.481872 &  2.744428 &   2.371228 &   1.670246 &   1.129512 &   0.622964 &  0.341234 &   3.914378 \\\\\n",
      "   One hour limits &  8.276014 &  9.973023 &  11.189107 &  12.430298 &  14.021564 &  11.805087 &  2.677783 &  14.531566 \\\\\n",
      " HLTDS Wide Limits &  4.912351 &  3.855757 &   3.374745 &   2.510693 &   0.010000 &   0.010000 &  0.010000 &   0.010000 \\\\\n",
      " HLTDS Deep Limits &  0.010000 &  0.010000 &   7.074650 &   7.079187 &   6.449316 &   7.168079 &  0.010000 &   0.010000 \\\\\n",
      "\\bottomrule\n",
      "\\end{tabular}\n",
      "\n"
     ]
    }
   ],
   "source": [
    "print(df.to_latex(index=False))"
   ]
  },
  {
   "cell_type": "code",
   "execution_count": null,
   "id": "cbd6e574",
   "metadata": {},
   "outputs": [],
   "source": []
  }
 ],
 "metadata": {
  "kernelspec": {
   "display_name": "Python 3 (ipykernel)",
   "language": "python",
   "name": "python3"
  },
  "language_info": {
   "codemirror_mode": {
    "name": "ipython",
    "version": 3
   },
   "file_extension": ".py",
   "mimetype": "text/x-python",
   "name": "python",
   "nbconvert_exporter": "python",
   "pygments_lexer": "ipython3",
   "version": "3.9.12"
  }
 },
 "nbformat": 4,
 "nbformat_minor": 5
}

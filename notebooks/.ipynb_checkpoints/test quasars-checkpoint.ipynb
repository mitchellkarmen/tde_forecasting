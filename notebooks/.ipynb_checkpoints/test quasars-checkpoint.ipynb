{
 "cells": [
  {
   "cell_type": "code",
   "execution_count": 1,
   "id": "4b5084e0",
   "metadata": {},
   "outputs": [
    {
     "name": "stderr",
     "output_type": "stream",
     "text": [
      "WARNING: AstropyDeprecationWarning: The update_default_config function is deprecated and may be removed in a future version. [sncosmo]\n"
     ]
    }
   ],
   "source": [
    "import numpy as np\n",
    "import sncosmo\n",
    "from astropy import units as u\n",
    "from astropy.cosmology import WMAP9 as cosmo\n",
    "from astropy import constants as const\n",
    "import sys\n",
    "sys.path.append('../')\n",
    "from scripts import tde_utils\n",
    "from tqdm.notebook import tqdm\n",
    "\n",
    "\n",
    "import matplotlib.pyplot as plt\n",
    "import seaborn as sns\n",
    "sns.set_context('paper')"
   ]
  },
  {
   "cell_type": "code",
   "execution_count": 2,
   "id": "7c9be930",
   "metadata": {},
   "outputs": [],
   "source": [
    "qso_source = tde_utils.QSOSource(r_mag = -25.)\n"
   ]
  },
  {
   "cell_type": "code",
   "execution_count": null,
   "id": "42d646a6",
   "metadata": {},
   "outputs": [],
   "source": [
    "model = sncosmo.Model(source=qso_source)\n",
    "model.set(z = 0)\n",
    "wave = qso_source._wave\n",
    "flux = model.flux(0, wave=wave)\n",
    "plt.plot(wave, flux)"
   ]
  },
  {
   "cell_type": "code",
   "execution_count": null,
   "id": "3218b6f4",
   "metadata": {},
   "outputs": [],
   "source": [
    "model.minwave(), model.maxwave()"
   ]
  },
  {
   "cell_type": "code",
   "execution_count": 12,
   "id": "c720e643",
   "metadata": {},
   "outputs": [
    {
     "data": {
      "text/plain": [
       "array([  800.5,   801.5,   802.5, ...,  8552.5,  8553.5,  8554.5])"
      ]
     },
     "execution_count": 12,
     "metadata": {},
     "output_type": "execute_result"
    }
   ],
   "source": [
    "qso_source._wave"
   ]
  },
  {
   "cell_type": "code",
   "execution_count": null,
   "id": "5f4673f8",
   "metadata": {},
   "outputs": [],
   "source": []
  }
 ],
 "metadata": {
  "kernelspec": {
   "display_name": "Python 3 (ipykernel)",
   "language": "python",
   "name": "python3"
  },
  "language_info": {
   "codemirror_mode": {
    "name": "ipython",
    "version": 3
   },
   "file_extension": ".py",
   "mimetype": "text/x-python",
   "name": "python",
   "nbconvert_exporter": "python",
   "pygments_lexer": "ipython3",
   "version": "3.9.12"
  }
 },
 "nbformat": 4,
 "nbformat_minor": 5
}

{
 "cells": [
  {
   "cell_type": "code",
   "execution_count": 1,
   "id": "0f8e5662",
   "metadata": {
    "scrolled": true
   },
   "outputs": [
    {
     "name": "stderr",
     "output_type": "stream",
     "text": [
      "WARNING: AstropyDeprecationWarning: The update_default_config function is deprecated and may be removed in a future version. [sncosmo]\n"
     ]
    }
   ],
   "source": [
    "import numpy as np\n",
    "import sncosmo\n",
    "import matplotlib.pyplot as plt\n",
    "from astropy import units as u\n",
    "from astropy.cosmology import WMAP9 as cosmo\n",
    "from astropy import constants as const\n",
    "import sys\n",
    "sys.path.append('../')\n",
    "from scripts import tde_utils"
   ]
  },
  {
   "cell_type": "code",
   "execution_count": 2,
   "id": "032863c3",
   "metadata": {},
   "outputs": [],
   "source": [
    "import seaborn as sns\n",
    "sns.set_context('paper')"
   ]
  },
  {
   "cell_type": "code",
   "execution_count": 3,
   "id": "3ee5fb14",
   "metadata": {},
   "outputs": [],
   "source": [
    "jwst_filters =['f070w', \n",
    "               'f115w', \n",
    "               'f150w',\n",
    "               'f277w',\n",
    "               'f356w',\n",
    "               'f444w',\n",
    "               'f140m',\n",
    "               'f182m',\n",
    "               'f250m',\n",
    "               'f335m',\n",
    "               'f410m',\n",
    "               'f480m'\n",
    "              ]"
   ]
  },
  {
   "cell_type": "code",
   "execution_count": 4,
   "id": "dc35023f",
   "metadata": {},
   "outputs": [],
   "source": [
    "def d_maglim(z, args):\n",
    "    try:\n",
    "        filt, maglim = args\n",
    "        source = tde_utils.BlackBodySource(30000)\n",
    "        bb_model = sncosmo.Model(source=source)\n",
    "        bb_model.set(z=z)\n",
    "        luminosity_distance = cosmo.luminosity_distance(z)\n",
    "        \n",
    "        filter_abs_mag = bb_model.bandmag(filt, 'ab', 0)\n",
    "        app_mag = filter_abs_mag + 5*np.log10(luminosity_distance/(10 * u.parsec))\n",
    "        #print(np.abs(app_mag - (maglim-1)))\n",
    "        return np.abs(app_mag - (maglim))\n",
    "    except:\n",
    "        return 1000"
   ]
  },
  {
   "cell_type": "code",
   "execution_count": 5,
   "id": "91b3dc08",
   "metadata": {},
   "outputs": [],
   "source": [
    "from scipy.optimize import minimize"
   ]
  },
  {
   "cell_type": "code",
   "execution_count": 41,
   "id": "ada51810",
   "metadata": {},
   "outputs": [],
   "source": [
    "maglim = 26.7\n",
    "\n",
    "z_lims = {}\n",
    "for filt in jwst_filters:\n",
    "    res = minimize(d_maglim, \n",
    "                   args = [filt, maglim], \n",
    "                   bounds = [[0.01, 25]],\n",
    "                   x0=2)\n",
    "    z_lims[filt] = res.x[0]"
   ]
  },
  {
   "cell_type": "code",
   "execution_count": 44,
   "id": "9e716692",
   "metadata": {},
   "outputs": [
    {
     "data": {
      "text/plain": [
       "{'f070w': 5.7668604204152123,\n",
       " 'f115w': 7.2787094606093445,\n",
       " 'f150w': 7.5889344005275774,\n",
       " 'f277w': 2.9353922533228864,\n",
       " 'f356w': 1.4576834828819554,\n",
       " 'f444w': 0.94442263218006994,\n",
       " 'f140m': 7.5997848533668089,\n",
       " 'f182m': 7.1725675716063524,\n",
       " 'f250m': 4.1343816386805852,\n",
       " 'f335m': 1.6453480769658038,\n",
       " 'f410m': 1.0852399486154769,\n",
       " 'f480m': 0.81178253488624219}"
      ]
     },
     "execution_count": 44,
     "metadata": {},
     "output_type": "execute_result"
    }
   ],
   "source": [
    "z_lims"
   ]
  },
  {
   "cell_type": "code",
   "execution_count": 45,
   "id": "447699a4",
   "metadata": {},
   "outputs": [],
   "source": [
    "## TDE Rate: 5×10−8/𝑦𝑟/𝑀𝑝𝑐3\n",
    "tde_rate = (5e-8 * u.year**(-1) * u.Mpc**(-3))\n",
    "\n",
    "snia_rate = 2.4e-5 * u.year**(-1) * u.Mpc**(-3) # https://arxiv.org/abs/1903.08580"
   ]
  },
  {
   "cell_type": "code",
   "execution_count": 46,
   "id": "fd63eb7e",
   "metadata": {},
   "outputs": [],
   "source": [
    "def calc_volume(sq_degrees, z):\n",
    "    \n",
    "    sphere_area_sterad = 4*np.pi\n",
    "    sphere_area_degrees = sphere_area_sterad * ((180/np.pi)**2)\n",
    "    fractional_area = sq_degrees / sphere_area_degrees\n",
    "\n",
    "    total_volume = cosmo.comoving_volume(z)\n",
    "    \n",
    "    return total_volume * fractional_area"
   ]
  },
  {
   "cell_type": "code",
   "execution_count": 47,
   "id": "757cb6f5",
   "metadata": {},
   "outputs": [],
   "source": [
    "sq_degs = 1\n",
    "filter_volumes = {filt: calc_volume(sq_degs, filtz) for filt, filtz in z_lims.items()}"
   ]
  },
  {
   "cell_type": "code",
   "execution_count": 48,
   "id": "275c0743",
   "metadata": {},
   "outputs": [
    {
     "data": {
      "text/plain": [
       "{'f070w': <Quantity 59149018.77174914 Mpc3>,\n",
       " 'f115w': <Quantity 72672197.18354681 Mpc3>,\n",
       " 'f150w': <Quantity 75187171.9742035 Mpc3>,\n",
       " 'f277w': <Quantity 27109536.65247382 Mpc3>,\n",
       " 'f356w': <Quantity 8477006.615104115 Mpc3>,\n",
       " 'f444w': <Quantity 3397037.3904661345 Mpc3>,\n",
       " 'f140m': <Quantity 75273677.16089864 Mpc3>,\n",
       " 'f182m': <Quantity 71792797.47990133 Mpc3>,\n",
       " 'f250m': <Quantity 41794603.17236377 Mpc3>,\n",
       " 'f335m': <Quantity 10660771.492272481 Mpc3>,\n",
       " 'f410m': <Quantity 4622233.783187552 Mpc3>,\n",
       " 'f480m': <Quantity 2393392.4879991803 Mpc3>}"
      ]
     },
     "execution_count": 48,
     "metadata": {},
     "output_type": "execute_result"
    }
   ],
   "source": [
    "filter_volumes"
   ]
  },
  {
   "cell_type": "code",
   "execution_count": 49,
   "id": "cb936ede",
   "metadata": {},
   "outputs": [
    {
     "data": {
      "text/plain": [
       "{'f070w': 2.9574509385874568,\n",
       " 'f115w': 3.6336098591773403,\n",
       " 'f150w': 3.7593585987101745,\n",
       " 'f277w': 1.3554768326236908,\n",
       " 'f356w': 0.42385033075520573,\n",
       " 'f444w': 0.16985186952330672,\n",
       " 'f140m': 3.7636838580449319,\n",
       " 'f182m': 3.5896398739950661,\n",
       " 'f250m': 2.0897301586181887,\n",
       " 'f335m': 0.53303857461362403,\n",
       " 'f410m': 0.2311116891593776,\n",
       " 'f480m': 0.11966962439995901}"
      ]
     },
     "execution_count": 49,
     "metadata": {},
     "output_type": "execute_result"
    }
   ],
   "source": [
    "{filt: (tde_rate * calc_volume(sq_degs, filtz)).value for filt, filtz in z_lims.items()}"
   ]
  },
  {
   "cell_type": "code",
   "execution_count": 36,
   "id": "3cbb3d28",
   "metadata": {},
   "outputs": [
    {
     "data": {
      "text/plain": [
       "1500.0"
      ]
     },
     "execution_count": 36,
     "metadata": {},
     "output_type": "execute_result"
    }
   ],
   "source": [
    "0.15*10000"
   ]
  }
 ],
 "metadata": {
  "kernelspec": {
   "display_name": "Python 3 (ipykernel)",
   "language": "python",
   "name": "python3"
  },
  "language_info": {
   "codemirror_mode": {
    "name": "ipython",
    "version": 3
   },
   "file_extension": ".py",
   "mimetype": "text/x-python",
   "name": "python",
   "nbconvert_exporter": "python",
   "pygments_lexer": "ipython3",
   "version": "3.9.12"
  }
 },
 "nbformat": 4,
 "nbformat_minor": 5
}

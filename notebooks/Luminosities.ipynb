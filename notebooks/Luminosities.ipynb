{
 "cells": [
  {
   "cell_type": "code",
   "execution_count": 1,
   "id": "f59114ab",
   "metadata": {},
   "outputs": [
    {
     "name": "stderr",
     "output_type": "stream",
     "text": [
      "WARNING: AstropyDeprecationWarning: The update_default_config function is deprecated and may be removed in a future version. [sncosmo]\n"
     ]
    }
   ],
   "source": [
    "import numpy as np\n",
    "import sncosmo\n",
    "from astropy import constants as const\n",
    "from astropy import units as u\n",
    "from astropy.cosmology import WMAP9 as cosmo\n",
    "import yaml\n",
    "import matplotlib.pyplot as plt\n",
    "\n",
    "c = const.c.cgs\n",
    "h = const.h.cgs\n",
    "k_B = const.k_B.cgs\n",
    "with open ('../scripts/CONFIG.yml', 'r') as config_file:\n",
    "    config = yaml.safe_load(config_file)\n",
    "\n",
    "base_dir = config['base_dir']\n"
   ]
  },
  {
   "cell_type": "code",
   "execution_count": 2,
   "id": "ec40e28e",
   "metadata": {},
   "outputs": [],
   "source": [
    "lbda_g = 4.686e-5\n",
    "nu_g = c.value/lbda_g\n",
    "L_g = np.array([10**42.3, 10**42.7])\n",
    "z = np.array([0.326, 0.370])"
   ]
  },
  {
   "cell_type": "code",
   "execution_count": 3,
   "id": "36c54c92",
   "metadata": {},
   "outputs": [
    {
     "data": {
      "text/plain": [
       "array([-17.14010924, -18.14010924])"
      ]
     },
     "execution_count": 3,
     "metadata": {},
     "output_type": "execute_result"
    }
   ],
   "source": [
    "parsec = 3.08568e18 # cm\n",
    "parsec_in_cm = parsec \n",
    "abs_const = 4*np.pi* 3631e-23 *  (10*parsec_in_cm)**2\n",
    "-2.5*np.log10(L_g/(abs_const*nu_g))"
   ]
  },
  {
   "cell_type": "code",
   "execution_count": 4,
   "id": "90ad079f",
   "metadata": {},
   "outputs": [],
   "source": [
    "def lum_to_mag(L_g):\n",
    "    parsec = 3.08568e18 # cm\n",
    "    abs_const = 4*np.pi* 3631e-23 *  (10*parsec_in_cm)**2\n",
    "    return -2.5*np.log10(L_g/(abs_const*nu_g))\n",
    "\n",
    "def mag_to_lum(M):\n",
    "    parsec = 3.08568e18\n",
    "    abs_const = 4*np.pi* 3631e-23 *  (10*parsec_in_cm)**2\n",
    "    return (abs_const*nu_g)*10**(M/(-2.5))"
   ]
  },
  {
   "cell_type": "code",
   "execution_count": 5,
   "id": "2a7d3130",
   "metadata": {},
   "outputs": [
    {
     "data": {
      "text/plain": [
       "1.7537040414985433e+43"
      ]
     },
     "execution_count": 5,
     "metadata": {},
     "output_type": "execute_result"
    }
   ],
   "source": [
    "mag_to_lum(-19.5)"
   ]
  },
  {
   "cell_type": "code",
   "execution_count": 6,
   "id": "9b679b49",
   "metadata": {},
   "outputs": [],
   "source": [
    "# z = np.array([0.212, 0.340, 0.0914, 0.326])\n",
    "# d = np.array([cosmo.luminosity_distance(a).to('cm').value for a in z])\n",
    "# pc_to_cm = 3.086e19 # 10 parsec in cm\n",
    "# f_g = L_g * (1+z) / (4 * np.pi * d**2)\n",
    "# f_nu = f_g / (nu_g/(1+z))\n",
    "# m = -2.5*np.log10(f_nu) - 48.6\n",
    "# m_abs = m - 5*np.log10(d/pc_to_cm)\n",
    "# print(m, m_abs)"
   ]
  },
  {
   "cell_type": "code",
   "execution_count": 7,
   "id": "6b5a3c95",
   "metadata": {},
   "outputs": [],
   "source": [
    "# def lum_function(L_BB):\n",
    "#     L_BK = 1.46e44 #erg s^-1 Hz^-1\n",
    "#     coeff = 5.72e-8 #Mpc^-3 yr^-1\n",
    "#     ratio = L_BB/L_BK\n",
    "    \n",
    "#     return coeff * ( (ratio**0.84) + (ratio**1.93) )**-1\n",
    "\n",
    "def lum_function(L_BB):\n",
    "    L0 = 1e43 #erg s^-1 Hz^-1\n",
    "    coeff = 9.43e-7 #Mpc^-3 yr^-1\n",
    "    ratio = L_BB/L0\n",
    "    \n",
    "    return coeff * (ratio**-1.41)"
   ]
  },
  {
   "cell_type": "code",
   "execution_count": 8,
   "id": "a8a393eb",
   "metadata": {},
   "outputs": [],
   "source": [
    "x = np.logspace(42.5, 44.6, 100)\n",
    "y = lum_function(x)"
   ]
  },
  {
   "cell_type": "code",
   "execution_count": 9,
   "id": "022dede1",
   "metadata": {},
   "outputs": [
    {
     "data": {
      "text/plain": [
       "Text(0, 0.5, 'rate [Mpc$^{-3}$yr$^{-1}$dex$^{-1}$]')"
      ]
     },
     "execution_count": 9,
     "metadata": {},
     "output_type": "execute_result"
    },
    {
     "data": {
      "image/png": "[encoded data removed]",
      "text/plain": [
       "<Figure size 640x480 with 1 Axes>"
      ]
     },
     "metadata": {},
     "output_type": "display_data"
    }
   ],
   "source": [
    "plt.plot(x, y)\n",
    "plt.xscale('log')\n",
    "plt.xlabel('L')\n",
    "plt.ylabel('rate [Mpc$^{-3}$yr$^{-1}$dex$^{-1}$]')"
   ]
  },
  {
   "cell_type": "code",
   "execution_count": 10,
   "id": "fc4694e4",
   "metadata": {},
   "outputs": [],
   "source": [
    "x = np.logspace(43, 45, 100)\n",
    "y = lum_function(x)"
   ]
  },
  {
   "cell_type": "code",
   "execution_count": 11,
   "id": "b7e59ede",
   "metadata": {},
   "outputs": [
    {
     "data": {
      "text/plain": [
       "[0.0,\n",
       " 0.0,\n",
       " 1.8445802892044362e-08,\n",
       " 3.57205904442016e-08,\n",
       " 5.1898703520584625e-08,\n",
       " 6.70497635218725e-08,\n",
       " 8.123897199623605e-08,\n",
       " 9.4527391229731e-08,\n",
       " 1.0697220702365634e-07,\n",
       " 1.1862697478974748e-07,\n",
       " 1.2954185002219342e-07,\n",
       " 1.3976380413838582e-07,\n",
       " 1.493368266171895e-07,\n",
       " 1.583021143046495e-07,\n",
       " 1.666982487017941e-07,\n",
       " 1.7456136199747983e-07,\n",
       " 1.8192529256078963e-07,\n",
       " 1.8882173056213463e-07,\n",
       " 1.9528035434973032e-07,\n",
       " 2.0132895816833369e-07,\n",
       " 2.069935717698685e-07,\n",
       " 2.1229857243068626e-07,\n",
       " 2.1726678985749212e-07,\n",
       " 2.2191960443343085e-07,\n",
       " 2.2627703922709807e-07,\n",
       " 2.3035784616044358e-07,\n",
       " 2.3417958670638202e-07,\n",
       " 2.3775870746338772e-07,\n",
       " 2.4111061093230403e-07,\n",
       " 2.442497217999498e-07,\n",
       " 2.471895490147704e-07,\n",
       " 2.4994274392167134e-07,\n",
       " 2.5252115470621403e-07,\n",
       " 2.5493587738246905e-07,\n",
       " 2.5719730354395583e-07,\n",
       " 2.5931516508314767e-07,\n",
       " 2.6129857607200755e-07,\n",
       " 2.631560719837711e-07,\n",
       " 2.6489564642477064e-07,\n",
       " 2.6652478553437215e-07,\n",
       " 2.680505002010628e-07,\n",
       " 2.69479356233329e-07,\n",
       " 2.708175026151632e-07,\n",
       " 2.7207069796779514e-07,\n",
       " 2.732443353315232e-07,\n",
       " 2.743434653742938e-07,\n",
       " 2.7537281812690567e-07,\n",
       " 2.763368233383713e-07,\n",
       " 2.772396295390395e-07,\n",
       " 2.780851218935111e-07,\n",
       " 2.788769389201784e-07,\n",
       " 2.796184881493398e-07,\n",
       " 2.803129607872727e-07,\n",
       " 2.809633454493712e-07,\n",
       " 2.815724410214473e-07,\n",
       " 2.821428687045444e-07,\n",
       " 2.8267708329509616e-07,\n",
       " 2.831773837489747e-07,\n",
       " 2.836459230748896e-07,\n",
       " 2.8408471759971367e-07,\n",
       " 2.8449565564560677e-07,\n",
       " 2.848805056562812e-07,\n",
       " 2.85240923807378e-07,\n",
       " 2.855784611337051e-07,\n",
       " 2.858945702040096e-07,\n",
       " 2.861906113720075e-07,\n",
       " 2.864678586305729e-07,\n",
       " 2.8672750509427877e-07,\n",
       " 2.8697066813388396e-07,\n",
       " 2.871983941848616e-07,\n",
       " 2.874116632506622e-07,\n",
       " 2.876113931200919e-07,\n",
       " 2.87798443316953e-07,\n",
       " 2.879736187989462e-07,\n",
       " 2.881376734217506e-07,\n",
       " 2.882913131831902e-07,\n",
       " 2.8843519926144695e-07,\n",
       " 2.885699508603958e-07,\n",
       " 2.886961478743062e-07,\n",
       " 2.8881433338337706e-07,\n",
       " 2.889250159908457e-07,\n",
       " 2.8902867201172637e-07,\n",
       " 2.8912574752259977e-07,\n",
       " 2.8921666028127285e-07,\n",
       " 2.8930180152457084e-07,\n",
       " 2.8938153765199814e-07,\n",
       " 2.894562118025136e-07,\n",
       " 2.895261453312053e-07,\n",
       " 2.895916391922203e-07,\n",
       " 2.8965297523390015e-07,\n",
       " 2.8971041741169586e-07,\n",
       " 2.897642129240822e-07,\n",
       " 2.898145932763592e-07,\n",
       " 2.898617752769195e-07,\n",
       " 2.8990596197026835e-07,\n",
       " 2.899473435108118e-07,\n",
       " 2.899860979811731e-07,\n",
       " 2.9002239215855895e-07,\n",
       " 2.9005638223247385e-07,\n",
       " 2.9008821447687103e-07]"
      ]
     },
     "execution_count": 11,
     "metadata": {},
     "output_type": "execute_result"
    }
   ],
   "source": [
    "from scipy import integrate\n",
    "y_int = [integrate.trapezoid(y[:i], np.log10(x[:i])) for i in range(len(y))]\n",
    "y_int"
   ]
  },
  {
   "cell_type": "code",
   "execution_count": 41,
   "id": "00e57bef",
   "metadata": {},
   "outputs": [
    {
     "data": {
      "text/plain": [
       "Text(0, 0.5, 'volumetric rate [Mpc$^{-3}$yr$^{-1}$]')"
      ]
     },
     "execution_count": 41,
     "metadata": {},
     "output_type": "execute_result"
    },
    {
     "data": {
      "image/png": "[encoded data removed]",
      "text/plain": [
       "<Figure size 640x480 with 1 Axes>"
      ]
     },
     "metadata": {},
     "output_type": "display_data"
    }
   ],
   "source": [
    "plt.plot(x, y_int)\n",
    "plt.xlabel('L')\n",
    "plt.ylabel('volumetric rate [Mpc$^{-3}$yr$^{-1}$]')"
   ]
  },
  {
   "cell_type": "code",
   "execution_count": 65,
   "id": "6f119d3c",
   "metadata": {},
   "outputs": [
    {
     "data": {
      "image/png": "[encoded data removed]",
      "text/plain": [
       "<Figure size 640x480 with 1 Axes>"
      ]
     },
     "metadata": {},
     "output_type": "display_data"
    }
   ],
   "source": [
    "fig, ax = plt.subplots()\n",
    "\n",
    "\n",
    "ax.plot(lum_to_mag(x), y_int)\n",
    "ax.invert_xaxis()\n",
    "ax.set_xlabel('M$_{\\\\rm{abs}}$ (AB)')\n",
    "ax.set_ylabel('integrated rate [Mpc$^{-3}$yr$^{-1}$]')\n",
    "ax2 = ax.secondary_xaxis(\"top\", functions=(mag_to_lum, lum_to_mag))\n",
    "ax2.set_xscale('log')\n",
    "ax2.set_xlabel('Log Luminosity (erg/s)')\n",
    "\n",
    "plt.savefig('../figures/ab_mag.png', dpi = 300)\n",
    "plt.show()"
   ]
  },
  {
   "cell_type": "code",
   "execution_count": 18,
   "id": "808895b8",
   "metadata": {},
   "outputs": [],
   "source": [
    "def int_lum_function(L_BB):\n",
    "    L0 = 1e43 #erg s^-1 Hz^-1\n",
    "    coeff = 9.43e-7 #Mpc^-3 yr^-1\n",
    "    ratio = L_BB/L0\n",
    "    ratio_lower = 1\n",
    "    const = coeff * L0* (1/-0.41)\n",
    "    \n",
    "    return coeff * L0* (1/-0.41) *(ratio**-0.41) - const"
   ]
  },
  {
   "cell_type": "code",
   "execution_count": 19,
   "id": "50a91eec",
   "metadata": {},
   "outputs": [
    {
     "data": {
      "text/plain": [
       "1.951880912859672e+37"
      ]
     },
     "execution_count": 19,
     "metadata": {},
     "output_type": "execute_result"
    }
   ],
   "source": [
    "int_lum_function(1e45)"
   ]
  },
  {
   "cell_type": "code",
   "execution_count": null,
   "id": "a879c4ea",
   "metadata": {},
   "outputs": [],
   "source": []
  }
 ],
 "metadata": {
  "kernelspec": {
   "display_name": "Python 3 (ipykernel)",
   "language": "python",
   "name": "python3"
  },
  "language_info": {
   "codemirror_mode": {
    "name": "ipython",
    "version": 3
   },
   "file_extension": ".py",
   "mimetype": "text/x-python",
   "name": "python",
   "nbconvert_exporter": "python",
   "pygments_lexer": "ipython3",
   "version": "3.9.16"
  }
 },
 "nbformat": 4,
 "nbformat_minor": 5
}

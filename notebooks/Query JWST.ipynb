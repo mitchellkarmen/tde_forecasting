{
 "cells": [
  {
   "cell_type": "code",
   "execution_count": 5,
   "id": "ea64e71f",
   "metadata": {},
   "outputs": [],
   "source": [
    "import os\n",
    "import numpy as np\n",
    "from astroquery.mast import Observations"
   ]
  },
  {
   "cell_type": "code",
   "execution_count": 6,
   "id": "43ffacbd",
   "metadata": {},
   "outputs": [
    {
     "name": "stderr",
     "output_type": "stream",
     "text": [
      "INFO:astroquery:Using the S3 STScI public dataset\n"
     ]
    },
    {
     "name": "stdout",
     "output_type": "stream",
     "text": [
      "INFO: Using the S3 STScI public dataset [astroquery.mast.cloud]\n"
     ]
    }
   ],
   "source": [
    "Observations.enable_cloud_dataset(provider='AWS')"
   ]
  },
  {
   "cell_type": "code",
   "execution_count": 7,
   "id": "70a025cd",
   "metadata": {},
   "outputs": [],
   "source": [
    "obs_table = Observations.query_criteria(obs_collection='JWST', \n",
    "                                        proposal_id=['1837'], \n",
    "                                        dataRights='PUBLIC', \n",
    "                                        calib_level = [0, 1, 2, 3, 4]\n",
    "                                       )"
   ]
  },
  {
   "cell_type": "code",
   "execution_count": 8,
   "id": "133d087a",
   "metadata": {},
   "outputs": [
    {
     "data": {
      "text/html": [
       "<div><i>Table masked=True length=2169</i>\n",
       "<table id=\"table5186385424\" class=\"table-striped table-bordered table-condensed\">\n",
       "<thead><tr><th>intentType</th><th>obs_collection</th><th>provenance_name</th><th>instrument_name</th><th>project</th><th>filters</th><th>wavelength_region</th><th>target_name</th><th>target_classification</th><th>obs_id</th><th>s_ra</th><th>s_dec</th><th>dataproduct_type</th><th>proposal_pi</th><th>calib_level</th><th>t_min</th><th>t_max</th><th>t_exptime</th><th>em_min</th><th>em_max</th><th>obs_title</th><th>t_obs_release</th><th>proposal_id</th><th>proposal_type</th><th>sequence_number</th><th>s_region</th><th>jpegURL</th><th>dataURL</th><th>dataRights</th><th>mtFlag</th><th>srcDen</th><th>obsid</th><th>objID</th></tr></thead>\n",
       "<thead><tr><th>str7</th><th>str4</th><th>str7</th><th>str12</th><th>str4</th><th>str6</th><th>str8</th><th>str13</th><th>str1</th><th>str36</th><th>float64</th><th>float64</th><th>str5</th><th>str16</th><th>int64</th><th>float64</th><th>float64</th><th>float64</th><th>float64</th><th>float64</th><th>str57</th><th>float64</th><th>str4</th><th>str2</th><th>int64</th><th>str111</th><th>str68</th><th>str66</th><th>str6</th><th>bool</th><th>float64</th><th>str9</th><th>str9</th></tr></thead>\n",
       "<tr><td>science</td><td>JWST</td><td>CALJWST</td><td>MIRI/IMAGE</td><td>JWST</td><td>F770W</td><td>Infrared</td><td>UDS-1-TILE-19</td><td>--</td><td>jw01837-o025_t029_miri_f770w</td><td>34.35498208333333</td><td>-5.110880555555582</td><td>image</td><td>Dunlop, James S.</td><td>3</td><td>59964.64016405787</td><td>59964.6664378125</td><td>1776.024</td><td>6600.0</td><td>8800.0</td><td>PRIMER: Public Release IMaging for Extragalactic Research</td><td>59964.88201384</td><td>1837</td><td>GO</td><td>--</td><td>POLYGON 34.336576051 -5.10619597 34.366463572 -5.095850296 34.377064729 -5.126230211 34.347175961 -5.136576376</td><td>mast:JWST/product/jw01837-o025_t029_miri_f770w_i2d.jpg</td><td>mast:JWST/product/jw01837-o025_t029_miri_f770w_i2d.fits</td><td>PUBLIC</td><td>False</td><td>nan</td><td>110500481</td><td>232279308</td></tr>\n",
       "<tr><td>science</td><td>JWST</td><td>CALJWST</td><td>NIRCAM/IMAGE</td><td>JWST</td><td>F090W</td><td>Infrared</td><td>UDS-1-TILE-19</td><td>--</td><td>jw01837-o025_t029_nircam_clear-f090w</td><td>34.35498208333333</td><td>-5.110880555555582</td><td>image</td><td>Dunlop, James S.</td><td>3</td><td>59964.64008859028</td><td>59964.65127560185</td><td>6699.744</td><td>795.0</td><td>1004.9999999999999</td><td>PRIMER: Public Release IMaging for Extragalactic Research</td><td>59964.80084476</td><td>1837</td><td>GO</td><td>--</td><td>POLYGON 34.341782707 -5.207313923 34.376321935 -5.19260806 34.410344641 -5.271843771 34.375801834 -5.2865515</td><td>mast:JWST/product/jw01837-o025_t029_nircam_clear-f090w_i2d.jpg</td><td>mast:JWST/product/jw01837-o025_t029_nircam_clear-f090w_i2d.fits</td><td>PUBLIC</td><td>False</td><td>nan</td><td>110477931</td><td>232279319</td></tr>\n",
       "<tr><td>science</td><td>JWST</td><td>CALJWST</td><td>NIRCAM/IMAGE</td><td>JWST</td><td>F150W</td><td>Infrared</td><td>UDS-1-TILE-19</td><td>--</td><td>jw01837-o025_t029_nircam_clear-f150w</td><td>34.35498208333333</td><td>-5.110880555555582</td><td>image</td><td>Dunlop, James S.</td><td>3</td><td>59964.67053374074</td><td>59964.68159706018</td><td>6699.744</td><td>1331.0</td><td>1668.0</td><td>PRIMER: Public Release IMaging for Extragalactic Research</td><td>59964.80084476</td><td>1837</td><td>GO</td><td>--</td><td>POLYGON 34.340962015 -5.20775354 34.3754588 -5.192313035 34.410910955 -5.27085306 34.376410709 -5.286295507</td><td>mast:JWST/product/jw01837-o025_t029_nircam_clear-f150w_i2d.jpg</td><td>mast:JWST/product/jw01837-o025_t029_nircam_clear-f150w_i2d.fits</td><td>PUBLIC</td><td>False</td><td>nan</td><td>110477942</td><td>232279326</td></tr>\n",
       "<tr><td>science</td><td>JWST</td><td>CALJWST</td><td>NIRCAM/IMAGE</td><td>JWST</td><td>F444W</td><td>Infrared</td><td>UDS-1-TILE-19</td><td>--</td><td>jw01837-o025_t029_nircam_clear-f444w</td><td>34.35498208333333</td><td>-5.110880555555582</td><td>image</td><td>Dunlop, James S.</td><td>3</td><td>59964.6855707662</td><td>59964.69675777778</td><td>1674.936</td><td>3880.0</td><td>4986.0</td><td>PRIMER: Public Release IMaging for Extragalactic Research</td><td>59964.80084476</td><td>1837</td><td>GO</td><td>--</td><td>POLYGON 34.341602322 -5.207610478 34.375465361 -5.192617135 34.41033633 -5.270712154 34.376469895 -5.28570737</td><td>mast:JWST/product/jw01837-o025_t029_nircam_clear-f444w_i2d.jpg</td><td>mast:JWST/product/jw01837-o025_t029_nircam_clear-f444w_i2d.fits</td><td>PUBLIC</td><td>False</td><td>nan</td><td>110477961</td><td>232279334</td></tr>\n",
       "<tr><td>science</td><td>JWST</td><td>CALJWST</td><td>NIRCAM/IMAGE</td><td>JWST</td><td>F115W</td><td>Infrared</td><td>UDS-1-TILE-19</td><td>--</td><td>jw01837-o025_t029_nircam_clear-f115w</td><td>34.35498208333333</td><td>-5.110880555555582</td><td>image</td><td>Dunlop, James S.</td><td>3</td><td>59964.655124875</td><td>59964.66631188658</td><td>6699.744</td><td>1013.0000000000001</td><td>1282.0</td><td>PRIMER: Public Release IMaging for Extragalactic Research</td><td>59964.80084476</td><td>1837</td><td>GO</td><td>--</td><td>POLYGON 34.34096105 -5.207754013 34.375457867 -5.192313577 34.410909861 -5.270853675 34.376409583 -5.286296052</td><td>mast:JWST/product/jw01837-o025_t029_nircam_clear-f115w_i2d.jpg</td><td>mast:JWST/product/jw01837-o025_t029_nircam_clear-f115w_i2d.fits</td><td>PUBLIC</td><td>False</td><td>nan</td><td>110477974</td><td>232279341</td></tr>\n",
       "<tr><td>science</td><td>JWST</td><td>CALJWST</td><td>NIRCAM/IMAGE</td><td>JWST</td><td>F410M</td><td>Infrared</td><td>UDS-1-TILE-19</td><td>--</td><td>jw01837-o025_t029_nircam_clear-f410m</td><td>34.35498208333333</td><td>-5.110880555555582</td><td>image</td><td>Dunlop, James S.</td><td>3</td><td>59964.67053374074</td><td>59964.68159706018</td><td>1674.936</td><td>3863.9999999999995</td><td>4301.0</td><td>PRIMER: Public Release IMaging for Extragalactic Research</td><td>59964.80084476</td><td>1837</td><td>GO</td><td>--</td><td>POLYGON 34.341606192 -5.207609569 34.375469245 -5.192616257 34.410340141 -5.270711308 34.376473691 -5.285706493</td><td>mast:JWST/product/jw01837-o025_t029_nircam_clear-f410m_i2d.jpg</td><td>mast:JWST/product/jw01837-o025_t029_nircam_clear-f410m_i2d.fits</td><td>PUBLIC</td><td>False</td><td>nan</td><td>110477992</td><td>232279348</td></tr>\n",
       "<tr><td>science</td><td>JWST</td><td>CALJWST</td><td>NIRCAM/IMAGE</td><td>JWST</td><td>F200W</td><td>Infrared</td><td>UDS-1-TILE-19</td><td>--</td><td>jw01837-o025_t029_nircam_clear-f200w</td><td>34.35498208333333</td><td>-5.110880555555582</td><td>image</td><td>Dunlop, James S.</td><td>3</td><td>59964.6855707662</td><td>59964.69675777778</td><td>6699.744</td><td>1755.0</td><td>2226.0</td><td>PRIMER: Public Release IMaging for Extragalactic Research</td><td>59964.80084476</td><td>1837</td><td>GO</td><td>--</td><td>POLYGON 34.341181173 -5.207642753 34.3756715 -5.192421639 34.410723321 -5.271179223 34.3762295 -5.286402256</td><td>mast:JWST/product/jw01837-o025_t029_nircam_clear-f200w_i2d.jpg</td><td>mast:JWST/product/jw01837-o025_t029_nircam_clear-f200w_i2d.fits</td><td>PUBLIC</td><td>False</td><td>nan</td><td>110478004</td><td>232279357</td></tr>\n",
       "<tr><td>science</td><td>JWST</td><td>CALJWST</td><td>MIRI/IMAGE</td><td>JWST</td><td>F1800W</td><td>Infrared</td><td>UDS-1-TILE-19</td><td>--</td><td>jw01837-o025_t029_miri_f1800w</td><td>34.35498208333333</td><td>-5.110880555555582</td><td>image</td><td>Dunlop, James S.</td><td>3</td><td>59964.67051708981</td><td>59964.69691851852</td><td>1787.124</td><td>16500.0</td><td>19500.0</td><td>PRIMER: Public Release IMaging for Extragalactic Research</td><td>59964.88201384</td><td>1837</td><td>GO</td><td>--</td><td>POLYGON 34.336551704 -5.106191752 34.366439208 -5.095846031 34.377040412 -5.12622593 34.34715166 -5.136572141</td><td>mast:JWST/product/jw01837-o025_t029_miri_f1800w_i2d.jpg</td><td>mast:JWST/product/jw01837-o025_t029_miri_f1800w_i2d.fits</td><td>PUBLIC</td><td>False</td><td>nan</td><td>110478024</td><td>232279364</td></tr>\n",
       "<tr><td>science</td><td>JWST</td><td>CALJWST</td><td>NIRCAM/IMAGE</td><td>JWST</td><td>F356W</td><td>Infrared</td><td>UDS-1-TILE-19</td><td>--</td><td>jw01837-o025_t029_nircam_clear-f356w</td><td>34.35498208333333</td><td>-5.110880555555582</td><td>image</td><td>Dunlop, James S.</td><td>3</td><td>59964.655124875</td><td>59964.66631188658</td><td>1674.936</td><td>3140.0</td><td>3980.0</td><td>PRIMER: Public Release IMaging for Extragalactic Research</td><td>59964.80084476</td><td>1837</td><td>GO</td><td>--</td><td>POLYGON 34.341542865 -5.207640225 34.375410761 -5.192584061 34.410402225 -5.270633168 34.376530942 -5.285691213</td><td>mast:JWST/product/jw01837-o025_t029_nircam_clear-f356w_i2d.jpg</td><td>mast:JWST/product/jw01837-o025_t029_nircam_clear-f356w_i2d.fits</td><td>PUBLIC</td><td>False</td><td>nan</td><td>110478047</td><td>232279369</td></tr>\n",
       "<tr><td>science</td><td>JWST</td><td>CALJWST</td><td>NIRCAM/IMAGE</td><td>JWST</td><td>F277W</td><td>Infrared</td><td>UDS-1-TILE-19</td><td>--</td><td>jw01837-o025_t029_nircam_clear-f277w</td><td>34.35498208333333</td><td>-5.110880555555582</td><td>image</td><td>Dunlop, James S.</td><td>3</td><td>59964.64008784954</td><td>59964.65127560185</td><td>1674.936</td><td>2416.0</td><td>3127.0</td><td>PRIMER: Public Release IMaging for Extragalactic Research</td><td>59964.80084476</td><td>1837</td><td>GO</td><td>--</td><td>POLYGON 34.341605779 -5.207612724 34.375482241 -5.192613432 34.410350514 -5.270702379 34.376470655 -5.285703546</td><td>mast:JWST/product/jw01837-o025_t029_nircam_clear-f277w_i2d.jpg</td><td>mast:JWST/product/jw01837-o025_t029_nircam_clear-f277w_i2d.fits</td><td>PUBLIC</td><td>False</td><td>nan</td><td>110478060</td><td>232279374</td></tr>\n",
       "<tr><td>science</td><td>JWST</td><td>CALJWST</td><td>NIRCAM/IMAGE</td><td>JWST</td><td>F090W</td><td>Infrared</td><td>COSMOS-2</td><td>--</td><td>jw01837-o004_t004_nircam_clear-f090w</td><td>150.0715141666667</td><td>2.263580555555555</td><td>image</td><td>Dunlop, James S.</td><td>3</td><td>59939.83205989815</td><td>59950.1552290625</td><td>147394.368</td><td>795.0</td><td>1004.9999999999999</td><td>PRIMER: Public Release IMaging for Extragalactic Research</td><td>59959.28274296</td><td>1837</td><td>GO</td><td>--</td><td>POLYGON 150.180511637 2.225083786 150.029378295 2.284433788 150.118234768 2.510346801 150.269388945 2.450987124</td><td>mast:JWST/product/jw01837-o004_t004_nircam_clear-f090w_i2d.jpg</td><td>mast:JWST/product/jw01837-o004_t004_nircam_clear-f090w_i2d.fits</td><td>PUBLIC</td><td>False</td><td>nan</td><td>129247692</td><td>237453535</td></tr>\n",
       "<tr><td>science</td><td>JWST</td><td>CALJWST</td><td>NIRCAM/IMAGE</td><td>JWST</td><td>F277W</td><td>Infrared</td><td>COSMOS-2</td><td>--</td><td>jw01837-o004_t004_nircam_clear-f277w</td><td>150.0715141666667</td><td>2.263580555555555</td><td>image</td><td>Dunlop, James S.</td><td>3</td><td>59939.83206063889</td><td>59950.1552290625</td><td>36848.592</td><td>2416.0</td><td>3127.0</td><td>PRIMER: Public Release IMaging for Extragalactic Research</td><td>59959.28274296</td><td>1837</td><td>GO</td><td>--</td><td>POLYGON 150.179652028 2.2255512 150.02885643 2.286264192 150.119007179 2.509820635 150.269823155 2.449097849</td><td>mast:JWST/product/jw01837-o004_t004_nircam_clear-f277w_i2d.jpg</td><td>mast:JWST/product/jw01837-o004_t004_nircam_clear-f277w_i2d.fits</td><td>PUBLIC</td><td>False</td><td>nan</td><td>109441865</td><td>237453571</td></tr>\n",
       "<tr><td>science</td><td>JWST</td><td>CALJWST</td><td>NIRCAM/IMAGE</td><td>JWST</td><td>F200W</td><td>Infrared</td><td>COSMOS-2</td><td>--</td><td>jw01837-o004_t004_nircam_clear-f200w</td><td>150.0715141666667</td><td>2.263580555555555</td><td>image</td><td>Dunlop, James S.</td><td>3</td><td>59939.91439240972</td><td>59950.20058754629</td><td>133994.88</td><td>1755.0</td><td>2226.0</td><td>PRIMER: Public Release IMaging for Extragalactic Research</td><td>59959.28274296</td><td>1837</td><td>GO</td><td>--</td><td>POLYGON 150.179899115 2.225298783 150.036653655 2.283423306 150.126500784 2.504495717 150.269765243 2.446361938</td><td>mast:JWST/product/jw01837-o004_t004_nircam_clear-f200w_i2d.jpg</td><td>mast:JWST/product/jw01837-o004_t004_nircam_clear-f200w_i2d.fits</td><td>PUBLIC</td><td>False</td><td>nan</td><td>113393251</td><td>237453601</td></tr>\n",
       "<tr><td>science</td><td>JWST</td><td>CALJWST</td><td>NIRCAM/IMAGE</td><td>JWST</td><td>F356W</td><td>Infrared</td><td>COSMOS-2</td><td>--</td><td>jw01837-o004_t004_nircam_clear-f356w</td><td>150.0715141666667</td><td>2.263580555555555</td><td>image</td><td>Dunlop, James S.</td><td>3</td><td>59939.84709692361</td><td>59950.17026608796</td><td>36848.592</td><td>3140.0</td><td>3980.0</td><td>PRIMER: Public Release IMaging for Extragalactic Research</td><td>59959.28274296</td><td>1837</td><td>GO</td><td>--</td><td>POLYGON 150.179582086 2.225583433 150.028682485 2.286592688 150.118924751 2.509442903 150.269844645 2.448423839</td><td>mast:JWST/product/jw01837-o004_t004_nircam_clear-f356w_i2d.jpg</td><td>mast:JWST/product/jw01837-o004_t004_nircam_clear-f356w_i2d.fits</td><td>PUBLIC</td><td>False</td><td>nan</td><td>109443379</td><td>237453638</td></tr>\n",
       "<tr><td>science</td><td>JWST</td><td>CALJWST</td><td>NIRCAM/IMAGE</td><td>JWST</td><td>F444W</td><td>Infrared</td><td>COSMOS-2</td><td>--</td><td>jw01837-o004_t004_nircam_clear-f444w</td><td>150.0715141666667</td><td>2.263580555555555</td><td>image</td><td>Dunlop, James S.</td><td>3</td><td>59939.91439240972</td><td>59950.20058754629</td><td>33498.72</td><td>3880.0</td><td>4986.0</td><td>PRIMER: Public Release IMaging for Extragalactic Research</td><td>59959.28274296</td><td>1837</td><td>GO</td><td>--</td><td>POLYGON 150.17958546 2.225570825 150.037039193 2.283202854 150.126400193 2.503875717 150.268965359 2.446234529</td><td>mast:JWST/product/jw01837-o004_t004_nircam_clear-f444w_i2d.jpg</td><td>mast:JWST/product/jw01837-o004_t004_nircam_clear-f444w_i2d.fits</td><td>PUBLIC</td><td>False</td><td>nan</td><td>109441876</td><td>237453662</td></tr>\n",
       "<tr><td>science</td><td>JWST</td><td>CALJWST</td><td>NIRCAM/IMAGE</td><td>JWST</td><td>F115W</td><td>Infrared</td><td>COSMOS-2</td><td>--</td><td>jw01837-o004_t004_nircam_clear-f115w</td><td>150.0715141666667</td><td>2.263580555555555</td><td>image</td><td>Dunlop, James S.</td><td>3</td><td>59939.84709692361</td><td>59950.17026608796</td><td>147394.368</td><td>1013.0000000000001</td><td>1282.0</td><td>PRIMER: Public Release IMaging for Extragalactic Research</td><td>59959.28274296</td><td>1837</td><td>GO</td><td>--</td><td>POLYGON 150.179869599 2.225328556 150.02830366 2.28682882 150.119003479 2.510001818 150.270589801 2.448491651</td><td>mast:JWST/product/jw01837-o004_t004_nircam_clear-f115w_i2d.jpg</td><td>mast:JWST/product/jw01837-o004_t004_nircam_clear-f115w_i2d.fits</td><td>PUBLIC</td><td>False</td><td>nan</td><td>109935582</td><td>237453690</td></tr>\n",
       "<tr><td>science</td><td>JWST</td><td>CALJWST</td><td>MIRI/IMAGE</td><td>JWST</td><td>F1800W</td><td>Infrared</td><td>COSMOS-2</td><td>--</td><td>jw01837-o004_t004_miri_f1800w</td><td>150.0715141666667</td><td>2.263580555555555</td><td>image</td><td>Dunlop, James S.</td><td>3</td><td>59939.89941132593</td><td>59950.20082754629</td><td>37529.60400000001</td><td>16500.0</td><td>19500.0</td><td>PRIMER: Public Release IMaging for Extragalactic Research</td><td>59959.2558217</td><td>1837</td><td>GO</td><td>--</td><td>POLYGON 150.110069203 2.151490559 149.968038067 2.223283944 150.047680807 2.380610345 150.189723371 2.308809168</td><td>mast:JWST/product/jw01837-o004_t004_miri_f1800w_i2d.jpg</td><td>mast:JWST/product/jw01837-o004_t004_miri_f1800w_i2d.fits</td><td>PUBLIC</td><td>False</td><td>nan</td><td>109351529</td><td>237453735</td></tr>\n",
       "<tr><td>science</td><td>JWST</td><td>CALJWST</td><td>MIRI/IMAGE</td><td>JWST</td><td>F770W</td><td>Infrared</td><td>COSMOS-2</td><td>--</td><td>jw01837-o004_t004_miri_f770w</td><td>150.0715141666667</td><td>2.263580555555555</td><td>image</td><td>Dunlop, James S.</td><td>3</td><td>59939.83202499537</td><td>59950.17034608797</td><td>38184.516</td><td>6600.0</td><td>8800.0</td><td>PRIMER: Public Release IMaging for Extragalactic Research</td><td>59959.2558217</td><td>1837</td><td>GO</td><td>--</td><td>POLYGON 150.110064405 2.151529005 149.958403273 2.228190954 150.038116105 2.385654692 150.189789523 2.308984397</td><td>mast:JWST/product/jw01837-o004_t004_miri_f770w_i2d.jpg</td><td>mast:JWST/product/jw01837-o004_t004_miri_f770w_i2d.fits</td><td>PUBLIC</td><td>False</td><td>nan</td><td>109374093</td><td>237453758</td></tr>\n",
       "<tr><td>science</td><td>JWST</td><td>CALJWST</td><td>NIRCAM/IMAGE</td><td>JWST</td><td>F410M</td><td>Infrared</td><td>COSMOS-2</td><td>--</td><td>jw01837-o004_t004_nircam_clear-f410m</td><td>150.0715141666667</td><td>2.263580555555555</td><td>image</td><td>Dunlop, James S.</td><td>3</td><td>59939.89948056945</td><td>59950.18555052084</td><td>33498.72</td><td>3863.9999999999995</td><td>4301.0</td><td>PRIMER: Public Release IMaging for Extragalactic Research</td><td>59959.28274296</td><td>1837</td><td>GO</td><td>--</td><td>POLYGON 150.17958281 2.225574577 150.037020336 2.283213256 150.126381467 2.503886071 150.268962842 2.446238232</td><td>mast:JWST/product/jw01837-o004_t004_nircam_clear-f410m_i2d.jpg</td><td>mast:JWST/product/jw01837-o004_t004_nircam_clear-f410m_i2d.fits</td><td>PUBLIC</td><td>False</td><td>nan</td><td>109441866</td><td>237453791</td></tr>\n",
       "<tr><td>...</td><td>...</td><td>...</td><td>...</td><td>...</td><td>...</td><td>...</td><td>...</td><td>...</td><td>...</td><td>...</td><td>...</td><td>...</td><td>...</td><td>...</td><td>...</td><td>...</td><td>...</td><td>...</td><td>...</td><td>...</td><td>...</td><td>...</td><td>...</td><td>...</td><td>...</td><td>...</td><td>...</td><td>...</td><td>...</td><td>...</td><td>...</td><td>...</td></tr>\n",
       "<tr><td>science</td><td>JWST</td><td>CALJWST</td><td>NIRCAM/IMAGE</td><td>JWST</td><td>F150W</td><td>INFRARED</td><td>COSMOS-2</td><td>--</td><td>jw01837004020_06201_00002_nrca3</td><td>150.0715141666667</td><td>2.263580555555555</td><td>image</td><td>Dunlop, James S.</td><td>2</td><td>59946.3412508125</td><td>59946.34622153935</td><td>418.734</td><td>1331.0</td><td>1668.0</td><td>PRIMER: Public Release IMaging for Extragalactic Research</td><td>59955.98004618</td><td>1837</td><td>GO</td><td>--</td><td>POLYGON 150.168295917 2.424368831 150.15171446 2.431297844 150.158400182 2.447671835 150.174985221 2.441009365</td><td>mast:JWST/product/jw01837004020_06201_00002_nrca3_cal.jpg</td><td>mast:JWST/product/jw01837004020_06201_00002_nrca3_cal.fits</td><td>PUBLIC</td><td>False</td><td>nan</td><td>107535908</td><td>254184472</td></tr>\n",
       "<tr><td>science</td><td>JWST</td><td>CALJWST</td><td>NIRCAM/IMAGE</td><td>JWST</td><td>F150W</td><td>INFRARED</td><td>COSMOS-2</td><td>--</td><td>jw01837004020_06201_00002_nrca1</td><td>150.0715141666667</td><td>2.263580555555555</td><td>image</td><td>Dunlop, James S.</td><td>2</td><td>59946.3412508125</td><td>59946.34622153935</td><td>418.734</td><td>1331.0</td><td>1668.0</td><td>PRIMER: Public Release IMaging for Extragalactic Research</td><td>59955.9801272</td><td>1837</td><td>GO</td><td>--</td><td>POLYGON 150.175439594 2.442263433 150.158852953 2.448906622 150.165332467 2.465276808 150.181970347 2.458877657</td><td>mast:JWST/product/jw01837004020_06201_00002_nrca1_cal.jpg</td><td>mast:JWST/product/jw01837004020_06201_00002_nrca1_cal.fits</td><td>PUBLIC</td><td>False</td><td>nan</td><td>107535894</td><td>254184520</td></tr>\n",
       "<tr><td>science</td><td>JWST</td><td>CALJWST</td><td>NIRCAM/IMAGE</td><td>JWST</td><td>F150W</td><td>INFRARED</td><td>COSMOS-2</td><td>--</td><td>jw01837004021_06201_00001_nrcb2</td><td>150.0715141666667</td><td>2.263580555555555</td><td>image</td><td>Dunlop, James S.</td><td>2</td><td>59946.41645962037</td><td>59946.42143034723</td><td>418.734</td><td>1331.0</td><td>1668.0</td><td>PRIMER: Public Release IMaging for Extragalactic Research</td><td>59955.8395138</td><td>1837</td><td>GO</td><td>--</td><td>POLYGON 150.122000249 2.324016861 150.105637155 2.331039324 150.112435225 2.347262699 150.128931362 2.340451162</td><td>mast:JWST/product/jw01837004021_06201_00001_nrcb2_cal.jpg</td><td>mast:JWST/product/jw01837004021_06201_00001_nrcb2_cal.fits</td><td>PUBLIC</td><td>False</td><td>nan</td><td>107535162</td><td>254184528</td></tr>\n",
       "<tr><td>science</td><td>JWST</td><td>CALJWST</td><td>NIRCAM/IMAGE</td><td>JWST</td><td>F150W</td><td>INFRARED</td><td>COSMOS-2</td><td>--</td><td>jw01837004020_06201_00001_nrca1</td><td>150.0715141666667</td><td>2.263580555555555</td><td>image</td><td>Dunlop, James S.</td><td>2</td><td>59946.33491303472</td><td>59946.33988376158</td><td>418.734</td><td>1331.0</td><td>1668.0</td><td>PRIMER: Public Release IMaging for Extragalactic Research</td><td>59955.84156237</td><td>1837</td><td>GO</td><td>--</td><td>POLYGON 150.17513003 2.441889144 150.158543399 2.448532349 150.165022927 2.464902529 150.181660796 2.458503362</td><td>mast:JWST/product/jw01837004020_06201_00001_nrca1_cal.jpg</td><td>mast:JWST/product/jw01837004020_06201_00001_nrca1_cal.fits</td><td>PUBLIC</td><td>False</td><td>nan</td><td>107535106</td><td>254184599</td></tr>\n",
       "<tr><td>science</td><td>JWST</td><td>CALJWST</td><td>NIRCAM/IMAGE</td><td>JWST</td><td>F150W</td><td>INFRARED</td><td>COSMOS-2</td><td>--</td><td>jw01837004022_06201_00001_nrca1</td><td>150.0715141666667</td><td>2.263580555555555</td><td>image</td><td>Dunlop, James S.</td><td>2</td><td>59946.48575067361</td><td>59946.49072140046</td><td>418.734</td><td>1331.0</td><td>1668.0</td><td>PRIMER: Public Release IMaging for Extragalactic Research</td><td>59956.01236105</td><td>1837</td><td>GO</td><td>--</td><td>POLYGON 150.14919696 2.31692633 150.132611679 2.32356914 150.139090228 2.33993947 150.155726728 2.333540703</td><td>mast:JWST/product/jw01837004022_06201_00001_nrca1_cal.jpg</td><td>mast:JWST/product/jw01837004022_06201_00001_nrca1_cal.fits</td><td>PUBLIC</td><td>False</td><td>nan</td><td>107535733</td><td>254184681</td></tr>\n",
       "<tr><td>science</td><td>JWST</td><td>CALJWST</td><td>NIRCAM/IMAGE</td><td>JWST</td><td>F150W</td><td>INFRARED</td><td>COSMOS-2</td><td>--</td><td>jw01837004022_06201_00001_nrca4</td><td>150.0715141666667</td><td>2.263580555555555</td><td>image</td><td>Dunlop, James S.</td><td>2</td><td>59946.48575067361</td><td>59946.49072140046</td><td>418.734</td><td>1331.0</td><td>1668.0</td><td>PRIMER: Public Release IMaging for Extragalactic Research</td><td>59955.83906241</td><td>1837</td><td>GO</td><td>--</td><td>POLYGON 150.124464578 2.306434831 150.108113482 2.313170565 150.114727582 2.329352553 150.131062652 2.322827895</td><td>mast:JWST/product/jw01837004022_06201_00001_nrca4_cal.jpg</td><td>mast:JWST/product/jw01837004022_06201_00001_nrca4_cal.fits</td><td>PUBLIC</td><td>False</td><td>nan</td><td>107535734</td><td>254184726</td></tr>\n",
       "<tr><td>science</td><td>JWST</td><td>CALJWST</td><td>NIRCAM/IMAGE</td><td>JWST</td><td>F150W</td><td>INFRARED</td><td>COSMOS-2</td><td>--</td><td>jw01837004020_06201_00001_nrca3</td><td>150.0715141666667</td><td>2.263580555555555</td><td>image</td><td>Dunlop, James S.</td><td>2</td><td>59946.33491303472</td><td>59946.33988376158</td><td>418.734</td><td>1331.0</td><td>1668.0</td><td>PRIMER: Public Release IMaging for Extragalactic Research</td><td>59955.84076381</td><td>1837</td><td>GO</td><td>--</td><td>POLYGON 150.167986338 2.423994549 150.151404891 2.430923578 150.158090628 2.447297562 150.174675656 2.440635077</td><td>mast:JWST/product/jw01837004020_06201_00001_nrca3_cal.jpg</td><td>mast:JWST/product/jw01837004020_06201_00001_nrca3_cal.fits</td><td>PUBLIC</td><td>False</td><td>nan</td><td>107535107</td><td>254184823</td></tr>\n",
       "<tr><td>science</td><td>JWST</td><td>CALJWST</td><td>NIRCAM/IMAGE</td><td>JWST</td><td>F150W</td><td>INFRARED</td><td>COSMOS-2</td><td>--</td><td>jw01837004022_06201_00001_nrcb1</td><td>150.0715141666667</td><td>2.263580555555555</td><td>image</td><td>Dunlop, James S.</td><td>2</td><td>59946.48575067361</td><td>59946.49072140046</td><td>418.734</td><td>1331.0</td><td>1668.0</td><td>PRIMER: Public Release IMaging for Extragalactic Research</td><td>59955.83903926</td><td>1837</td><td>GO</td><td>--</td><td>POLYGON 150.105574474 2.261712402 150.089401716 2.268457034 150.096018255 2.28453458 150.112300478 2.277949684</td><td>mast:JWST/product/jw01837004022_06201_00001_nrcb1_cal.jpg</td><td>mast:JWST/product/jw01837004022_06201_00001_nrcb1_cal.fits</td><td>PUBLIC</td><td>False</td><td>nan</td><td>107535738</td><td>254184883</td></tr>\n",
       "<tr><td>science</td><td>JWST</td><td>CALJWST</td><td>NIRCAM/IMAGE</td><td>JWST</td><td>F150W</td><td>INFRARED</td><td>COSMOS-2</td><td>--</td><td>jw01837004020_06201_00001_nrcb4</td><td>150.0715141666667</td><td>2.263580555555555</td><td>image</td><td>Dunlop, James S.</td><td>2</td><td>59946.33491303472</td><td>59946.33988376158</td><td>418.734</td><td>1331.0</td><td>1668.0</td><td>PRIMER: Public Release IMaging for Extragalactic Research</td><td>59955.83991894</td><td>1837</td><td>GO</td><td>--</td><td>POLYGON 150.156334218 2.396996243 150.139787256 2.40369725 150.146342384 2.420099776 150.163069374 2.413594098</td><td>mast:JWST/product/jw01837004020_06201_00001_nrcb4_cal.jpg</td><td>mast:JWST/product/jw01837004020_06201_00001_nrcb4_cal.fits</td><td>PUBLIC</td><td>False</td><td>nan</td><td>107535110</td><td>254184959</td></tr>\n",
       "<tr><td>science</td><td>JWST</td><td>CALJWST</td><td>NIRCAM/IMAGE</td><td>JWST</td><td>F150W</td><td>INFRARED</td><td>COSMOS-2</td><td>--</td><td>jw01837004021_06201_00002_nrca4</td><td>150.0715141666667</td><td>2.263580555555555</td><td>image</td><td>Dunlop, James S.</td><td>2</td><td>59946.42267369445</td><td>59946.4276444213</td><td>418.734</td><td>1331.0</td><td>1668.0</td><td>PRIMER: Public Release IMaging for Extragalactic Research</td><td>59955.83982635</td><td>1837</td><td>GO</td><td>--</td><td>POLYGON 150.123750278 2.376461268 150.107398352 2.383196979 150.11401276 2.399378978 150.130348663 2.392854341</td><td>mast:JWST/product/jw01837004021_06201_00002_nrca4_cal.jpg</td><td>mast:JWST/product/jw01837004021_06201_00002_nrca4_cal.fits</td><td>PUBLIC</td><td>False</td><td>nan</td><td>107535862</td><td>254185049</td></tr>\n",
       "<tr><td>science</td><td>JWST</td><td>CALJWST</td><td>NIRCAM/IMAGE</td><td>JWST</td><td>F150W</td><td>INFRARED</td><td>COSMOS-2</td><td>--</td><td>jw01837004020_06201_00002_nrcb2</td><td>150.0715141666667</td><td>2.263580555555555</td><td>image</td><td>Dunlop, James S.</td><td>2</td><td>59946.3412508125</td><td>59946.34622153935</td><td>418.734</td><td>1331.0</td><td>1668.0</td><td>PRIMER: Public Release IMaging for Extragalactic Research</td><td>59955.9800809</td><td>1837</td><td>GO</td><td>--</td><td>POLYGON 150.149262938 2.37970252 150.132899357 2.386725375 150.13969809 2.40294859 150.156194728 2.396136655</td><td>mast:JWST/product/jw01837004020_06201_00002_nrcb2_cal.jpg</td><td>mast:JWST/product/jw01837004020_06201_00002_nrcb2_cal.fits</td><td>PUBLIC</td><td>False</td><td>nan</td><td>107535898</td><td>254185120</td></tr>\n",
       "<tr><td>science</td><td>JWST</td><td>CALJWST</td><td>NIRCAM/IMAGE</td><td>JWST</td><td>F150W</td><td>INFRARED</td><td>COSMOS-2</td><td>--</td><td>jw01837004022_06201_00002_nrcb2</td><td>150.0715141666667</td><td>2.263580555555555</td><td>image</td><td>Dunlop, James S.</td><td>2</td><td>59946.49196399537</td><td>59946.49693472222</td><td>418.734</td><td>1331.0</td><td>1668.0</td><td>PRIMER: Public Release IMaging for Extragalactic Research</td><td>59955.84136561</td><td>1837</td><td>GO</td><td>--</td><td>POLYGON 150.123333621 2.254739161 150.106971336 2.261761659 150.113769112 2.277985018 150.13026443 2.271173447</td><td>mast:JWST/product/jw01837004022_06201_00002_nrcb2_cal.jpg</td><td>mast:JWST/product/jw01837004022_06201_00002_nrcb2_cal.fits</td><td>PUBLIC</td><td>False</td><td>nan</td><td>107535751</td><td>254185275</td></tr>\n",
       "<tr><td>science</td><td>JWST</td><td>CALJWST</td><td>NIRCAM/IMAGE</td><td>JWST</td><td>F150W</td><td>INFRARED</td><td>COSMOS-2</td><td>--</td><td>jw01837004021_06201_00002_nrcb2</td><td>150.0715141666667</td><td>2.263580555555555</td><td>image</td><td>Dunlop, James S.</td><td>2</td><td>59946.4226729537</td><td>59946.42764368055</td><td>418.734</td><td>1331.0</td><td>1668.0</td><td>PRIMER: Public Release IMaging for Extragalactic Research</td><td>59955.98038183</td><td>1837</td><td>GO</td><td>--</td><td>POLYGON 150.122309766 2.32439126 150.105946673 2.331413733 150.112744756 2.347637105 150.129240893 2.340825556</td><td>mast:JWST/product/jw01837004021_06201_00002_nrcb2_cal.jpg</td><td>mast:JWST/product/jw01837004021_06201_00002_nrcb2_cal.fits</td><td>PUBLIC</td><td>False</td><td>nan</td><td>107535866</td><td>254185773</td></tr>\n",
       "<tr><td>science</td><td>JWST</td><td>CALJWST</td><td>NIRCAM/IMAGE</td><td>JWST</td><td>F150W</td><td>INFRARED</td><td>COSMOS-2</td><td>--</td><td>jw01837004021_06201_00001_nrcb3</td><td>150.0715141666667</td><td>2.263580555555555</td><td>image</td><td>Dunlop, James S.</td><td>2</td><td>59946.41645962037</td><td>59946.42143034723</td><td>418.734</td><td>1331.0</td><td>1668.0</td><td>PRIMER: Public Release IMaging for Extragalactic Research</td><td>59955.9784721</td><td>1837</td><td>GO</td><td>--</td><td>POLYGON 150.111793763 2.348877359 150.095486135 2.355414628 150.101871158 2.371664435 150.118334792 2.365270285</td><td>mast:JWST/product/jw01837004021_06201_00001_nrcb3_cal.jpg</td><td>mast:JWST/product/jw01837004021_06201_00001_nrcb3_cal.fits</td><td>PUBLIC</td><td>False</td><td>nan</td><td>107535165</td><td>254185975</td></tr>\n",
       "<tr><td>science</td><td>JWST</td><td>CALJWST</td><td>NIRCAM/IMAGE</td><td>JWST</td><td>F150W</td><td>INFRARED</td><td>COSMOS-2</td><td>--</td><td>jw01837004021_06201_00001_nrcb1</td><td>150.0715141666667</td><td>2.263580555555555</td><td>image</td><td>Dunlop, James S.</td><td>2</td><td>59946.41645962037</td><td>59946.42143034723</td><td>418.734</td><td>1331.0</td><td>1668.0</td><td>PRIMER: Public Release IMaging for Extragalactic Research</td><td>59955.8460532</td><td>1837</td><td>GO</td><td>--</td><td>POLYGON 150.104549787 2.331364401 150.088376221 2.338108993 150.094993043 2.354186557 150.111276083 2.347601699</td><td>mast:JWST/product/jw01837004021_06201_00001_nrcb1_cal.jpg</td><td>mast:JWST/product/jw01837004021_06201_00001_nrcb1_cal.fits</td><td>PUBLIC</td><td>False</td><td>nan</td><td>107535164</td><td>254186022</td></tr>\n",
       "<tr><td>science</td><td>JWST</td><td>CALJWST</td><td>NIRCAM/IMAGE</td><td>JWST</td><td>F150W</td><td>INFRARED</td><td>COSMOS-2</td><td>--</td><td>jw01837004022_06201_00002_nrca3</td><td>150.0715141666667</td><td>2.263580555555555</td><td>image</td><td>Dunlop, James S.</td><td>2</td><td>59946.49196399537</td><td>59946.49693472222</td><td>418.734</td><td>1331.0</td><td>1668.0</td><td>PRIMER: Public Release IMaging for Extragalactic Research</td><td>59955.84350688</td><td>1837</td><td>GO</td><td>--</td><td>POLYGON 150.142363899 2.2994059 150.125783782 2.306334539 150.132468533 2.322708675 150.149052216 2.316046584</td><td>mast:JWST/product/jw01837004022_06201_00002_nrca3_cal.jpg</td><td>mast:JWST/product/jw01837004022_06201_00002_nrca3_cal.fits</td><td>PUBLIC</td><td>False</td><td>nan</td><td>107535755</td><td>254186312</td></tr>\n",
       "<tr><td>science</td><td>JWST</td><td>CALJWST</td><td>NIRCAM/IMAGE</td><td>JWST</td><td>F150W</td><td>INFRARED</td><td>COSMOS-2</td><td>--</td><td>jw01837004022_06201_00002_nrca4</td><td>150.0715141666667</td><td>2.263580555555555</td><td>image</td><td>Dunlop, James S.</td><td>2</td><td>59946.49196473611</td><td>59946.49693546296</td><td>418.734</td><td>1331.0</td><td>1668.0</td><td>PRIMER: Public Release IMaging for Extragalactic Research</td><td>59956.007905</td><td>1837</td><td>GO</td><td>--</td><td>POLYGON 150.124774131 2.306809167 150.108423031 2.313544902 150.115037134 2.32972689 150.131372208 2.32320223</td><td>mast:JWST/product/jw01837004022_06201_00002_nrca4_cal.jpg</td><td>mast:JWST/product/jw01837004022_06201_00002_nrca4_cal.fits</td><td>PUBLIC</td><td>False</td><td>nan</td><td>107535761</td><td>254186620</td></tr>\n",
       "<tr><td>science</td><td>JWST</td><td>CALJWST</td><td>NIRCAM/IMAGE</td><td>JWST</td><td>F150W</td><td>INFRARED</td><td>COSMOS-2</td><td>--</td><td>jw01837004022_06201_00002_nrcb3</td><td>150.0715141666667</td><td>2.263580555555555</td><td>image</td><td>Dunlop, James S.</td><td>2</td><td>59946.49196399537</td><td>59946.49693472222</td><td>418.734</td><td>1331.0</td><td>1668.0</td><td>PRIMER: Public Release IMaging for Extragalactic Research</td><td>59955.98018507</td><td>1837</td><td>GO</td><td>--</td><td>POLYGON 150.113127684 2.279599681 150.096820871 2.286136988 150.10320562 2.302386779 150.119668428 2.295992592</td><td>mast:JWST/product/jw01837004022_06201_00002_nrcb3_cal.jpg</td><td>mast:JWST/product/jw01837004022_06201_00002_nrcb3_cal.fits</td><td>PUBLIC</td><td>False</td><td>nan</td><td>107535763</td><td>254186918</td></tr>\n",
       "<tr><td>science</td><td>JWST</td><td>CALJWST</td><td>NIRCAM/IMAGE</td><td>JWST</td><td>F150W</td><td>INFRARED</td><td>COSMOS-2</td><td>--</td><td>jw01837004022_06201_00002_nrcb1</td><td>150.0715141666667</td><td>2.263580555555555</td><td>image</td><td>Dunlop, James S.</td><td>2</td><td>59946.49196399537</td><td>59946.49693472222</td><td>418.734</td><td>1331.0</td><td>1668.0</td><td>PRIMER: Public Release IMaging for Extragalactic Research</td><td>59955.84326383</td><td>1837</td><td>GO</td><td>--</td><td>POLYGON 150.10588402 2.262086739 150.089711258 2.268831373 150.0963278 2.284908918 150.112610026 2.278324021</td><td>mast:JWST/product/jw01837004022_06201_00002_nrcb1_cal.jpg</td><td>mast:JWST/product/jw01837004022_06201_00002_nrcb1_cal.fits</td><td>PUBLIC</td><td>False</td><td>nan</td><td>107535767</td><td>254187442</td></tr>\n",
       "<tr><td>science</td><td>JWST</td><td>CALJWST</td><td>NIRCAM/IMAGE</td><td>JWST</td><td>F150W</td><td>INFRARED</td><td>COSMOS-2</td><td>--</td><td>jw01837004022_06201_00001_nrcb4</td><td>150.0715141666667</td><td>2.263580555555555</td><td>image</td><td>Dunlop, James S.</td><td>2</td><td>59946.48575067361</td><td>59946.49072140046</td><td>418.734</td><td>1331.0</td><td>1668.0</td><td>PRIMER: Public Release IMaging for Extragalactic Research</td><td>59955.84226845</td><td>1837</td><td>GO</td><td>--</td><td>POLYGON 150.130403902 2.272032983 150.113858262 2.278733608 150.120412426 2.295136281 150.137138066 2.288630994</td><td>mast:JWST/product/jw01837004022_06201_00001_nrcb4_cal.jpg</td><td>mast:JWST/product/jw01837004022_06201_00001_nrcb4_cal.fits</td><td>PUBLIC</td><td>False</td><td>nan</td><td>107535737</td><td>254187501</td></tr>\n",
       "</table></div>"
      ],
      "text/plain": [
       "<Table masked=True length=2169>\n",
       "intentType obs_collection provenance_name instrument_name ... mtFlag  srcDen   obsid     objID  \n",
       "   str7         str4            str7           str12      ...  bool  float64    str9      str9  \n",
       "---------- -------------- --------------- --------------- ... ------ ------- --------- ---------\n",
       "   science           JWST         CALJWST      MIRI/IMAGE ...  False     nan 110500481 232279308\n",
       "   science           JWST         CALJWST    NIRCAM/IMAGE ...  False     nan 110477931 232279319\n",
       "   science           JWST         CALJWST    NIRCAM/IMAGE ...  False     nan 110477942 232279326\n",
       "   science           JWST         CALJWST    NIRCAM/IMAGE ...  False     nan 110477961 232279334\n",
       "   science           JWST         CALJWST    NIRCAM/IMAGE ...  False     nan 110477974 232279341\n",
       "   science           JWST         CALJWST    NIRCAM/IMAGE ...  False     nan 110477992 232279348\n",
       "   science           JWST         CALJWST    NIRCAM/IMAGE ...  False     nan 110478004 232279357\n",
       "   science           JWST         CALJWST      MIRI/IMAGE ...  False     nan 110478024 232279364\n",
       "   science           JWST         CALJWST    NIRCAM/IMAGE ...  False     nan 110478047 232279369\n",
       "   science           JWST         CALJWST    NIRCAM/IMAGE ...  False     nan 110478060 232279374\n",
       "   science           JWST         CALJWST    NIRCAM/IMAGE ...  False     nan 129247692 237453535\n",
       "   science           JWST         CALJWST    NIRCAM/IMAGE ...  False     nan 109441865 237453571\n",
       "   science           JWST         CALJWST    NIRCAM/IMAGE ...  False     nan 113393251 237453601\n",
       "   science           JWST         CALJWST    NIRCAM/IMAGE ...  False     nan 109443379 237453638\n",
       "   science           JWST         CALJWST    NIRCAM/IMAGE ...  False     nan 109441876 237453662\n",
       "   science           JWST         CALJWST    NIRCAM/IMAGE ...  False     nan 109935582 237453690\n",
       "   science           JWST         CALJWST      MIRI/IMAGE ...  False     nan 109351529 237453735\n",
       "   science           JWST         CALJWST      MIRI/IMAGE ...  False     nan 109374093 237453758\n",
       "   science           JWST         CALJWST    NIRCAM/IMAGE ...  False     nan 109441866 237453791\n",
       "       ...            ...             ...             ... ...    ...     ...       ...       ...\n",
       "   science           JWST         CALJWST    NIRCAM/IMAGE ...  False     nan 107535908 254184472\n",
       "   science           JWST         CALJWST    NIRCAM/IMAGE ...  False     nan 107535894 254184520\n",
       "   science           JWST         CALJWST    NIRCAM/IMAGE ...  False     nan 107535162 254184528\n",
       "   science           JWST         CALJWST    NIRCAM/IMAGE ...  False     nan 107535106 254184599\n",
       "   science           JWST         CALJWST    NIRCAM/IMAGE ...  False     nan 107535733 254184681\n",
       "   science           JWST         CALJWST    NIRCAM/IMAGE ...  False     nan 107535734 254184726\n",
       "   science           JWST         CALJWST    NIRCAM/IMAGE ...  False     nan 107535107 254184823\n",
       "   science           JWST         CALJWST    NIRCAM/IMAGE ...  False     nan 107535738 254184883\n",
       "   science           JWST         CALJWST    NIRCAM/IMAGE ...  False     nan 107535110 254184959\n",
       "   science           JWST         CALJWST    NIRCAM/IMAGE ...  False     nan 107535862 254185049\n",
       "   science           JWST         CALJWST    NIRCAM/IMAGE ...  False     nan 107535898 254185120\n",
       "   science           JWST         CALJWST    NIRCAM/IMAGE ...  False     nan 107535751 254185275\n",
       "   science           JWST         CALJWST    NIRCAM/IMAGE ...  False     nan 107535866 254185773\n",
       "   science           JWST         CALJWST    NIRCAM/IMAGE ...  False     nan 107535165 254185975\n",
       "   science           JWST         CALJWST    NIRCAM/IMAGE ...  False     nan 107535164 254186022\n",
       "   science           JWST         CALJWST    NIRCAM/IMAGE ...  False     nan 107535755 254186312\n",
       "   science           JWST         CALJWST    NIRCAM/IMAGE ...  False     nan 107535761 254186620\n",
       "   science           JWST         CALJWST    NIRCAM/IMAGE ...  False     nan 107535763 254186918\n",
       "   science           JWST         CALJWST    NIRCAM/IMAGE ...  False     nan 107535767 254187442\n",
       "   science           JWST         CALJWST    NIRCAM/IMAGE ...  False     nan 107535737 254187501"
      ]
     },
     "execution_count": 8,
     "metadata": {},
     "output_type": "execute_result"
    }
   ],
   "source": [
    "obs_table"
   ]
  },
  {
   "cell_type": "code",
   "execution_count": 5,
   "id": "6083c7d0",
   "metadata": {},
   "outputs": [],
   "source": [
    "products = Observations.get_product_list(obs_table[-1])\n"
   ]
  },
  {
   "cell_type": "code",
   "execution_count": 6,
   "id": "68096856",
   "metadata": {},
   "outputs": [
    {
     "data": {
      "text/html": [
       "<i>Table length=4</i>\n",
       "<table id=\"table4666928816-803340\" class=\"table-striped table-bordered table-condensed\">\n",
       "<thead><tr><th>idx</th><th>obsID</th><th>obs_collection</th><th>dataproduct_type</th><th>obs_id</th><th>description</th><th>type</th><th>dataURI</th><th>productType</th><th>productGroupDescription</th><th>productSubGroupDescription</th><th>productDocumentationURL</th><th>project</th><th>prvversion</th><th>proposal_id</th><th>productFilename</th><th>size</th><th>parent_obsid</th><th>dataRights</th><th>calib_level</th></tr></thead>\n",
       "<tr><td>0</td><td>107535737</td><td>JWST</td><td>image</td><td>jw01837004022_06201_00001_nrcb4</td><td>exposure (L2b): 2D calibrated exposure average over integrations</td><td>S</td><td>mast:JWST/product/jw01837004022_06201_00001_nrcb4_cal.fits</td><td>SCIENCE</td><td>Minimum Recommended Products</td><td>CAL</td><td>--</td><td>CALJWST</td><td>1.8.2</td><td>1837</td><td>jw01837004022_06201_00001_nrcb4_cal.fits</td><td>117538560</td><td>107535737</td><td>PUBLIC</td><td>2</td></tr>\n",
       "<tr><td>1</td><td>107535737</td><td>JWST</td><td>image</td><td>jw01837004022_06201_00001_nrcb4</td><td>exposure/target (L2b/L3): rectified 2D image</td><td>S</td><td>mast:JWST/product/jw01837004022_06201_00001_nrcb4_i2d.fits</td><td>SCIENCE</td><td>Minimum Recommended Products</td><td>I2D</td><td>--</td><td>CALJWST</td><td>1.8.2</td><td>1837</td><td>jw01837004022_06201_00001_nrcb4_i2d.fits</td><td>119016000</td><td>107535737</td><td>PUBLIC</td><td>2</td></tr>\n",
       "<tr><td>2</td><td>107535737</td><td>JWST</td><td>image</td><td>jw01837004022_06201_00001_nrcb4</td><td>exposure (L2a): 2D count rate averaged over integrations</td><td>S</td><td>mast:JWST/product/jw01837004022_06201_00001_nrcb4_rate.fits</td><td>SCIENCE</td><td>Minimum Recommended Products</td><td>RATE</td><td>--</td><td>CALJWST</td><td>1.8.2</td><td>1837</td><td>jw01837004022_06201_00001_nrcb4_rate.fits</td><td>83949120</td><td>107535737</td><td>PUBLIC</td><td>2</td></tr>\n",
       "<tr><td>3</td><td>107535737</td><td>JWST</td><td>image</td><td>jw01837004022_06201_00001_nrcb4</td><td>exposure (L2a): 3D countrate per integration</td><td>S</td><td>mast:JWST/product/jw01837004022_06201_00001_nrcb4_rateints.fits</td><td>SCIENCE</td><td>Minimum Recommended Products</td><td>RATEINTS</td><td>--</td><td>CALJWST</td><td>1.8.2</td><td>1837</td><td>jw01837004022_06201_00001_nrcb4_rateints.fits</td><td>83954880</td><td>107535737</td><td>PUBLIC</td><td>2</td></tr>\n",
       "</table><style>table.dataTable {clear: both; width: auto !important; margin: 0 !important;}\n",
       ".dataTables_info, .dataTables_length, .dataTables_filter, .dataTables_paginate{\n",
       "display: inline-block; margin-right: 1em; }\n",
       ".paginate_button { margin-right: 5px; }\n",
       "</style>\n",
       "<script>\n",
       "\n",
       "var astropy_sort_num = function(a, b) {\n",
       "    var a_num = parseFloat(a);\n",
       "    var b_num = parseFloat(b);\n",
       "\n",
       "    if (isNaN(a_num) && isNaN(b_num))\n",
       "        return ((a < b) ? -1 : ((a > b) ? 1 : 0));\n",
       "    else if (!isNaN(a_num) && !isNaN(b_num))\n",
       "        return ((a_num < b_num) ? -1 : ((a_num > b_num) ? 1 : 0));\n",
       "    else\n",
       "        return isNaN(a_num) ? -1 : 1;\n",
       "}\n",
       "\n",
       "require.config({paths: {\n",
       "    datatables: 'https://cdn.datatables.net/1.10.12/js/jquery.dataTables.min'\n",
       "}});\n",
       "require([\"datatables\"], function(){\n",
       "    console.log(\"$('#table4666928816-803340').dataTable()\");\n",
       "    \n",
       "jQuery.extend( jQuery.fn.dataTableExt.oSort, {\n",
       "    \"optionalnum-asc\": astropy_sort_num,\n",
       "    \"optionalnum-desc\": function (a,b) { return -astropy_sort_num(a, b); }\n",
       "});\n",
       "\n",
       "    $('#table4666928816-803340').dataTable({\n",
       "        order: [],\n",
       "        pageLength: 5,\n",
       "        lengthMenu: [[5, 10, 25, 50, 100, 500, 1000, -1], [5, 10, 25, 50, 100, 500, 1000, 'All']],\n",
       "        pagingType: \"full_numbers\",\n",
       "        columnDefs: [{targets: [0, 16, 19], type: \"optionalnum\"}]\n",
       "    });\n",
       "});\n",
       "</script>\n"
      ],
      "text/plain": [
       "<IPython.core.display.HTML object>"
      ]
     },
     "execution_count": 6,
     "metadata": {},
     "output_type": "execute_result"
    }
   ],
   "source": [
    "scienceProducts = Observations.filter_products(products, productType=[\"SCIENCE\"],\n",
    "                                               calib_level=[2,3], mrp_only=True, extension=\"fits\")\n",
    "scienceProducts.show_in_notebook(display_length=5)\n"
   ]
  },
  {
   "cell_type": "code",
   "execution_count": 7,
   "id": "5bf383c6",
   "metadata": {},
   "outputs": [
    {
     "name": "stdout",
     "output_type": "stream",
     "text": [
      "0.40 GB\n"
     ]
    }
   ],
   "source": [
    "total = sum(scienceProducts['size'])\n",
    "print('{:.2f} GB'.format(total/10**9))"
   ]
  },
  {
   "cell_type": "code",
   "execution_count": 9,
   "id": "02d86b89",
   "metadata": {},
   "outputs": [
    {
     "name": "stdout",
     "output_type": "stream",
     "text": [
      "Downloading URL https://mast.stsci.edu/api/v0.1/Download/file?uri=mast:JWST/product/jw01837004022_06201_00001_nrcb4_cal.fits to ./mastDownload/JWST/jw01837004022_06201_00001_nrcb4/jw01837004022_06201_00001_nrcb4_cal.fits ... [Done]\n",
      "Downloading URL https://mast.stsci.edu/api/v0.1/Download/file?uri=mast:JWST/product/jw01837004022_06201_00001_nrcb4_i2d.fits to ./mastDownload/JWST/jw01837004022_06201_00001_nrcb4/jw01837004022_06201_00001_nrcb4_i2d.fits ... [Done]\n",
      "Downloading URL https://mast.stsci.edu/api/v0.1/Download/file?uri=mast:JWST/product/jw01837004022_06201_00001_nrcb4_rate.fits to ./mastDownload/JWST/jw01837004022_06201_00001_nrcb4/jw01837004022_06201_00001_nrcb4_rate.fits ... [Done]\n",
      "Downloading URL https://mast.stsci.edu/api/v0.1/Download/file?uri=mast:JWST/product/jw01837004022_06201_00001_nrcb4_rateints.fits to ./mastDownload/JWST/jw01837004022_06201_00001_nrcb4/jw01837004022_06201_00001_nrcb4_rateints.fits ... [Done]\n",
      " Status \n",
      "--------\n",
      "COMPLETE\n",
      "COMPLETE\n",
      "COMPLETE\n",
      "COMPLETE\n"
     ]
    }
   ],
   "source": [
    "manifest = Observations.download_products(scienceProducts)\n",
    "print(manifest['Status'])"
   ]
  },
  {
   "cell_type": "code",
   "execution_count": 10,
   "id": "1838b0bd",
   "metadata": {},
   "outputs": [],
   "source": [
    "from astropy.io import fits\n",
    "\n",
    "hdul = fits.open('./mastDownload/JWST/jw01837004022_06201_00001_nrcb4/jw01837004022_06201_00001_nrcb4_cal.fits')"
   ]
  },
  {
   "cell_type": "code",
   "execution_count": 12,
   "id": "6502c9fd",
   "metadata": {},
   "outputs": [
    {
     "name": "stdout",
     "output_type": "stream",
     "text": [
      "Filename: ./mastDownload/JWST/jw01837004022_06201_00001_nrcb4/jw01837004022_06201_00001_nrcb4_cal.fits\n",
      "No.    Name      Ver    Type      Cards   Dimensions   Format\n",
      "  0  PRIMARY       1 PrimaryHDU     346   ()      \n",
      "  1  SCI           1 ImageHDU       111   (2048, 2048)   float32   \n",
      "  2  ERR           1 ImageHDU        10   (2048, 2048)   float32   \n",
      "  3  DQ            1 ImageHDU        11   (2048, 2048)   int32 (rescales to uint32)   \n",
      "  4  AREA          1 ImageHDU         9   (2048, 2048)   float32   \n",
      "  5  VAR_POISSON    1 ImageHDU         9   (2048, 2048)   float32   \n",
      "  6  VAR_RNOISE    1 ImageHDU         9   (2048, 2048)   float32   \n",
      "  7  VAR_FLAT      1 ImageHDU         9   (2048, 2048)   float32   \n",
      "  8  ASDF          1 BinTableHDU     11   1R x 1C   [24703B]   \n"
     ]
    }
   ],
   "source": [
    "hdul.info()"
   ]
  },
  {
   "cell_type": "code",
   "execution_count": 21,
   "id": "e0b7f18f",
   "metadata": {},
   "outputs": [
    {
     "ename": "TypeError",
     "evalue": "'PrimaryHDU' object is not subscriptable",
     "output_type": "error",
     "traceback": [
      "\u001b[0;31m---------------------------------------------------------------------------\u001b[0m",
      "\u001b[0;31mTypeError\u001b[0m                                 Traceback (most recent call last)",
      "Cell \u001b[0;32mIn[21], line 1\u001b[0m\n\u001b[0;32m----> 1\u001b[0m \u001b[43mhdul\u001b[49m\u001b[43m[\u001b[49m\u001b[38;5;241;43m0\u001b[39;49m\u001b[43m]\u001b[49m\u001b[43m[\u001b[49m\u001b[38;5;124;43m'\u001b[39;49m\u001b[38;5;124;43mFILTER\u001b[39;49m\u001b[38;5;124;43m'\u001b[39;49m\u001b[43m]\u001b[49m\n",
      "\u001b[0;31mTypeError\u001b[0m: 'PrimaryHDU' object is not subscriptable"
     ]
    }
   ],
   "source": [
    "hdul[0]['FILTER']"
   ]
  },
  {
   "cell_type": "code",
   "execution_count": 20,
   "id": "95eb480b",
   "metadata": {},
   "outputs": [
    {
     "data": {
      "text/plain": [
       "XTENSION= 'IMAGE   '           / Image extension                                \n",
       "BITPIX  =                   32 / array data type                                \n",
       "NAXIS   =                    2 / number of array dimensions                     \n",
       "NAXIS1  =                 2048                                                  \n",
       "NAXIS2  =                 2048                                                  \n",
       "PCOUNT  =                    0 / number of parameters                           \n",
       "GCOUNT  =                    1 / number of groups                               \n",
       "BSCALE  =                    1                                                  \n",
       "BZERO   =           2147483648                                                  \n",
       "EXTNAME = 'DQ      '           / extension name                                 \n",
       "EXTVER  =                    1 / extension value                                "
      ]
     },
     "execution_count": 20,
     "metadata": {},
     "output_type": "execute_result"
    }
   ],
   "source": [
    "hdul[3].header"
   ]
  },
  {
   "cell_type": "code",
   "execution_count": 2,
   "id": "e37747c4",
   "metadata": {},
   "outputs": [],
   "source": [
    "from jdaviz import Imviz"
   ]
  },
  {
   "cell_type": "code",
   "execution_count": 3,
   "id": "5859e8e2",
   "metadata": {},
   "outputs": [
    {
     "data": {
      "application/vnd.jupyter.widget-view+json": {
       "model_id": "124a94bf9c504893a0a0a5161fda1a5b",
       "version_major": 2,
       "version_minor": 0
      },
      "text/plain": [
       "Application(config='imviz', events=['call_viewer_method', 'close_snackbar_message', 'data_item_remove', 'data_…"
      ]
     },
     "metadata": {},
     "output_type": "display_data"
    }
   ],
   "source": [
    "imviz = Imviz(5\n",
    "imviz.load_data(\"/Users/mitchell/tde_forecasting/notebooks/mastDownload/JWST/jw01837004022_06201_00001_nrcb4/jw01837004022_06201_00001_nrcb4_i2d.fits\")\n",
    "imviz.show()"
   ]
  },
  {
   "cell_type": "code",
   "execution_count": null,
   "id": "01141b13",
   "metadata": {},
   "outputs": [],
   "source": []
  }
 ],
 "metadata": {
  "kernelspec": {
   "display_name": "Python 3 (ipykernel)",
   "language": "python",
   "name": "python3"
  },
  "language_info": {
   "codemirror_mode": {
    "name": "ipython",
    "version": 3
   },
   "file_extension": ".py",
   "mimetype": "text/x-python",
   "name": "python",
   "nbconvert_exporter": "python",
   "pygments_lexer": "ipython3",
   "version": "3.9.16"
  }
 },
 "nbformat": 4,
 "nbformat_minor": 5
}

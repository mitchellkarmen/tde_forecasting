{
 "cells": [
  {
   "cell_type": "code",
   "execution_count": 1,
   "id": "8ecd4f50",
   "metadata": {},
   "outputs": [],
   "source": [
    "# synthetic population synthesis fits\n",
    "# one i have a stellar population age, it corresponds to a max mass on main sequence\n",
    "# that's how I get m2\n",
    "\n",
    "# find way to assign stellar population age as a function of lookback time\n",
    "\n",
    "# check colin's equation"
   ]
  },
  {
   "cell_type": "code",
   "execution_count": 2,
   "id": "6427f490",
   "metadata": {},
   "outputs": [],
   "source": [
    "import kcorrect.kcorrect\n",
    "import numpy as np\n",
    "\n",
    "import matplotlib.pyplot as plt\n",
    "import seaborn as sns\n",
    "sns.set_context('paper')"
   ]
  },
  {
   "cell_type": "code",
   "execution_count": 3,
   "id": "15f7cdbe",
   "metadata": {},
   "outputs": [
    {
     "name": "stderr",
     "output_type": "stream",
     "text": [
      "WARNING: AstropyDeprecationWarning: The update_default_config function is deprecated and may be removed in a future version. [sncosmo]\n"
     ]
    }
   ],
   "source": [
    "import sncosmo"
   ]
  },
  {
   "cell_type": "code",
   "execution_count": 37,
   "id": "09e457d5",
   "metadata": {},
   "outputs": [
    {
     "data": {
      "text/plain": [
       "'2.9.0'"
      ]
     },
     "execution_count": 37,
     "metadata": {},
     "output_type": "execute_result"
    }
   ],
   "source": [
    "sncosmo.__version__"
   ]
  },
  {
   "cell_type": "code",
   "execution_count": 24,
   "id": "4a455fb1",
   "metadata": {},
   "outputs": [],
   "source": [
    "class GalaxySource(sncosmo.Source):\n",
    "    _param_names = ['c1', 'c2', 'c3', 'c4', 'c5']\n",
    "    param_names_latex = ['C1', 'C2', 'C3', 'C4', 'C5']\n",
    "    \n",
    "    def __init__(self, mag_dict, obs_z):\n",
    "                \n",
    "        \"\"\"\n",
    "        mag_dict: keys are input passbands, values are tuples of magnitudes and uncertainty\n",
    "        \"\"\"\n",
    "        \n",
    "        self.name = 'Galaxy'\n",
    "        self.version = 0.1\n",
    "        self._phase = 0\n",
    "        \n",
    "        bands, responses = list(mag_dict.keys()), list(mag_dict.values())\n",
    "        kc = kcorrect.kcorrect.Kcorrect(responses = bands)\n",
    "        mags = [r[0] for r in responses]\n",
    "        errs = [r[1] for r in responses]\n",
    "        maggies, ivar = kcorrect.utils.sdss_asinh_to_maggies(mags, errs)\n",
    "        coeffs = kc.fit_coeffs(redshift=obs_z, maggies=maggies, ivar = ivar)\n",
    "        rf_mags = kc.absmag(redshift=obs_z, maggies=maggies, ivar=ivar, coeffs=coeffs)\n",
    "        print(rf_mags)\n",
    "        maggies, ivar = kcorrect.utils.sdss_asinh_to_maggies(rf_mags, errs)\n",
    "        coeffs = kc.fit_coeffs(redshift=0, maggies=maggies, ivar = ivar)\n",
    "        \n",
    "        \n",
    "        templates = kc.templates\n",
    "        #templates.set_redshift(obs_z)\n",
    "        self._wave = templates.restframe_wave # * (1. + obs_z)\n",
    "        self.obs_z = obs_z\n",
    "        self.kc = kc\n",
    "        self.coeffs = coeffs\n",
    "        self._parameters = coeffs\n",
    "        self.templates = templates\n",
    "        \n",
    "    def _flux(self, phase, wave):\n",
    "        default_wave = self._wave\n",
    "        coeffs = self.coeffs\n",
    "        temp_flux = self.templates.flux\n",
    "        default_flux = coeffs.dot(temp_flux) # / (1. + self.obs_z) \n",
    "        rf_flux = default_flux \n",
    "        fill_errs = np.full(len(default_wave), 0.001)\n",
    "        spectrum = sncosmo.Spectrum(default_wave, rf_flux, fill_errs)\n",
    "        binned_spectrum = spectrum.rebin(wave)\n",
    "        flux = binned_spectrum.flux\n",
    "        return flux.reshape(1, len(flux))"
   ]
  },
  {
   "cell_type": "code",
   "execution_count": 25,
   "id": "9af0c100",
   "metadata": {},
   "outputs": [
    {
     "name": "stdout",
     "output_type": "stream",
     "text": [
      "[-17.6151119  -19.0693749  -19.65242706 -19.82983431 -20.07036986]\n"
     ]
    }
   ],
   "source": [
    "at2018hyz = {'u_mag': 19.195, 'err_u': 0.034,\n",
    "           'g_mag': 17.605, 'err_g': 0.005,\n",
    "           'r_mag': 17.040, 'err_r': 0.005,\n",
    "           'i_mag': 16.755, 'err_i': 0.005,\n",
    "           'z_mag': 16.546, 'err_z': 0.0014,\n",
    "            'z':  0.0457}\n",
    "\n",
    "mag_dict = {'sdss_u0': (at2018hyz['u_mag'], at2018hyz['err_u']),\n",
    "           'sdss_g0': (at2018hyz['g_mag'], at2018hyz['err_g']),\n",
    "           'sdss_r0': (at2018hyz['r_mag'], at2018hyz['err_r']),\n",
    "           'sdss_i0': (at2018hyz['i_mag'], at2018hyz['err_i']),\n",
    "           'sdss_z0': (at2018hyz['z_mag'], at2018hyz['err_z'])}\n",
    "\n",
    "gal = GalaxySource(mag_dict = mag_dict, obs_z = at2018hyz['z'])"
   ]
  },
  {
   "cell_type": "code",
   "execution_count": 30,
   "id": "7c392cce",
   "metadata": {},
   "outputs": [],
   "source": [
    "A = gal.coeffs.dot(gal.templates.flux)"
   ]
  },
  {
   "cell_type": "code",
   "execution_count": 27,
   "id": "d806af57",
   "metadata": {},
   "outputs": [],
   "source": [
    "kc = gal.kc"
   ]
  },
  {
   "cell_type": "code",
   "execution_count": 35,
   "id": "f0b1f549",
   "metadata": {},
   "outputs": [],
   "source": [
    "wave = gal._wave\n",
    "wave = np.linspace(min(wave), max(wave), 80)\n",
    "# flux = gal._flux(0, wave)[0, :]"
   ]
  },
  {
   "cell_type": "code",
   "execution_count": 36,
   "id": "1112b03d",
   "metadata": {},
   "outputs": [
    {
     "name": "stdout",
     "output_type": "stream",
     "text": [
      " "
     ]
    }
   ],
   "source": [
    "%prun flux = gal._flux(0, wave)[0, :]"
   ]
  },
  {
   "cell_type": "code",
   "execution_count": 10,
   "id": "90386554",
   "metadata": {},
   "outputs": [],
   "source": [
    "test_spec = sncosmo.Spectrum(wave, flux, np.full(len(wave), 0.000000000001))"
   ]
  },
  {
   "cell_type": "code",
   "execution_count": 11,
   "id": "6c8eb36d",
   "metadata": {},
   "outputs": [
    {
     "data": {
      "text/plain": [
       "[<matplotlib.lines.Line2D at 0x1188014c0>]"
      ]
     },
     "execution_count": 11,
     "metadata": {},
     "output_type": "execute_result"
    },
    {
     "data": {
      "image/png": "[encoded data removed]",
      "text/plain": [
       "<Figure size 640x480 with 1 Axes>"
      ]
     },
     "metadata": {},
     "output_type": "display_data"
    }
   ],
   "source": [
    "plt.plot(wave, flux)"
   ]
  },
  {
   "cell_type": "code",
   "execution_count": 38,
   "id": "4d4f1592",
   "metadata": {},
   "outputs": [],
   "source": [
    "from astropy import units as u\n",
    "from astropy.cosmology import WMAP9 as cosmo\n",
    "from astropy import constants as const\n",
    "import sys\n",
    "sys.path.append('../')\n",
    "from scripts import tde_utils"
   ]
  },
  {
   "cell_type": "code",
   "execution_count": 39,
   "id": "1b30cec1",
   "metadata": {},
   "outputs": [],
   "source": [
    "wide_limits = {'f062': 26.4,\n",
    "               'f087': 25.6, \n",
    "               'f106': 25.5,\n",
    "               'f129': 25.4\n",
    "              }\n",
    "\n",
    "\n",
    "deep_limits = {'f106': 26.7,\n",
    "               'f129': 26.6,\n",
    "               'f158': 26.5,\n",
    "               'f184': 26.7\n",
    "              }"
   ]
  },
  {
   "cell_type": "code",
   "execution_count": null,
   "id": "067e9899",
   "metadata": {
    "scrolled": true
   },
   "outputs": [
    {
     "data": {
      "application/vnd.jupyter.widget-view+json": {
       "model_id": "d8f760ce5d7843e3873606d4e915a7e2",
       "version_major": 2,
       "version_minor": 0
      },
      "text/plain": [
       "  0%|          | 0/192 [00:00<?, ?it/s]"
      ]
     },
     "metadata": {},
     "output_type": "display_data"
    },
    {
     "name": "stdout",
     "output_type": "stream",
     "text": [
      "f062\n"
     ]
    }
   ],
   "source": [
    "from tqdm.notebook import tqdm\n",
    "\n",
    "zs = np.linspace(0.1, 7.5, 24)\n",
    "\n",
    "result_dict = {'f062': np.zeros(len(zs)), \n",
    "               'f087': np.zeros(len(zs)), \n",
    "               'f106': np.zeros(len(zs)),\n",
    "               'f129': np.zeros(len(zs)),\n",
    "               'f158': np.zeros(len(zs)),\n",
    "               'f184': np.zeros(len(zs)),\n",
    "               'f213': np.zeros(len(zs)),\n",
    "               'f146': np.zeros(len(zs))\n",
    "              }\n",
    "tde_mags = {'f062': np.zeros(len(zs)), \n",
    "               'f087': np.zeros(len(zs)), \n",
    "               'f106': np.zeros(len(zs)),\n",
    "               'f129': np.zeros(len(zs)),\n",
    "               'f158': np.zeros(len(zs)),\n",
    "               'f184': np.zeros(len(zs)),\n",
    "               'f213': np.zeros(len(zs)),\n",
    "               'f146': np.zeros(len(zs))\n",
    "              }\n",
    "gal_mags = {'f062': np.zeros(len(zs)), \n",
    "               'f087': np.zeros(len(zs)), \n",
    "               'f106': np.zeros(len(zs)),\n",
    "               'f129': np.zeros(len(zs)),\n",
    "               'f158': np.zeros(len(zs)),\n",
    "               'f184': np.zeros(len(zs)),\n",
    "               'f213': np.zeros(len(zs)),\n",
    "               'f146': np.zeros(len(zs))\n",
    "              }\n",
    "snia_mags = {'f062': np.zeros(len(zs)), \n",
    "               'f087': np.zeros(len(zs)), \n",
    "               'f106': np.zeros(len(zs)),\n",
    "               'f129': np.zeros(len(zs)),\n",
    "               'f158': np.zeros(len(zs)),\n",
    "               'f184': np.zeros(len(zs)),\n",
    "               'f213': np.zeros(len(zs)),\n",
    "               'f146': np.zeros(len(zs))\n",
    "              }\n",
    "\n",
    "qso_mags = {'f062': np.zeros(len(zs)), \n",
    "               'f087': np.zeros(len(zs)), \n",
    "               'f106': np.zeros(len(zs)),\n",
    "               'f129': np.zeros(len(zs)),\n",
    "               'f158': np.zeros(len(zs)),\n",
    "               'f184': np.zeros(len(zs)),\n",
    "               'f213': np.zeros(len(zs)),\n",
    "               'f146': np.zeros(len(zs))\n",
    "              }\n",
    "\n",
    "# abs_r = kc_sdss.absmag(redshift = redshift, maggies = maggies, \n",
    "#                        ivar=ivar, coeffs = coeffs)[2]\n",
    "\n",
    "filter_loop = tqdm(list(result_dict.keys()), total = len(list(result_dict.keys()))*len(zs))\n",
    "qso_source = tde_utils.QSOSource(r_mag = -25.)\n",
    "\n",
    "for roman_filter in filter_loop:\n",
    "    print(roman_filter)\n",
    "    for i, z in enumerate(zs):\n",
    "    \n",
    "        luminosity_distance = cosmo.luminosity_distance(z)\n",
    "        \n",
    "        # TDE Magnitudes\n",
    "        source = tde_utils.BlackBodySource(30000)\n",
    "        bb_model = sncosmo.Model(source=source)\n",
    "        bb_model.set(z=z)\n",
    "\n",
    "        filter_zstretched_mag = bb_model.bandmag(roman_filter, 'ab', 0)\n",
    "        app_mag = filter_zstretched_mag + 5*np.log10(luminosity_distance/(10 * u.parsec))\n",
    "        tde_mags[roman_filter][i] = app_mag\n",
    "\n",
    "        # Galaxy Magnitudes\n",
    "\n",
    "        gal_model = sncosmo.Model(source=gal)\n",
    "        gal_model.set(z=z)\n",
    "        try:\n",
    "            gal_zstretched_mag = gal_model.bandmag(roman_filter, 'ab', 0)\n",
    "            app_mag = gal_zstretched_mag + 5*np.log10(luminosity_distance/(10 * u.parsec))\n",
    "            gal_mags[roman_filter][i] = app_mag\n",
    "        except:\n",
    "            gal_mags[roman_filter][i] = np.nan\n",
    "        \n",
    "        # SNe Ia Magnitudes\n",
    "\n",
    "        snia_model = sncosmo.Model(source='salt2-extended')\n",
    "        snia_model.set(z=z)\n",
    "        snia_model.set(x1=0, c=0, x0= 1051627384124.3574, t0=0)\n",
    "        try:\n",
    "            snia_zstretched_mag = snia_model.bandmag(roman_filter, 'ab', 0)\n",
    "            snia_app_mag = snia_zstretched_mag + 5*np.log10(luminosity_distance/(10 * u.parsec))\n",
    "            snia_mags[roman_filter][i] = snia_app_mag\n",
    "        except Exception as e:\n",
    "            #snia_mags[roman_filter].append(np.nan)\n",
    "            print('simulating sn as blackbody')\n",
    "            snia_scale = 1.718e-16\n",
    "            snia_source = tde_utils.BlackBodySource(temperature=5500., scale=snia_scale)\n",
    "            snia_model = sncosmo.Model(source=snia_source)\n",
    "            snia_model.set(z=z)\n",
    "            \n",
    "            snia_zstretched_mag = snia_model.bandmag(roman_filter, 'ab', 0)\n",
    "            snia_app_mag = snia_zstretched_mag + 5*np.log10(luminosity_distance/(10 * u.parsec))\n",
    "            snia_mags[roman_filter][i] = snia_app_mag\n",
    "            \n",
    "        # QSO Magnitudes\n",
    "        \n",
    "        qso_model = sncosmo.Model(source=qso_source)\n",
    "        qso_model.set(z=z)\n",
    "        try:\n",
    "            qso_zstretched_mag = qso_model.bandmag(roman_filter, 'ab', 0)\n",
    "            app_mag = qso_zstretched_mag + 5*np.log10(luminosity_distance/(10 * u.parsec))\n",
    "            qso_mags[roman_filter][i] = app_mag\n",
    "        except:\n",
    "            qso_mags[roman_filter][i] = np.nan\n",
    "            \n",
    "        filter_loop.update()"
   ]
  },
  {
   "cell_type": "code",
   "execution_count": null,
   "id": "08ae55d1",
   "metadata": {},
   "outputs": [],
   "source": [
    "l_alpha = 1215.67 #angstrom"
   ]
  },
  {
   "cell_type": "code",
   "execution_count": null,
   "id": "98f16487",
   "metadata": {},
   "outputs": [],
   "source": [
    "# fig, axes = plt.subplots(nrows=len(result_dict.keys()), dpi = 200, \n",
    "#                          figsize = [6, 4*len(result_dict.keys())])\n",
    "\n",
    "fig, ax = plt.subplots(dpi=300)\n",
    "\n",
    "# lyman alpha\n",
    "roman_filter='f184'\n",
    "band = sncosmo.get_bandpass(roman_filter)\n",
    "z_contam = (band.minwave() / l_alpha) - 1\n",
    "\n",
    "ax.plot(zs, tde_mags[roman_filter], label = 'TDEs')\n",
    "ax.plot(zs, gal_mags[roman_filter], label = 'Host Galaxies')\n",
    "ax.plot(zs, snia_mags[roman_filter], label = 'SNe Ia')\n",
    "#ax.plot(zs, qso_mags[roman_filter], label = 'Quasars')\n",
    "\n",
    "xmin, xmax = ax.get_xlim()\n",
    "ax.axvspan(z_contam, xmax, zorder = -1, alpha = 0.3, color = 'grey')\n",
    "\n",
    "if roman_filter in wide_limits.keys():\n",
    "    ax.axhline(wide_limits[roman_filter], c = 'k', ls = '--', label = 'HLTDS Wide Limit')\n",
    "if roman_filter in deep_limits.keys():\n",
    "    ax.axhline(deep_limits[roman_filter], c = 'k', ls = '-.', label = 'HLTDS Deep Limit')\n",
    "\n",
    "ax.axhline(27.4, c = 'k', ls = ':', label = 'One Hour Point Source Limit')\n",
    "ax.axhline(24.4, c = 'k', ls = 'solid', label = 'One Minute Point Source Limit')\n",
    "\n",
    "ax.set_title(roman_filter)\n",
    "ax.set_xlabel('z')\n",
    "ax.set_ylabel('Magnitude')\n",
    "ax.legend()\n",
    "ymin, ymax = ax.get_ylim()\n",
    "ax.set_ylim(np.min([ymax, 32]), ymin)\n",
    "ax.set_xlim(min(zs), max(zs))\n",
    "\n",
    "fig.suptitle('Roman Magnitudes vs Redshift', y = 0.995)\n",
    "plt.tight_layout()\n",
    "plt.savefig(f'../figures/f184_mag_vs_z.pdf', dpi = 300, bbox_inches='tight')\n",
    "plt.show()"
   ]
  },
  {
   "cell_type": "code",
   "execution_count": null,
   "id": "e346bfb6",
   "metadata": {},
   "outputs": [],
   "source": [
    "fig, axes = plt.subplots(nrows=len(result_dict.keys()), dpi = 200, \n",
    "                         figsize = [6, 4*len(result_dict.keys())])\n",
    "for i, roman_filter in enumerate(result_dict.keys()):\n",
    "    \n",
    "    ax = axes[i]\n",
    "    \n",
    "    # lyman alpha\n",
    "    band = sncosmo.get_bandpass(roman_filter)\n",
    "    z_contam = (band.minwave() / l_alpha) - 1\n",
    "    \n",
    "    ax.plot(zs, tde_mags[roman_filter], label = 'TDEs')\n",
    "    ax.plot(zs, gal_mags[roman_filter], label = 'Host Galaxies')\n",
    "    ax.plot(zs, snia_mags[roman_filter], label = 'SNe Ia')\n",
    "    ax.plot(zs, qso_mags[roman_filter], label = 'Quasars')\n",
    "    \n",
    "    xmin, xmax = ax.get_xlim()\n",
    "    ax.axvspan(z_contam, xmax, zorder = -1, alpha = 0.3, color = 'grey')\n",
    "    \n",
    "    if roman_filter in wide_limits.keys():\n",
    "        ax.axhline(wide_limits[roman_filter], c = 'k', ls = '--', label = 'Roman Wide Limit')\n",
    "    if roman_filter in deep_limits.keys():\n",
    "        ax.axhline(deep_limits[roman_filter], c = 'k', ls = '-.', label = 'Roman Deep Limit')\n",
    "    \n",
    "    ax.set_title(roman_filter)\n",
    "    ax.set_xlabel('z')\n",
    "    ax.set_ylabel('Magnitude')\n",
    "    ax.legend()\n",
    "    ymin, ymax = ax.get_ylim()\n",
    "    ax.set_ylim(np.min([ymax, 32]), ymin)\n",
    "    ax.set_xlim(min(zs), max(zs))\n",
    "    \n",
    "fig.suptitle('Roman Magnitudes vs Redshift', y = 0.995)\n",
    "plt.tight_layout()\n",
    "plt.savefig(f'../figures/mag_vs_z_roman.pdf', dpi = 300)\n",
    "print(fig.get_size_inches())\n",
    "plt.show()"
   ]
  },
  {
   "cell_type": "code",
   "execution_count": null,
   "id": "bf76edb8",
   "metadata": {
    "scrolled": false
   },
   "outputs": [],
   "source": [
    "fig, axes = plt.subplots(nrows=4, ncols=2, dpi = 200, \n",
    "                         figsize = [6*2, 4*4])\n",
    "for i, roman_filter in enumerate(result_dict.keys()):\n",
    "    \n",
    "    ax = axes.flatten()[i]\n",
    "    \n",
    "    # lyman alpha\n",
    "    band = sncosmo.get_bandpass(roman_filter)\n",
    "    z_contam = (band.minwave() / l_alpha) - 1\n",
    "    \n",
    "    ax.plot(zs, tde_mags[roman_filter], label = 'TDEs')\n",
    "    ax.plot(zs, gal_mags[roman_filter], label = 'Host Galaxies')\n",
    "    ax.plot(zs, snia_mags[roman_filter], label = 'SNe Ia')\n",
    "    ax.plot(zs, qso_mags[roman_filter], label = 'Quasars')\n",
    "    \n",
    "    xmin, xmax = ax.get_xlim()\n",
    "    ax.axvspan(z_contam, xmax, zorder = -1, alpha = 0.3, color = 'grey')\n",
    "    \n",
    "    if roman_filter in wide_limits.keys():\n",
    "        ax.axhline(wide_limits[roman_filter], c = 'k', ls = '--', label = 'Roman Wide Limit')\n",
    "    if roman_filter in deep_limits.keys():\n",
    "        ax.axhline(deep_limits[roman_filter], c = 'k', ls = '-.', label = 'Roman Deep Limit')\n",
    "    \n",
    "    ax.set_title(roman_filter)\n",
    "    ax.set_xlabel('z')\n",
    "    ax.set_ylabel('Magnitude')\n",
    "    ax.legend()\n",
    "    ymin, ymax = ax.get_ylim()\n",
    "    ax.set_ylim(np.min([ymax, 32]), ymin)\n",
    "    ax.set_xlim(min(zs), max(zs))\n",
    "    \n",
    "fig.suptitle('Roman Magnitudes vs Redshift', y = 0.995)\n",
    "plt.tight_layout()\n",
    "plt.savefig(f'../figures/mag_vs_z_roman_grid.pdf', dpi = 300)\n",
    "print(fig.get_size_inches())\n",
    "plt.show()"
   ]
  },
  {
   "cell_type": "code",
   "execution_count": 19,
   "id": "8d1031c6",
   "metadata": {
    "scrolled": true
   },
   "outputs": [
    {
     "data": {
      "image/png": "[encoded data removed]",
      "text/plain": [
       "<Figure size 432x288 with 1 Axes>"
      ]
     },
     "metadata": {
      "needs_background": "light"
     },
     "output_type": "display_data"
    }
   ],
   "source": [
    "# for roman_filter in result_dict.keys():\n",
    "\n",
    "# lyman alpha\n",
    "band = sncosmo.get_bandpass(roman_filter)\n",
    "z_contam = (band.minwave() / l_alpha) - 1\n",
    "\n",
    "plt.plot(zs, tde_mags['f087'] - tde_mags['f062'], label = 'TDEs')\n",
    "plt.plot(zs, gal_mags['f087'] - tde_mags['f062'], label = 'Host Galaxies')\n",
    "plt.plot(zs, snia_mags['f087'] - snia_mags['f062'], label = 'SNe Ia')\n",
    "plt.plot(zs, qso_mags['f087'] - qso_mags['f062'], label = 'Quasars')\n",
    "\n",
    "\n",
    "ax = plt.gca()\n",
    "xmin, xmax = ax.get_xlim()\n",
    "#ax.axvspan(z_contam, xmax, zorder = -1, alpha = 0.3, color = 'grey')\n",
    "\n",
    "#     if roman_filter in wide_limits.keys():\n",
    "#         plt.axhline(wide_limits[roman_filter], c = 'k', ls = '--', label = 'Roman Wide Limit')\n",
    "#     if roman_filter in deep_limits.keys():\n",
    "#         plt.axhline(deep_limits[roman_filter], c = 'k', ls = '-.', label = 'Roman Deep Limit')\n",
    "\n",
    "plt.xlabel('z')\n",
    "plt.ylabel('z - r color')\n",
    "plt.legend()\n",
    "ymin, ymax = ax.get_ylim()\n",
    "# ax.set_ylim(np.min([ymax, 32]), ymin)\n",
    "ax.set_xlim(min(zs), max(zs))\n",
    "plt.savefig(f'../figures/color_vs_z.png', dpi = 300)\n",
    "plt.show()"
   ]
  },
  {
   "cell_type": "code",
   "execution_count": 23,
   "id": "b5c3bc62",
   "metadata": {},
   "outputs": [
    {
     "data": {
      "image/png": "[encoded data removed]",
      "text/plain": [
       "<Figure size 432x288 with 1 Axes>"
      ]
     },
     "metadata": {
      "needs_background": "light"
     },
     "output_type": "display_data"
    }
   ],
   "source": [
    "# for roman_filter in result_dict.keys():\n",
    "\n",
    "# lyman alpha\n",
    "band = sncosmo.get_bandpass(roman_filter)\n",
    "z_contam = (band.minwave() / l_alpha) - 1\n",
    "\n",
    "plt.plot(zs, tde_mags['f184'] - tde_mags['f129'], label = 'TDEs')\n",
    "plt.plot(zs, gal_mags['f184'] - tde_mags['f129'], label = 'Host Galaxies')\n",
    "plt.plot(zs, snia_mags['f184'] - snia_mags['f129'], label = 'SNe Ia')\n",
    "plt.plot(zs, qso_mags['f184'] - qso_mags['f129'], label = 'Quasars')\n",
    "\n",
    "\n",
    "ax = plt.gca()\n",
    "xmin, xmax = ax.get_xlim()\n",
    "#ax.axvspan(z_contam, xmax, zorder = -1, alpha = 0.3, color = 'grey')\n",
    "\n",
    "#     if roman_filter in wide_limits.keys():\n",
    "#         plt.axhline(wide_limits[roman_filter], c = 'k', ls = '--', label = 'Roman Wide Limit')\n",
    "#     if roman_filter in deep_limits.keys():\n",
    "#         plt.axhline(deep_limits[roman_filter], c = 'k', ls = '-.', label = 'Roman Deep Limit')\n",
    "\n",
    "plt.xlabel('z')\n",
    "plt.ylabel('f129 - f062 color')\n",
    "plt.legend()\n",
    "ymin, ymax = ax.get_ylim()\n",
    "# ax.set_ylim(np.min([ymax, 32]), ymin)\n",
    "ax.set_xlim(min(zs), max(zs))\n",
    "#plt.savefig(f'../figures/color_vs_z.png', dpi = 300)\n",
    "plt.show()"
   ]
  },
  {
   "cell_type": "code",
   "execution_count": null,
   "id": "576f361f",
   "metadata": {},
   "outputs": [],
   "source": []
  }
 ],
 "metadata": {
  "kernelspec": {
   "display_name": "Python 3 (ipykernel)",
   "language": "python",
   "name": "python3"
  },
  "language_info": {
   "codemirror_mode": {
    "name": "ipython",
    "version": 3
   },
   "file_extension": ".py",
   "mimetype": "text/x-python",
   "name": "python",
   "nbconvert_exporter": "python",
   "pygments_lexer": "ipython3",
   "version": "3.9.16"
  }
 },
 "nbformat": 4,
 "nbformat_minor": 5
}

{
 "cells": [
  {
   "cell_type": "code",
   "execution_count": 1,
   "id": "ede12eec-7f57-4e68-a04a-e874a8734390",
   "metadata": {},
   "outputs": [
    {
     "name": "stderr",
     "output_type": "stream",
     "text": [
      "WARNING: AstropyDeprecationWarning: The update_default_config function is deprecated and may be removed in a future version. [sncosmo]\n"
     ]
    }
   ],
   "source": [
    "import kcorrect.kcorrect\n",
    "import numpy as np\n",
    "import sncosmo\n",
    "from tqdm import tqdm\n",
    "from astropy import units as u\n",
    "from astropy.cosmology import WMAP9 as cosmo\n",
    "from astropy import constants as const\n",
    "import sys\n",
    "import json\n",
    "\n",
    "tde_utils_location = '../'\n",
    "sys.path.append(tde_utils_location)\n",
    "from scripts import tde_utils"
   ]
  },
  {
   "cell_type": "code",
   "execution_count": 2,
   "id": "5d0c9e45-036c-4d3d-8e87-572c8f49205c",
   "metadata": {},
   "outputs": [],
   "source": [
    "with open('../survey_master_list.json', 'r') as fp:\n",
    "    survey_limits = json.load(fp)\n",
    "    \n",
    "roman_wide_limits = survey_limits['roman_wide_limits']\n",
    "roman_deep_limits = survey_limits['roman_deep_limits']\n",
    "roman_hour_limits = survey_limits['roman_1hour_limits']\n",
    "roman_minute_limits = survey_limits['roman_1min_limits']\n",
    "proposal_limits = survey_limits['roman_proposal_limits']"
   ]
  },
  {
   "cell_type": "code",
   "execution_count": 4,
   "id": "d58fb2f1-5c58-4d54-800c-3818d14128f5",
   "metadata": {},
   "outputs": [],
   "source": [
    "jwst_nircam_limits = survey_limits['jwst_nircam_10000s_limits']"
   ]
  },
  {
   "cell_type": "code",
   "execution_count": 7,
   "id": "1287a12e-d3e7-472a-9af0-362a039401ab",
   "metadata": {},
   "outputs": [],
   "source": [
    "at2018hyz = {'u_mag': 19.195, 'err_u': 0.034,\n",
    "           'g_mag': 17.605, 'err_g': 0.005,\n",
    "           'r_mag': 17.040, 'err_r': 0.005,\n",
    "           'i_mag': 16.755, 'err_i': 0.005,\n",
    "           'z_mag': 16.546, 'err_z': 0.0014,\n",
    "            'z':  0.0457}\n",
    "\n",
    "mag_dict = {'sdss_u0': (at2018hyz['u_mag'], at2018hyz['err_u']),\n",
    "           'sdss_g0': (at2018hyz['g_mag'], at2018hyz['err_g']),\n",
    "           'sdss_r0': (at2018hyz['r_mag'], at2018hyz['err_r']),\n",
    "           'sdss_i0': (at2018hyz['i_mag'], at2018hyz['err_i']),\n",
    "           'sdss_z0': (at2018hyz['z_mag'], at2018hyz['err_z'])}\n",
    "\n",
    "gal = tde_utils.GalaxySource(mag_dict = mag_dict, obs_z = at2018hyz['z'])"
   ]
  },
  {
   "cell_type": "code",
   "execution_count": 10,
   "id": "7c8b431e-697a-4753-b725-48b2ab8409a2",
   "metadata": {},
   "outputs": [],
   "source": [
    "zs = np.linspace(0.1, 15.5, 50)\n",
    "\n",
    "tde_mags = {}\n",
    "gal_mags = {}\n",
    "snia_mags = {}\n",
    "qso_mags = {}\n",
    "\n",
    "for passband in jwst_nircam_limits.keys():\n",
    "    tde_mags[passband] = np.zeros(len(zs))\n",
    "    gal_mags[passband] = np.zeros(len(zs))\n",
    "    snia_mags[passband] = np.zeros(len(zs))\n",
    "    qso_mags[passband] = np.zeros(len(zs))\n",
    "\n",
    "qso_source = tde_utils.QSOSource(r_mag = -25.)"
   ]
  },
  {
   "cell_type": "code",
   "execution_count": null,
   "id": "a0ffe032-8dea-4925-8dbd-69a41e6a4fba",
   "metadata": {},
   "outputs": [
    {
     "name": "stderr",
     "output_type": "stream",
     "text": [
      "\n",
      "  0%|          | 0/1000 [01:19<?, ?it/s]\u001b[A"
     ]
    },
    {
     "name": "stdout",
     "output_type": "stream",
     "text": [
      "F070W\n",
      "Downloading http://sncosmo.github.io/data/bandpasses/nircam/jwst_nircam_f070w.dat [Done]\n"
     ]
    },
    {
     "name": "stderr",
     "output_type": "stream",
     "text": [
      "\n",
      "\n",
      "  0%|          | 1/1000 [00:03<55:14,  3.32s/it]\u001b[A\n",
      "  0%|          | 2/1000 [00:06<49:48,  2.99s/it]\u001b[A\n",
      "  0%|          | 3/1000 [00:08<47:59,  2.89s/it]\u001b[A\n",
      "  0%|          | 4/1000 [00:11<47:10,  2.84s/it]\u001b[A\n",
      "  0%|          | 5/1000 [00:14<46:40,  2.81s/it]\u001b[A\n",
      "  1%|          | 6/1000 [00:17<46:19,  2.80s/it]\u001b[A\n",
      "  1%|          | 7/1000 [00:19<46:06,  2.79s/it]\u001b[A\n",
      "  1%|          | 8/1000 [00:22<45:56,  2.78s/it]\u001b[A"
     ]
    },
    {
     "name": "stdout",
     "output_type": "stream",
     "text": [
      "simulating sn as blackbody\n"
     ]
    },
    {
     "name": "stderr",
     "output_type": "stream",
     "text": [
      "\n",
      "  1%|          | 9/1000 [00:25<45:50,  2.78s/it]\u001b[A"
     ]
    },
    {
     "name": "stdout",
     "output_type": "stream",
     "text": [
      "simulating sn as blackbody\n"
     ]
    },
    {
     "name": "stderr",
     "output_type": "stream",
     "text": [
      "\n",
      "  1%|          | 10/1000 [00:28<45:44,  2.77s/it]\u001b[A"
     ]
    },
    {
     "name": "stdout",
     "output_type": "stream",
     "text": [
      "simulating sn as blackbody\n"
     ]
    },
    {
     "name": "stderr",
     "output_type": "stream",
     "text": [
      "\n",
      "  1%|          | 11/1000 [00:30<45:40,  2.77s/it]\u001b[A"
     ]
    },
    {
     "name": "stdout",
     "output_type": "stream",
     "text": [
      "simulating sn as blackbody\n"
     ]
    },
    {
     "name": "stderr",
     "output_type": "stream",
     "text": [
      "\n",
      "  1%|          | 12/1000 [00:33<45:37,  2.77s/it]\u001b[A"
     ]
    },
    {
     "name": "stdout",
     "output_type": "stream",
     "text": [
      "simulating sn as blackbody\n"
     ]
    },
    {
     "name": "stderr",
     "output_type": "stream",
     "text": [
      "\n",
      "  1%|▏         | 13/1000 [00:36<45:32,  2.77s/it]\u001b[A"
     ]
    },
    {
     "name": "stdout",
     "output_type": "stream",
     "text": [
      "simulating sn as blackbody\n"
     ]
    },
    {
     "name": "stderr",
     "output_type": "stream",
     "text": [
      "\n",
      "  1%|▏         | 14/1000 [00:39<45:28,  2.77s/it]\u001b[A"
     ]
    },
    {
     "name": "stdout",
     "output_type": "stream",
     "text": [
      "simulating sn as blackbody\n"
     ]
    },
    {
     "name": "stderr",
     "output_type": "stream",
     "text": [
      "\n",
      "  2%|▏         | 15/1000 [00:42<45:25,  2.77s/it]\u001b[A"
     ]
    },
    {
     "name": "stdout",
     "output_type": "stream",
     "text": [
      "simulating sn as blackbody\n"
     ]
    },
    {
     "name": "stderr",
     "output_type": "stream",
     "text": [
      "\n",
      "  2%|▏         | 16/1000 [00:44<45:24,  2.77s/it]\u001b[A"
     ]
    },
    {
     "name": "stdout",
     "output_type": "stream",
     "text": [
      "simulating sn as blackbody\n"
     ]
    },
    {
     "name": "stderr",
     "output_type": "stream",
     "text": [
      "\n",
      "  2%|▏         | 17/1000 [00:47<45:22,  2.77s/it]\u001b[A"
     ]
    },
    {
     "name": "stdout",
     "output_type": "stream",
     "text": [
      "simulating sn as blackbody\n"
     ]
    },
    {
     "name": "stderr",
     "output_type": "stream",
     "text": [
      "\n",
      "  2%|▏         | 18/1000 [00:50<45:19,  2.77s/it]\u001b[A"
     ]
    },
    {
     "name": "stdout",
     "output_type": "stream",
     "text": [
      "simulating sn as blackbody\n"
     ]
    },
    {
     "name": "stderr",
     "output_type": "stream",
     "text": [
      "\n",
      "  2%|▏         | 19/1000 [00:53<45:15,  2.77s/it]\u001b[A"
     ]
    },
    {
     "name": "stdout",
     "output_type": "stream",
     "text": [
      "simulating sn as blackbody\n"
     ]
    },
    {
     "name": "stderr",
     "output_type": "stream",
     "text": [
      "\n",
      "  2%|▏         | 20/1000 [00:55<45:12,  2.77s/it]\u001b[A"
     ]
    },
    {
     "name": "stdout",
     "output_type": "stream",
     "text": [
      "simulating sn as blackbody\n"
     ]
    },
    {
     "name": "stderr",
     "output_type": "stream",
     "text": [
      "\n",
      "  2%|▏         | 21/1000 [00:58<45:12,  2.77s/it]\u001b[A\n",
      "  2%|▏         | 22/1000 [01:00<39:56,  2.45s/it]\u001b[A"
     ]
    },
    {
     "name": "stdout",
     "output_type": "stream",
     "text": [
      "simulating sn as blackbody\n"
     ]
    },
    {
     "name": "stderr",
     "output_type": "stream",
     "text": [
      "\n",
      "  2%|▏         | 23/1000 [01:02<36:15,  2.23s/it]\u001b[A"
     ]
    },
    {
     "name": "stdout",
     "output_type": "stream",
     "text": [
      "simulating sn as blackbody\n"
     ]
    },
    {
     "name": "stderr",
     "output_type": "stream",
     "text": [
      "\n",
      "  2%|▏         | 24/1000 [01:03<33:40,  2.07s/it]\u001b[A"
     ]
    },
    {
     "name": "stdout",
     "output_type": "stream",
     "text": [
      "simulating sn as blackbody\n"
     ]
    },
    {
     "name": "stderr",
     "output_type": "stream",
     "text": [
      "\n",
      "  2%|▎         | 25/1000 [01:05<31:52,  1.96s/it]\u001b[A"
     ]
    },
    {
     "name": "stdout",
     "output_type": "stream",
     "text": [
      "simulating sn as blackbody\n"
     ]
    },
    {
     "name": "stderr",
     "output_type": "stream",
     "text": [
      "\n",
      "  3%|▎         | 26/1000 [01:07<30:35,  1.88s/it]\u001b[A"
     ]
    },
    {
     "name": "stdout",
     "output_type": "stream",
     "text": [
      "simulating sn as blackbody\n"
     ]
    },
    {
     "name": "stderr",
     "output_type": "stream",
     "text": [
      "\n",
      "  3%|▎         | 27/1000 [01:08<29:40,  1.83s/it]\u001b[A"
     ]
    },
    {
     "name": "stdout",
     "output_type": "stream",
     "text": [
      "simulating sn as blackbody\n"
     ]
    },
    {
     "name": "stderr",
     "output_type": "stream",
     "text": [
      "\n",
      "  3%|▎         | 28/1000 [01:10<29:03,  1.79s/it]\u001b[A"
     ]
    },
    {
     "name": "stdout",
     "output_type": "stream",
     "text": [
      "simulating sn as blackbody\n"
     ]
    },
    {
     "name": "stderr",
     "output_type": "stream",
     "text": [
      "\n",
      "  3%|▎         | 29/1000 [01:12<28:35,  1.77s/it]\u001b[A"
     ]
    },
    {
     "name": "stdout",
     "output_type": "stream",
     "text": [
      "simulating sn as blackbody\n",
      "simulating sn as blackbody\n",
      "simulating sn as blackbody\n",
      "simulating sn as blackbody\n",
      "simulating sn as blackbody\n",
      "simulating sn as blackbody\n",
      "simulating sn as blackbody\n",
      "simulating sn as blackbody\n",
      "simulating sn as blackbody\n",
      "simulating sn as blackbody\n",
      "simulating sn as blackbody\n",
      "simulating sn as blackbody\n",
      "simulating sn as blackbody\n",
      "simulating sn as blackbody\n",
      "simulating sn as blackbody\n",
      "simulating sn as blackbody\n",
      "simulating sn as blackbody\n",
      "simulating sn as blackbody\n",
      "simulating sn as blackbody\n",
      "simulating sn as blackbody\n",
      "simulating sn as blackbody\n",
      "simulating sn as blackbody\n",
      "F090W\n",
      "Downloading http://sncosmo.github.io/data/bandpasses/nircam/jwst_nircam_f090w.dat [Done]\n"
     ]
    },
    {
     "name": "stderr",
     "output_type": "stream",
     "text": [
      "\n",
      "  5%|▌         | 52/1000 [01:14<03:52,  4.07it/s]\u001b[A\n",
      "  5%|▌         | 53/1000 [01:17<06:25,  2.45it/s]\u001b[A\n",
      "  5%|▌         | 54/1000 [01:20<09:36,  1.64it/s]\u001b[A\n",
      "  6%|▌         | 55/1000 [01:24<13:28,  1.17it/s]\u001b[A\n",
      "  6%|▌         | 56/1000 [01:27<17:51,  1.14s/it]\u001b[A\n",
      "  6%|▌         | 57/1000 [01:30<22:38,  1.44s/it]\u001b[A\n",
      "  6%|▌         | 58/1000 [01:34<27:27,  1.75s/it]\u001b[A\n",
      "  6%|▌         | 59/1000 [01:37<32:05,  2.05s/it]\u001b[A\n",
      "  6%|▌         | 60/1000 [01:40<36:12,  2.31s/it]\u001b[A\n",
      "  6%|▌         | 61/1000 [01:43<39:46,  2.54s/it]\u001b[A\n",
      "  6%|▌         | 62/1000 [01:47<42:34,  2.72s/it]\u001b[A\n",
      "  6%|▋         | 63/1000 [01:50<44:51,  2.87s/it]\u001b[A"
     ]
    },
    {
     "name": "stdout",
     "output_type": "stream",
     "text": [
      "simulating sn as blackbody\n"
     ]
    },
    {
     "name": "stderr",
     "output_type": "stream",
     "text": [
      "\n",
      "  6%|▋         | 64/1000 [01:53<46:29,  2.98s/it]\u001b[A"
     ]
    },
    {
     "name": "stdout",
     "output_type": "stream",
     "text": [
      "simulating sn as blackbody\n"
     ]
    },
    {
     "name": "stderr",
     "output_type": "stream",
     "text": [
      "\n",
      "  6%|▋         | 65/1000 [01:56<47:47,  3.07s/it]\u001b[A"
     ]
    },
    {
     "name": "stdout",
     "output_type": "stream",
     "text": [
      "simulating sn as blackbody\n"
     ]
    },
    {
     "name": "stderr",
     "output_type": "stream",
     "text": [
      "\n",
      "  7%|▋         | 66/1000 [02:00<48:36,  3.12s/it]\u001b[A"
     ]
    },
    {
     "name": "stdout",
     "output_type": "stream",
     "text": [
      "simulating sn as blackbody\n"
     ]
    },
    {
     "name": "stderr",
     "output_type": "stream",
     "text": [
      "\n",
      "  7%|▋         | 67/1000 [02:03<49:18,  3.17s/it]\u001b[A"
     ]
    },
    {
     "name": "stdout",
     "output_type": "stream",
     "text": [
      "simulating sn as blackbody\n"
     ]
    },
    {
     "name": "stderr",
     "output_type": "stream",
     "text": [
      "\n",
      "  7%|▋         | 68/1000 [02:06<49:41,  3.20s/it]\u001b[A"
     ]
    },
    {
     "name": "stdout",
     "output_type": "stream",
     "text": [
      "simulating sn as blackbody\n"
     ]
    },
    {
     "name": "stderr",
     "output_type": "stream",
     "text": [
      "\n",
      "  7%|▋         | 69/1000 [02:10<50:01,  3.22s/it]\u001b[A"
     ]
    },
    {
     "name": "stdout",
     "output_type": "stream",
     "text": [
      "simulating sn as blackbody\n"
     ]
    },
    {
     "name": "stderr",
     "output_type": "stream",
     "text": [
      "\n",
      "  7%|▋         | 70/1000 [02:13<50:10,  3.24s/it]\u001b[A"
     ]
    },
    {
     "name": "stdout",
     "output_type": "stream",
     "text": [
      "simulating sn as blackbody\n"
     ]
    },
    {
     "name": "stderr",
     "output_type": "stream",
     "text": [
      "\n",
      "  7%|▋         | 71/1000 [02:16<50:22,  3.25s/it]\u001b[A"
     ]
    },
    {
     "name": "stdout",
     "output_type": "stream",
     "text": [
      "simulating sn as blackbody\n"
     ]
    },
    {
     "name": "stderr",
     "output_type": "stream",
     "text": [
      "\n",
      "  7%|▋         | 72/1000 [02:19<50:21,  3.26s/it]\u001b[A"
     ]
    },
    {
     "name": "stdout",
     "output_type": "stream",
     "text": [
      "simulating sn as blackbody\n"
     ]
    },
    {
     "name": "stderr",
     "output_type": "stream",
     "text": [
      "\n",
      "  7%|▋         | 73/1000 [02:23<50:27,  3.27s/it]\u001b[A"
     ]
    },
    {
     "name": "stdout",
     "output_type": "stream",
     "text": [
      "simulating sn as blackbody\n"
     ]
    },
    {
     "name": "stderr",
     "output_type": "stream",
     "text": [
      "\n",
      "  7%|▋         | 74/1000 [02:26<50:23,  3.27s/it]\u001b[A"
     ]
    },
    {
     "name": "stdout",
     "output_type": "stream",
     "text": [
      "simulating sn as blackbody\n"
     ]
    },
    {
     "name": "stderr",
     "output_type": "stream",
     "text": [
      "\n",
      "  8%|▊         | 75/1000 [02:29<50:25,  3.27s/it]\u001b[A"
     ]
    },
    {
     "name": "stdout",
     "output_type": "stream",
     "text": [
      "simulating sn as blackbody\n"
     ]
    },
    {
     "name": "stderr",
     "output_type": "stream",
     "text": [
      "\n",
      "  8%|▊         | 76/1000 [02:32<50:20,  3.27s/it]\u001b[A"
     ]
    },
    {
     "name": "stdout",
     "output_type": "stream",
     "text": [
      "simulating sn as blackbody\n"
     ]
    },
    {
     "name": "stderr",
     "output_type": "stream",
     "text": [
      "\n",
      "  8%|▊         | 77/1000 [02:36<50:22,  3.27s/it]\u001b[A"
     ]
    },
    {
     "name": "stdout",
     "output_type": "stream",
     "text": [
      "simulating sn as blackbody\n"
     ]
    },
    {
     "name": "stderr",
     "output_type": "stream",
     "text": [
      "\n",
      "  8%|▊         | 78/1000 [02:39<50:15,  3.27s/it]\u001b[A"
     ]
    },
    {
     "name": "stdout",
     "output_type": "stream",
     "text": [
      "simulating sn as blackbody\n"
     ]
    },
    {
     "name": "stderr",
     "output_type": "stream",
     "text": [
      "\n",
      "  8%|▊         | 79/1000 [02:42<50:17,  3.28s/it]\u001b[A\n",
      "  8%|▊         | 80/1000 [02:44<44:24,  2.90s/it]\u001b[A"
     ]
    },
    {
     "name": "stdout",
     "output_type": "stream",
     "text": [
      "simulating sn as blackbody\n"
     ]
    },
    {
     "name": "stderr",
     "output_type": "stream",
     "text": [
      "\n",
      "  8%|▊         | 81/1000 [02:46<40:16,  2.63s/it]\u001b[A"
     ]
    },
    {
     "name": "stdout",
     "output_type": "stream",
     "text": [
      "simulating sn as blackbody\n"
     ]
    },
    {
     "name": "stderr",
     "output_type": "stream",
     "text": [
      "\n",
      "  8%|▊         | 82/1000 [02:48<37:21,  2.44s/it]\u001b[A"
     ]
    },
    {
     "name": "stdout",
     "output_type": "stream",
     "text": [
      "simulating sn as blackbody\n"
     ]
    },
    {
     "name": "stderr",
     "output_type": "stream",
     "text": [
      "\n",
      "  8%|▊         | 83/1000 [02:50<35:19,  2.31s/it]\u001b[A"
     ]
    },
    {
     "name": "stdout",
     "output_type": "stream",
     "text": [
      "simulating sn as blackbody\n"
     ]
    },
    {
     "name": "stderr",
     "output_type": "stream",
     "text": [
      "\n",
      "  8%|▊         | 84/1000 [02:52<33:53,  2.22s/it]\u001b[A"
     ]
    },
    {
     "name": "stdout",
     "output_type": "stream",
     "text": [
      "simulating sn as blackbody\n"
     ]
    },
    {
     "name": "stderr",
     "output_type": "stream",
     "text": [
      "\n",
      "  8%|▊         | 85/1000 [02:54<32:53,  2.16s/it]\u001b[A"
     ]
    },
    {
     "name": "stdout",
     "output_type": "stream",
     "text": [
      "simulating sn as blackbody\n"
     ]
    },
    {
     "name": "stderr",
     "output_type": "stream",
     "text": [
      "\n",
      "  9%|▊         | 86/1000 [02:56<32:09,  2.11s/it]\u001b[A"
     ]
    },
    {
     "name": "stdout",
     "output_type": "stream",
     "text": [
      "simulating sn as blackbody\n"
     ]
    },
    {
     "name": "stderr",
     "output_type": "stream",
     "text": [
      "\n",
      "  9%|▊         | 87/1000 [02:58<31:42,  2.08s/it]\u001b[A"
     ]
    },
    {
     "name": "stdout",
     "output_type": "stream",
     "text": [
      "simulating sn as blackbody\n"
     ]
    },
    {
     "name": "stderr",
     "output_type": "stream",
     "text": [
      "\n",
      "  9%|▉         | 88/1000 [03:00<31:18,  2.06s/it]\u001b[A"
     ]
    },
    {
     "name": "stdout",
     "output_type": "stream",
     "text": [
      "simulating sn as blackbody\n"
     ]
    },
    {
     "name": "stderr",
     "output_type": "stream",
     "text": [
      "\n",
      "  9%|▉         | 89/1000 [03:02<31:02,  2.04s/it]\u001b[A"
     ]
    },
    {
     "name": "stdout",
     "output_type": "stream",
     "text": [
      "simulating sn as blackbody\n"
     ]
    },
    {
     "name": "stderr",
     "output_type": "stream",
     "text": [
      "\n",
      "  9%|▉         | 90/1000 [03:04<30:50,  2.03s/it]\u001b[A"
     ]
    },
    {
     "name": "stdout",
     "output_type": "stream",
     "text": [
      "simulating sn as blackbody\n",
      "simulating sn as blackbody\n",
      "simulating sn as blackbody\n",
      "simulating sn as blackbody\n",
      "simulating sn as blackbody\n",
      "simulating sn as blackbody\n",
      "simulating sn as blackbody\n",
      "simulating sn as blackbody\n",
      "simulating sn as blackbody\n",
      "simulating sn as blackbody\n",
      "simulating sn as blackbody\n",
      "simulating sn as blackbody\n",
      "F115W\n",
      "Downloading http://sncosmo.github.io/data/bandpasses/nircam/jwst_nircam_f115w.dat [Done]\n"
     ]
    },
    {
     "name": "stderr",
     "output_type": "stream",
     "text": [
      "\n",
      " 10%|█         | 102/1000 [03:07<07:46,  1.92it/s]\u001b[A\n",
      " 10%|█         | 103/1000 [03:10<10:38,  1.41it/s]\u001b[A\n",
      " 10%|█         | 104/1000 [03:14<16:45,  1.12s/it]\u001b[A\n",
      " 10%|█         | 105/1000 [03:18<23:24,  1.57s/it]\u001b[A\n",
      " 11%|█         | 106/1000 [03:23<30:10,  2.02s/it]\u001b[A\n",
      " 11%|█         | 107/1000 [03:27<36:39,  2.46s/it]\u001b[A\n",
      " 11%|█         | 108/1000 [03:31<42:29,  2.86s/it]\u001b[A\n",
      " 11%|█         | 109/1000 [03:36<47:28,  3.20s/it]\u001b[A\n",
      " 11%|█         | 110/1000 [03:40<51:30,  3.47s/it]\u001b[A\n",
      " 11%|█         | 111/1000 [03:44<54:39,  3.69s/it]\u001b[A\n",
      " 11%|█         | 112/1000 [03:48<57:04,  3.86s/it]\u001b[A\n",
      " 11%|█▏        | 113/1000 [03:53<58:49,  3.98s/it]\u001b[A\n",
      " 11%|█▏        | 114/1000 [03:57<1:00:04,  4.07s/it]\u001b[A\n",
      " 12%|█▏        | 115/1000 [04:01<1:00:57,  4.13s/it]\u001b[A\n",
      " 12%|█▏        | 116/1000 [04:06<1:01:35,  4.18s/it]\u001b[A\n",
      " 12%|█▏        | 117/1000 [04:10<1:02:00,  4.21s/it]\u001b[A"
     ]
    },
    {
     "name": "stdout",
     "output_type": "stream",
     "text": [
      "simulating sn as blackbody\n"
     ]
    },
    {
     "name": "stderr",
     "output_type": "stream",
     "text": [
      "\n",
      " 12%|█▏        | 118/1000 [04:14<1:02:16,  4.24s/it]\u001b[A"
     ]
    },
    {
     "name": "stdout",
     "output_type": "stream",
     "text": [
      "simulating sn as blackbody\n"
     ]
    },
    {
     "name": "stderr",
     "output_type": "stream",
     "text": [
      "\n",
      " 12%|█▏        | 119/1000 [04:18<1:02:28,  4.25s/it]\u001b[A"
     ]
    },
    {
     "name": "stdout",
     "output_type": "stream",
     "text": [
      "simulating sn as blackbody\n"
     ]
    },
    {
     "name": "stderr",
     "output_type": "stream",
     "text": [
      "\n",
      " 12%|█▏        | 120/1000 [04:23<1:02:34,  4.27s/it]\u001b[A"
     ]
    },
    {
     "name": "stdout",
     "output_type": "stream",
     "text": [
      "simulating sn as blackbody\n"
     ]
    },
    {
     "name": "stderr",
     "output_type": "stream",
     "text": [
      "\n",
      " 12%|█▏        | 121/1000 [04:27<1:02:37,  4.27s/it]\u001b[A"
     ]
    },
    {
     "name": "stdout",
     "output_type": "stream",
     "text": [
      "simulating sn as blackbody\n"
     ]
    },
    {
     "name": "stderr",
     "output_type": "stream",
     "text": [
      "\n",
      " 12%|█▏        | 122/1000 [04:31<1:02:38,  4.28s/it]\u001b[A"
     ]
    },
    {
     "name": "stdout",
     "output_type": "stream",
     "text": [
      "simulating sn as blackbody\n"
     ]
    },
    {
     "name": "stderr",
     "output_type": "stream",
     "text": [
      "\n",
      " 12%|█▏        | 123/1000 [04:36<1:02:39,  4.29s/it]\u001b[A"
     ]
    },
    {
     "name": "stdout",
     "output_type": "stream",
     "text": [
      "simulating sn as blackbody\n"
     ]
    },
    {
     "name": "stderr",
     "output_type": "stream",
     "text": [
      "\n",
      " 12%|█▏        | 124/1000 [04:40<1:02:37,  4.29s/it]\u001b[A"
     ]
    },
    {
     "name": "stdout",
     "output_type": "stream",
     "text": [
      "simulating sn as blackbody\n"
     ]
    },
    {
     "name": "stderr",
     "output_type": "stream",
     "text": [
      "\n",
      " 12%|█▎        | 125/1000 [04:44<1:02:34,  4.29s/it]\u001b[A"
     ]
    },
    {
     "name": "stdout",
     "output_type": "stream",
     "text": [
      "simulating sn as blackbody\n"
     ]
    },
    {
     "name": "stderr",
     "output_type": "stream",
     "text": [
      "\n",
      " 13%|█▎        | 126/1000 [04:49<1:02:33,  4.29s/it]\u001b[A"
     ]
    },
    {
     "name": "stdout",
     "output_type": "stream",
     "text": [
      "simulating sn as blackbody\n"
     ]
    },
    {
     "name": "stderr",
     "output_type": "stream",
     "text": [
      "\n",
      " 13%|█▎        | 127/1000 [04:53<1:02:30,  4.30s/it]\u001b[A"
     ]
    },
    {
     "name": "stdout",
     "output_type": "stream",
     "text": [
      "simulating sn as blackbody\n"
     ]
    },
    {
     "name": "stderr",
     "output_type": "stream",
     "text": [
      "\n",
      " 13%|█▎        | 128/1000 [04:57<1:02:26,  4.30s/it]\u001b[A"
     ]
    },
    {
     "name": "stdout",
     "output_type": "stream",
     "text": [
      "simulating sn as blackbody\n"
     ]
    },
    {
     "name": "stderr",
     "output_type": "stream",
     "text": [
      "\n",
      " 13%|█▎        | 129/1000 [05:01<1:02:26,  4.30s/it]\u001b[A"
     ]
    },
    {
     "name": "stdout",
     "output_type": "stream",
     "text": [
      "simulating sn as blackbody\n"
     ]
    },
    {
     "name": "stderr",
     "output_type": "stream",
     "text": [
      "\n",
      " 13%|█▎        | 130/1000 [05:06<1:02:21,  4.30s/it]\u001b[A"
     ]
    },
    {
     "name": "stdout",
     "output_type": "stream",
     "text": [
      "simulating sn as blackbody\n"
     ]
    },
    {
     "name": "stderr",
     "output_type": "stream",
     "text": [
      "\n",
      " 13%|█▎        | 131/1000 [05:10<1:02:16,  4.30s/it]\u001b[A"
     ]
    },
    {
     "name": "stdout",
     "output_type": "stream",
     "text": [
      "simulating sn as blackbody\n"
     ]
    },
    {
     "name": "stderr",
     "output_type": "stream",
     "text": [
      "\n",
      " 13%|█▎        | 132/1000 [05:14<1:02:11,  4.30s/it]\u001b[A"
     ]
    },
    {
     "name": "stdout",
     "output_type": "stream",
     "text": [
      "simulating sn as blackbody\n"
     ]
    },
    {
     "name": "stderr",
     "output_type": "stream",
     "text": [
      "\n",
      " 13%|█▎        | 133/1000 [05:19<1:02:08,  4.30s/it]\u001b[A"
     ]
    },
    {
     "name": "stdout",
     "output_type": "stream",
     "text": [
      "simulating sn as blackbody\n"
     ]
    },
    {
     "name": "stderr",
     "output_type": "stream",
     "text": [
      "\n",
      " 13%|█▎        | 134/1000 [05:23<1:02:03,  4.30s/it]\u001b[A"
     ]
    },
    {
     "name": "stdout",
     "output_type": "stream",
     "text": [
      "simulating sn as blackbody\n"
     ]
    },
    {
     "name": "stderr",
     "output_type": "stream",
     "text": [
      "\n",
      " 14%|█▎        | 135/1000 [05:27<1:01:58,  4.30s/it]\u001b[A"
     ]
    },
    {
     "name": "stdout",
     "output_type": "stream",
     "text": [
      "simulating sn as blackbody\n"
     ]
    },
    {
     "name": "stderr",
     "output_type": "stream",
     "text": [
      "\n",
      " 14%|█▎        | 136/1000 [05:32<1:01:53,  4.30s/it]\u001b[A"
     ]
    },
    {
     "name": "stdout",
     "output_type": "stream",
     "text": [
      "simulating sn as blackbody\n"
     ]
    },
    {
     "name": "stderr",
     "output_type": "stream",
     "text": [
      "\n",
      " 14%|█▎        | 137/1000 [05:36<1:01:49,  4.30s/it]\u001b[A"
     ]
    },
    {
     "name": "stdout",
     "output_type": "stream",
     "text": [
      "simulating sn as blackbody\n"
     ]
    },
    {
     "name": "stderr",
     "output_type": "stream",
     "text": [
      "\n",
      " 14%|█▍        | 138/1000 [05:40<1:01:44,  4.30s/it]\u001b[A\n",
      " 14%|█▍        | 139/1000 [05:43<54:31,  3.80s/it]  \u001b[A"
     ]
    },
    {
     "name": "stdout",
     "output_type": "stream",
     "text": [
      "simulating sn as blackbody\n"
     ]
    },
    {
     "name": "stderr",
     "output_type": "stream",
     "text": [
      "\n",
      " 14%|█▍        | 140/1000 [05:45<49:29,  3.45s/it]\u001b[A"
     ]
    },
    {
     "name": "stdout",
     "output_type": "stream",
     "text": [
      "simulating sn as blackbody\n"
     ]
    },
    {
     "name": "stderr",
     "output_type": "stream",
     "text": [
      "\n",
      " 14%|█▍        | 141/1000 [05:48<45:57,  3.21s/it]\u001b[A"
     ]
    },
    {
     "name": "stdout",
     "output_type": "stream",
     "text": [
      "simulating sn as blackbody\n"
     ]
    },
    {
     "name": "stderr",
     "output_type": "stream",
     "text": [
      "\n",
      " 14%|█▍        | 142/1000 [05:51<43:27,  3.04s/it]\u001b[A"
     ]
    },
    {
     "name": "stdout",
     "output_type": "stream",
     "text": [
      "simulating sn as blackbody\n"
     ]
    },
    {
     "name": "stderr",
     "output_type": "stream",
     "text": [
      "\n",
      " 14%|█▍        | 143/1000 [05:53<41:42,  2.92s/it]\u001b[A"
     ]
    },
    {
     "name": "stdout",
     "output_type": "stream",
     "text": [
      "simulating sn as blackbody\n"
     ]
    },
    {
     "name": "stderr",
     "output_type": "stream",
     "text": [
      "\n",
      " 14%|█▍        | 144/1000 [05:56<40:28,  2.84s/it]\u001b[A"
     ]
    },
    {
     "name": "stdout",
     "output_type": "stream",
     "text": [
      "simulating sn as blackbody\n"
     ]
    },
    {
     "name": "stderr",
     "output_type": "stream",
     "text": [
      "\n",
      " 14%|█▍        | 145/1000 [05:59<39:34,  2.78s/it]\u001b[A"
     ]
    },
    {
     "name": "stdout",
     "output_type": "stream",
     "text": [
      "simulating sn as blackbody\n"
     ]
    },
    {
     "name": "stderr",
     "output_type": "stream",
     "text": [
      "\n",
      " 15%|█▍        | 146/1000 [06:01<38:56,  2.74s/it]\u001b[A"
     ]
    },
    {
     "name": "stdout",
     "output_type": "stream",
     "text": [
      "simulating sn as blackbody\n"
     ]
    },
    {
     "name": "stderr",
     "output_type": "stream",
     "text": [
      "\n",
      " 15%|█▍        | 147/1000 [06:04<38:29,  2.71s/it]\u001b[A"
     ]
    },
    {
     "name": "stdout",
     "output_type": "stream",
     "text": [
      "simulating sn as blackbody\n"
     ]
    },
    {
     "name": "stderr",
     "output_type": "stream",
     "text": [
      "\n",
      " 15%|█▍        | 148/1000 [06:07<38:10,  2.69s/it]\u001b[A"
     ]
    },
    {
     "name": "stdout",
     "output_type": "stream",
     "text": [
      "simulating sn as blackbody\n"
     ]
    },
    {
     "name": "stderr",
     "output_type": "stream",
     "text": [
      "\n",
      " 15%|█▍        | 149/1000 [06:09<37:56,  2.67s/it]\u001b[A"
     ]
    },
    {
     "name": "stdout",
     "output_type": "stream",
     "text": [
      "simulating sn as blackbody\n"
     ]
    },
    {
     "name": "stderr",
     "output_type": "stream",
     "text": [
      "\n",
      " 15%|█▌        | 150/1000 [06:12<37:44,  2.66s/it]\u001b[A"
     ]
    },
    {
     "name": "stdout",
     "output_type": "stream",
     "text": [
      "simulating sn as blackbody\n"
     ]
    },
    {
     "name": "stderr",
     "output_type": "stream",
     "text": [
      "\n",
      " 15%|█▌        | 151/1000 [06:14<37:35,  2.66s/it]\u001b[A"
     ]
    },
    {
     "name": "stdout",
     "output_type": "stream",
     "text": [
      "simulating sn as blackbody\n",
      "F150W\n",
      "Downloading http://sncosmo.github.io/data/bandpasses/nircam/jwst_nircam_f150w.dat [Done]\n"
     ]
    },
    {
     "name": "stderr",
     "output_type": "stream",
     "text": [
      "\n",
      " 15%|█▌        | 152/1000 [06:18<41:21,  2.93s/it]\u001b[A\n",
      " 15%|█▌        | 153/1000 [06:22<43:44,  3.10s/it]\u001b[A\n",
      " 15%|█▌        | 154/1000 [06:25<45:23,  3.22s/it]\u001b[A\n",
      " 16%|█▌        | 155/1000 [06:31<56:04,  3.98s/it]\u001b[A\n",
      " 16%|█▌        | 156/1000 [06:37<1:03:30,  4.51s/it]\u001b[A\n",
      " 16%|█▌        | 157/1000 [06:42<1:08:39,  4.89s/it]\u001b[A\n",
      " 16%|█▌        | 158/1000 [06:48<1:12:15,  5.15s/it]\u001b[A\n",
      " 16%|█▌        | 159/1000 [06:54<1:14:43,  5.33s/it]\u001b[A\n",
      " 16%|█▌        | 160/1000 [07:00<1:16:29,  5.46s/it]\u001b[A\n",
      " 16%|█▌        | 161/1000 [07:05<1:17:37,  5.55s/it]\u001b[A\n",
      " 16%|█▌        | 162/1000 [07:11<1:18:24,  5.61s/it]\u001b[A\n",
      " 16%|█▋        | 163/1000 [07:17<1:18:54,  5.66s/it]\u001b[A\n",
      " 16%|█▋        | 164/1000 [07:23<1:19:12,  5.68s/it]\u001b[A\n",
      " 16%|█▋        | 165/1000 [07:28<1:19:26,  5.71s/it]\u001b[A\n",
      " 17%|█▋        | 166/1000 [07:34<1:19:32,  5.72s/it]\u001b[A\n",
      " 17%|█▋        | 167/1000 [07:40<1:19:34,  5.73s/it]\u001b[A\n",
      " 17%|█▋        | 168/1000 [07:46<1:19:35,  5.74s/it]\u001b[A\n",
      " 17%|█▋        | 169/1000 [07:51<1:19:33,  5.74s/it]\u001b[A\n",
      " 17%|█▋        | 170/1000 [07:57<1:19:32,  5.75s/it]\u001b[A\n",
      " 17%|█▋        | 171/1000 [08:03<1:19:27,  5.75s/it]\u001b[A\n",
      " 17%|█▋        | 172/1000 [08:09<1:19:24,  5.75s/it]\u001b[A"
     ]
    },
    {
     "name": "stdout",
     "output_type": "stream",
     "text": [
      "simulating sn as blackbody\n"
     ]
    },
    {
     "name": "stderr",
     "output_type": "stream",
     "text": [
      "\n",
      " 17%|█▋        | 173/1000 [08:14<1:19:20,  5.76s/it]\u001b[A"
     ]
    },
    {
     "name": "stdout",
     "output_type": "stream",
     "text": [
      "simulating sn as blackbody\n"
     ]
    },
    {
     "name": "stderr",
     "output_type": "stream",
     "text": [
      "\n",
      " 17%|█▋        | 174/1000 [08:20<1:19:15,  5.76s/it]\u001b[A"
     ]
    },
    {
     "name": "stdout",
     "output_type": "stream",
     "text": [
      "simulating sn as blackbody\n"
     ]
    },
    {
     "name": "stderr",
     "output_type": "stream",
     "text": [
      "\n",
      " 18%|█▊        | 175/1000 [08:26<1:19:10,  5.76s/it]\u001b[A"
     ]
    },
    {
     "name": "stdout",
     "output_type": "stream",
     "text": [
      "simulating sn as blackbody\n"
     ]
    },
    {
     "name": "stderr",
     "output_type": "stream",
     "text": [
      "\n",
      " 18%|█▊        | 176/1000 [08:32<1:19:05,  5.76s/it]\u001b[A"
     ]
    },
    {
     "name": "stdout",
     "output_type": "stream",
     "text": [
      "simulating sn as blackbody\n"
     ]
    },
    {
     "name": "stderr",
     "output_type": "stream",
     "text": [
      "\n",
      " 18%|█▊        | 177/1000 [08:37<1:18:59,  5.76s/it]\u001b[A"
     ]
    },
    {
     "name": "stdout",
     "output_type": "stream",
     "text": [
      "simulating sn as blackbody\n"
     ]
    },
    {
     "name": "stderr",
     "output_type": "stream",
     "text": [
      "\n",
      " 18%|█▊        | 178/1000 [08:43<1:18:52,  5.76s/it]\u001b[A"
     ]
    },
    {
     "name": "stdout",
     "output_type": "stream",
     "text": [
      "simulating sn as blackbody\n"
     ]
    },
    {
     "name": "stderr",
     "output_type": "stream",
     "text": [
      "\n",
      " 18%|█▊        | 179/1000 [08:49<1:18:48,  5.76s/it]\u001b[A"
     ]
    },
    {
     "name": "stdout",
     "output_type": "stream",
     "text": [
      "simulating sn as blackbody\n"
     ]
    },
    {
     "name": "stderr",
     "output_type": "stream",
     "text": [
      "\n",
      " 18%|█▊        | 180/1000 [08:55<1:18:41,  5.76s/it]\u001b[A"
     ]
    },
    {
     "name": "stdout",
     "output_type": "stream",
     "text": [
      "simulating sn as blackbody\n"
     ]
    },
    {
     "name": "stderr",
     "output_type": "stream",
     "text": [
      "\n",
      " 18%|█▊        | 181/1000 [09:01<1:18:42,  5.77s/it]\u001b[A"
     ]
    },
    {
     "name": "stdout",
     "output_type": "stream",
     "text": [
      "simulating sn as blackbody\n"
     ]
    },
    {
     "name": "stderr",
     "output_type": "stream",
     "text": [
      "\n",
      " 18%|█▊        | 182/1000 [09:06<1:18:35,  5.76s/it]\u001b[A"
     ]
    },
    {
     "name": "stdout",
     "output_type": "stream",
     "text": [
      "simulating sn as blackbody\n"
     ]
    },
    {
     "name": "stderr",
     "output_type": "stream",
     "text": [
      "\n",
      " 18%|█▊        | 183/1000 [09:12<1:18:28,  5.76s/it]\u001b[A"
     ]
    },
    {
     "name": "stdout",
     "output_type": "stream",
     "text": [
      "simulating sn as blackbody\n"
     ]
    },
    {
     "name": "stderr",
     "output_type": "stream",
     "text": [
      "\n",
      " 18%|█▊        | 184/1000 [09:18<1:18:21,  5.76s/it]\u001b[A"
     ]
    },
    {
     "name": "stdout",
     "output_type": "stream",
     "text": [
      "simulating sn as blackbody\n"
     ]
    },
    {
     "name": "stderr",
     "output_type": "stream",
     "text": [
      "\n",
      " 18%|█▊        | 185/1000 [09:24<1:18:14,  5.76s/it]\u001b[A"
     ]
    },
    {
     "name": "stdout",
     "output_type": "stream",
     "text": [
      "simulating sn as blackbody\n"
     ]
    },
    {
     "name": "stderr",
     "output_type": "stream",
     "text": [
      "\n",
      " 19%|█▊        | 186/1000 [09:29<1:18:10,  5.76s/it]\u001b[A"
     ]
    },
    {
     "name": "stdout",
     "output_type": "stream",
     "text": [
      "simulating sn as blackbody\n"
     ]
    },
    {
     "name": "stderr",
     "output_type": "stream",
     "text": [
      "\n",
      " 19%|█▊        | 187/1000 [09:35<1:18:04,  5.76s/it]\u001b[A"
     ]
    },
    {
     "name": "stdout",
     "output_type": "stream",
     "text": [
      "simulating sn as blackbody\n"
     ]
    },
    {
     "name": "stderr",
     "output_type": "stream",
     "text": [
      "\n",
      " 19%|█▉        | 188/1000 [09:41<1:17:57,  5.76s/it]\u001b[A"
     ]
    },
    {
     "name": "stdout",
     "output_type": "stream",
     "text": [
      "simulating sn as blackbody\n"
     ]
    },
    {
     "name": "stderr",
     "output_type": "stream",
     "text": [
      "\n",
      " 19%|█▉        | 189/1000 [09:47<1:17:51,  5.76s/it]\u001b[A"
     ]
    },
    {
     "name": "stdout",
     "output_type": "stream",
     "text": [
      "simulating sn as blackbody\n"
     ]
    },
    {
     "name": "stderr",
     "output_type": "stream",
     "text": [
      "\n",
      " 19%|█▉        | 190/1000 [09:52<1:17:45,  5.76s/it]\u001b[A"
     ]
    },
    {
     "name": "stdout",
     "output_type": "stream",
     "text": [
      "simulating sn as blackbody\n"
     ]
    },
    {
     "name": "stderr",
     "output_type": "stream",
     "text": [
      "\n",
      " 19%|█▉        | 191/1000 [09:58<1:17:40,  5.76s/it]\u001b[A"
     ]
    },
    {
     "name": "stdout",
     "output_type": "stream",
     "text": [
      "simulating sn as blackbody\n"
     ]
    },
    {
     "name": "stderr",
     "output_type": "stream",
     "text": [
      "\n",
      " 19%|█▉        | 192/1000 [10:04<1:17:33,  5.76s/it]\u001b[A"
     ]
    },
    {
     "name": "stdout",
     "output_type": "stream",
     "text": [
      "simulating sn as blackbody\n"
     ]
    },
    {
     "name": "stderr",
     "output_type": "stream",
     "text": [
      "\n",
      " 19%|█▉        | 193/1000 [10:10<1:17:29,  5.76s/it]\u001b[A"
     ]
    },
    {
     "name": "stdout",
     "output_type": "stream",
     "text": [
      "simulating sn as blackbody\n"
     ]
    },
    {
     "name": "stderr",
     "output_type": "stream",
     "text": [
      "\n",
      " 19%|█▉        | 194/1000 [10:15<1:17:22,  5.76s/it]\u001b[A"
     ]
    },
    {
     "name": "stdout",
     "output_type": "stream",
     "text": [
      "simulating sn as blackbody\n"
     ]
    },
    {
     "name": "stderr",
     "output_type": "stream",
     "text": [
      "\n",
      " 20%|█▉        | 195/1000 [10:21<1:17:16,  5.76s/it]\u001b[A"
     ]
    },
    {
     "name": "stdout",
     "output_type": "stream",
     "text": [
      "simulating sn as blackbody\n"
     ]
    },
    {
     "name": "stderr",
     "output_type": "stream",
     "text": [
      "\n",
      " 20%|█▉        | 196/1000 [10:27<1:17:11,  5.76s/it]\u001b[A"
     ]
    },
    {
     "name": "stdout",
     "output_type": "stream",
     "text": [
      "simulating sn as blackbody\n"
     ]
    },
    {
     "name": "stderr",
     "output_type": "stream",
     "text": [
      "\n",
      " 20%|█▉        | 197/1000 [10:33<1:17:05,  5.76s/it]\u001b[A"
     ]
    },
    {
     "name": "stdout",
     "output_type": "stream",
     "text": [
      "simulating sn as blackbody\n"
     ]
    },
    {
     "name": "stderr",
     "output_type": "stream",
     "text": [
      "\n",
      " 20%|█▉        | 198/1000 [10:38<1:17:03,  5.76s/it]\u001b[A"
     ]
    },
    {
     "name": "stdout",
     "output_type": "stream",
     "text": [
      "simulating sn as blackbody\n"
     ]
    },
    {
     "name": "stderr",
     "output_type": "stream",
     "text": [
      "\n",
      " 20%|█▉        | 199/1000 [10:44<1:16:57,  5.77s/it]\u001b[A\n",
      " 20%|██        | 200/1000 [10:48<1:07:51,  5.09s/it]\u001b[A"
     ]
    },
    {
     "name": "stdout",
     "output_type": "stream",
     "text": [
      "simulating sn as blackbody\n"
     ]
    },
    {
     "name": "stderr",
     "output_type": "stream",
     "text": [
      "\n",
      " 20%|██        | 201/1000 [10:51<1:01:28,  4.62s/it]\u001b[A"
     ]
    },
    {
     "name": "stdout",
     "output_type": "stream",
     "text": [
      "simulating sn as blackbody\n",
      "F200W\n",
      "Downloading http://sncosmo.github.io/data/bandpasses/nircam/jwst_nircam_f200w.dat [Done]\n"
     ]
    },
    {
     "name": "stderr",
     "output_type": "stream",
     "text": [
      "\n",
      " 20%|██        | 202/1000 [10:56<1:02:54,  4.73s/it]\u001b[A\n",
      " 20%|██        | 203/1000 [11:01<1:03:40,  4.79s/it]\u001b[A\n",
      " 20%|██        | 204/1000 [11:06<1:04:04,  4.83s/it]\u001b[A\n",
      " 20%|██        | 205/1000 [11:11<1:04:19,  4.86s/it]\u001b[A\n",
      " 21%|██        | 206/1000 [11:16<1:04:28,  4.87s/it]\u001b[A\n",
      " 21%|██        | 207/1000 [11:24<1:17:13,  5.84s/it]\u001b[A\n",
      " 21%|██        | 208/1000 [11:32<1:26:06,  6.52s/it]\u001b[A\n",
      " 21%|██        | 209/1000 [11:40<1:32:17,  7.00s/it]\u001b[A\n",
      " 21%|██        | 210/1000 [11:48<1:36:32,  7.33s/it]\u001b[A\n",
      " 21%|██        | 211/1000 [11:56<1:39:29,  7.57s/it]\u001b[A\n",
      " 21%|██        | 212/1000 [12:05<1:41:30,  7.73s/it]\u001b[A\n",
      " 21%|██▏       | 213/1000 [12:13<1:42:53,  7.84s/it]\u001b[A\n",
      " 21%|██▏       | 214/1000 [12:21<1:43:49,  7.93s/it]\u001b[A\n",
      " 22%|██▏       | 215/1000 [12:29<1:44:26,  7.98s/it]\u001b[A\n",
      " 22%|██▏       | 216/1000 [12:37<1:44:49,  8.02s/it]\u001b[A\n",
      " 22%|██▏       | 217/1000 [12:45<1:45:04,  8.05s/it]\u001b[A\n",
      " 22%|██▏       | 218/1000 [12:53<1:45:13,  8.07s/it]\u001b[A\n",
      " 22%|██▏       | 219/1000 [13:01<1:45:24,  8.10s/it]\u001b[A\n",
      " 22%|██▏       | 220/1000 [13:10<1:45:21,  8.10s/it]\u001b[A\n",
      " 22%|██▏       | 221/1000 [13:18<1:45:16,  8.11s/it]\u001b[A\n",
      " 22%|██▏       | 222/1000 [13:26<1:45:09,  8.11s/it]\u001b[A\n",
      " 22%|██▏       | 223/1000 [13:34<1:45:04,  8.11s/it]\u001b[A\n",
      " 22%|██▏       | 224/1000 [13:42<1:44:58,  8.12s/it]\u001b[A\n",
      " 22%|██▎       | 225/1000 [13:50<1:44:52,  8.12s/it]\u001b[A\n",
      " 23%|██▎       | 226/1000 [13:58<1:44:44,  8.12s/it]\u001b[A\n",
      " 23%|██▎       | 227/1000 [14:06<1:44:36,  8.12s/it]\u001b[A\n",
      " 23%|██▎       | 228/1000 [14:15<1:44:26,  8.12s/it]\u001b[A\n",
      " 23%|██▎       | 229/1000 [14:23<1:44:16,  8.12s/it]\u001b[A\n",
      " 23%|██▎       | 230/1000 [14:31<1:44:08,  8.11s/it]\u001b[A"
     ]
    },
    {
     "name": "stdout",
     "output_type": "stream",
     "text": [
      "simulating sn as blackbody\n"
     ]
    },
    {
     "name": "stderr",
     "output_type": "stream",
     "text": [
      "\n",
      " 23%|██▎       | 231/1000 [14:39<1:44:00,  8.11s/it]\u001b[A"
     ]
    },
    {
     "name": "stdout",
     "output_type": "stream",
     "text": [
      "simulating sn as blackbody\n"
     ]
    },
    {
     "name": "stderr",
     "output_type": "stream",
     "text": [
      "\n",
      " 23%|██▎       | 232/1000 [14:47<1:43:51,  8.11s/it]\u001b[A"
     ]
    },
    {
     "name": "stdout",
     "output_type": "stream",
     "text": [
      "simulating sn as blackbody\n"
     ]
    },
    {
     "name": "stderr",
     "output_type": "stream",
     "text": [
      "\n",
      " 23%|██▎       | 233/1000 [14:55<1:43:51,  8.12s/it]\u001b[A"
     ]
    },
    {
     "name": "stdout",
     "output_type": "stream",
     "text": [
      "simulating sn as blackbody\n"
     ]
    },
    {
     "name": "stderr",
     "output_type": "stream",
     "text": [
      "\n",
      " 23%|██▎       | 234/1000 [15:03<1:43:46,  8.13s/it]\u001b[A"
     ]
    },
    {
     "name": "stdout",
     "output_type": "stream",
     "text": [
      "simulating sn as blackbody\n"
     ]
    },
    {
     "name": "stderr",
     "output_type": "stream",
     "text": [
      "\n",
      " 24%|██▎       | 235/1000 [15:11<1:43:35,  8.12s/it]\u001b[A"
     ]
    },
    {
     "name": "stdout",
     "output_type": "stream",
     "text": [
      "simulating sn as blackbody\n"
     ]
    },
    {
     "name": "stderr",
     "output_type": "stream",
     "text": [
      "\n",
      " 24%|██▎       | 236/1000 [15:19<1:43:24,  8.12s/it]\u001b[A"
     ]
    },
    {
     "name": "stdout",
     "output_type": "stream",
     "text": [
      "simulating sn as blackbody\n"
     ]
    },
    {
     "name": "stderr",
     "output_type": "stream",
     "text": [
      "\n",
      " 24%|██▎       | 237/1000 [15:28<1:43:13,  8.12s/it]\u001b[A"
     ]
    },
    {
     "name": "stdout",
     "output_type": "stream",
     "text": [
      "simulating sn as blackbody\n"
     ]
    },
    {
     "name": "stderr",
     "output_type": "stream",
     "text": [
      "\n",
      " 24%|██▍       | 238/1000 [15:36<1:43:04,  8.12s/it]\u001b[A"
     ]
    },
    {
     "name": "stdout",
     "output_type": "stream",
     "text": [
      "simulating sn as blackbody\n"
     ]
    },
    {
     "name": "stderr",
     "output_type": "stream",
     "text": [
      "\n",
      " 24%|██▍       | 239/1000 [15:44<1:42:55,  8.12s/it]\u001b[A"
     ]
    },
    {
     "name": "stdout",
     "output_type": "stream",
     "text": [
      "simulating sn as blackbody\n"
     ]
    },
    {
     "name": "stderr",
     "output_type": "stream",
     "text": [
      "\n",
      " 24%|██▍       | 240/1000 [15:52<1:42:47,  8.12s/it]\u001b[A"
     ]
    },
    {
     "name": "stdout",
     "output_type": "stream",
     "text": [
      "simulating sn as blackbody\n"
     ]
    },
    {
     "name": "stderr",
     "output_type": "stream",
     "text": [
      "\n",
      " 24%|██▍       | 241/1000 [16:00<1:42:38,  8.11s/it]\u001b[A"
     ]
    },
    {
     "name": "stdout",
     "output_type": "stream",
     "text": [
      "simulating sn as blackbody\n"
     ]
    },
    {
     "name": "stderr",
     "output_type": "stream",
     "text": [
      "\n",
      " 24%|██▍       | 242/1000 [16:08<1:42:30,  8.11s/it]\u001b[A"
     ]
    },
    {
     "name": "stdout",
     "output_type": "stream",
     "text": [
      "simulating sn as blackbody\n"
     ]
    },
    {
     "name": "stderr",
     "output_type": "stream",
     "text": [
      "\n",
      " 24%|██▍       | 243/1000 [16:16<1:42:22,  8.11s/it]\u001b[A"
     ]
    },
    {
     "name": "stdout",
     "output_type": "stream",
     "text": [
      "simulating sn as blackbody\n"
     ]
    },
    {
     "name": "stderr",
     "output_type": "stream",
     "text": [
      "\n",
      " 24%|██▍       | 244/1000 [16:24<1:42:13,  8.11s/it]\u001b[A"
     ]
    },
    {
     "name": "stdout",
     "output_type": "stream",
     "text": [
      "simulating sn as blackbody\n"
     ]
    },
    {
     "name": "stderr",
     "output_type": "stream",
     "text": [
      "\n",
      " 24%|██▍       | 245/1000 [16:33<1:42:06,  8.11s/it]\u001b[A"
     ]
    },
    {
     "name": "stdout",
     "output_type": "stream",
     "text": [
      "simulating sn as blackbody\n"
     ]
    },
    {
     "name": "stderr",
     "output_type": "stream",
     "text": [
      "\n",
      " 25%|██▍       | 246/1000 [16:41<1:41:57,  8.11s/it]\u001b[A"
     ]
    },
    {
     "name": "stdout",
     "output_type": "stream",
     "text": [
      "simulating sn as blackbody\n"
     ]
    },
    {
     "name": "stderr",
     "output_type": "stream",
     "text": [
      "\n",
      " 25%|██▍       | 247/1000 [16:49<1:41:49,  8.11s/it]\u001b[A"
     ]
    },
    {
     "name": "stdout",
     "output_type": "stream",
     "text": [
      "simulating sn as blackbody\n"
     ]
    },
    {
     "name": "stderr",
     "output_type": "stream",
     "text": [
      "\n",
      " 25%|██▍       | 248/1000 [16:57<1:41:40,  8.11s/it]\u001b[A"
     ]
    },
    {
     "name": "stdout",
     "output_type": "stream",
     "text": [
      "simulating sn as blackbody\n"
     ]
    },
    {
     "name": "stderr",
     "output_type": "stream",
     "text": [
      "\n",
      " 25%|██▍       | 249/1000 [17:05<1:41:38,  8.12s/it]\u001b[A"
     ]
    },
    {
     "name": "stdout",
     "output_type": "stream",
     "text": [
      "simulating sn as blackbody\n"
     ]
    },
    {
     "name": "stderr",
     "output_type": "stream",
     "text": [
      "\n",
      " 25%|██▌       | 250/1000 [17:13<1:41:28,  8.12s/it]\u001b[A"
     ]
    },
    {
     "name": "stdout",
     "output_type": "stream",
     "text": [
      "simulating sn as blackbody\n"
     ]
    },
    {
     "name": "stderr",
     "output_type": "stream",
     "text": [
      "\n",
      " 25%|██▌       | 251/1000 [17:21<1:41:19,  8.12s/it]\u001b[A"
     ]
    },
    {
     "name": "stdout",
     "output_type": "stream",
     "text": [
      "F277W\n",
      "Downloading http://sncosmo.github.io/data/bandpasses/nircam/jwst_nircam_f277w.dat [Done]\n"
     ]
    },
    {
     "name": "stderr",
     "output_type": "stream",
     "text": [
      "\n",
      " 25%|██▌       | 252/1000 [17:30<1:42:31,  8.22s/it]\u001b[A"
     ]
    },
    {
     "name": "stdout",
     "output_type": "stream",
     "text": [
      "simulating sn as blackbody\n"
     ]
    },
    {
     "name": "stderr",
     "output_type": "stream",
     "text": [
      "\n",
      " 25%|██▌       | 253/1000 [17:38<1:42:45,  8.25s/it]\u001b[A\n",
      " 25%|██▌       | 254/1000 [17:46<1:42:53,  8.27s/it]\u001b[A\n",
      " 26%|██▌       | 255/1000 [17:55<1:42:55,  8.29s/it]\u001b[A\n",
      " 26%|██▌       | 256/1000 [18:03<1:42:55,  8.30s/it]\u001b[A\n",
      " 26%|██▌       | 257/1000 [18:11<1:42:53,  8.31s/it]\u001b[A\n",
      " 26%|██▌       | 258/1000 [18:20<1:42:48,  8.31s/it]\u001b[A\n",
      " 26%|██▌       | 259/1000 [18:28<1:42:41,  8.32s/it]\u001b[A\n",
      " 26%|██▌       | 260/1000 [18:36<1:42:35,  8.32s/it]\u001b[A\n",
      " 26%|██▌       | 261/1000 [18:50<2:02:44,  9.97s/it]\u001b[A\n",
      " 26%|██▌       | 262/1000 [19:04<2:16:48, 11.12s/it]\u001b[A\n",
      " 26%|██▋       | 263/1000 [19:18<2:26:29, 11.93s/it]\u001b[A\n",
      " 26%|██▋       | 264/1000 [19:32<2:33:12, 12.49s/it]\u001b[A\n",
      " 26%|██▋       | 265/1000 [19:45<2:37:49, 12.88s/it]\u001b[A\n",
      " 27%|██▋       | 266/1000 [19:59<2:40:58, 13.16s/it]\u001b[A\n",
      " 27%|██▋       | 267/1000 [20:13<2:43:07, 13.35s/it]\u001b[A\n",
      " 27%|██▋       | 268/1000 [20:27<2:44:32, 13.49s/it]\u001b[A\n",
      " 27%|██▋       | 269/1000 [20:41<2:45:29, 13.58s/it]\u001b[A\n",
      " 27%|██▋       | 270/1000 [20:54<2:46:03, 13.65s/it]\u001b[A\n",
      " 27%|██▋       | 271/1000 [21:08<2:46:46, 13.73s/it]\u001b[A\n",
      " 27%|██▋       | 272/1000 [21:22<2:46:51, 13.75s/it]\u001b[A\n",
      " 27%|██▋       | 273/1000 [21:36<2:46:48, 13.77s/it]\u001b[A\n",
      " 27%|██▋       | 274/1000 [21:50<2:46:43, 13.78s/it]\u001b[A\n",
      " 28%|██▊       | 275/1000 [22:03<2:46:35, 13.79s/it]\u001b[A\n",
      " 28%|██▊       | 276/1000 [22:17<2:46:25, 13.79s/it]\u001b[A\n",
      " 28%|██▊       | 277/1000 [22:31<2:46:14, 13.80s/it]\u001b[A\n",
      " 28%|██▊       | 278/1000 [22:45<2:46:02, 13.80s/it]\u001b[A\n",
      " 28%|██▊       | 279/1000 [22:59<2:45:48, 13.80s/it]\u001b[A\n",
      " 28%|██▊       | 280/1000 [23:13<2:45:42, 13.81s/it]\u001b[A\n",
      " 28%|██▊       | 281/1000 [23:26<2:45:26, 13.81s/it]\u001b[A\n",
      " 28%|██▊       | 282/1000 [23:40<2:45:11, 13.80s/it]\u001b[A\n",
      " 28%|██▊       | 283/1000 [23:54<2:44:57, 13.80s/it]\u001b[A\n",
      " 28%|██▊       | 284/1000 [24:08<2:44:42, 13.80s/it]\u001b[A\n",
      " 28%|██▊       | 285/1000 [24:22<2:44:30, 13.80s/it]\u001b[A\n",
      " 29%|██▊       | 286/1000 [24:35<2:44:14, 13.80s/it]\u001b[A\n",
      " 29%|██▊       | 287/1000 [24:49<2:44:00, 13.80s/it]\u001b[A\n",
      " 29%|██▉       | 288/1000 [25:03<2:43:52, 13.81s/it]\u001b[A\n",
      " 29%|██▉       | 289/1000 [25:17<2:43:37, 13.81s/it]\u001b[A\n",
      " 29%|██▉       | 290/1000 [25:31<2:43:32, 13.82s/it]\u001b[A\n",
      " 29%|██▉       | 291/1000 [25:44<2:43:26, 13.83s/it]\u001b[A\n",
      " 29%|██▉       | 292/1000 [25:58<2:43:13, 13.83s/it]\u001b[A"
     ]
    },
    {
     "name": "stdout",
     "output_type": "stream",
     "text": [
      "simulating sn as blackbody\n"
     ]
    },
    {
     "name": "stderr",
     "output_type": "stream",
     "text": [
      "\n",
      " 29%|██▉       | 293/1000 [26:12<2:43:01, 13.84s/it]\u001b[A"
     ]
    },
    {
     "name": "stdout",
     "output_type": "stream",
     "text": [
      "simulating sn as blackbody\n"
     ]
    },
    {
     "name": "stderr",
     "output_type": "stream",
     "text": [
      "\n",
      " 29%|██▉       | 294/1000 [26:26<2:42:49, 13.84s/it]\u001b[A"
     ]
    },
    {
     "name": "stdout",
     "output_type": "stream",
     "text": [
      "simulating sn as blackbody\n"
     ]
    },
    {
     "name": "stderr",
     "output_type": "stream",
     "text": [
      "\n",
      " 30%|██▉       | 295/1000 [26:40<2:42:37, 13.84s/it]\u001b[A"
     ]
    },
    {
     "name": "stdout",
     "output_type": "stream",
     "text": [
      "simulating sn as blackbody\n"
     ]
    },
    {
     "name": "stderr",
     "output_type": "stream",
     "text": [
      "\n",
      " 30%|██▉       | 296/1000 [26:54<2:42:24, 13.84s/it]\u001b[A"
     ]
    },
    {
     "name": "stdout",
     "output_type": "stream",
     "text": [
      "simulating sn as blackbody\n"
     ]
    },
    {
     "name": "stderr",
     "output_type": "stream",
     "text": [
      "\n",
      " 30%|██▉       | 297/1000 [27:08<2:42:16, 13.85s/it]\u001b[A"
     ]
    },
    {
     "name": "stdout",
     "output_type": "stream",
     "text": [
      "simulating sn as blackbody\n"
     ]
    },
    {
     "name": "stderr",
     "output_type": "stream",
     "text": [
      "\n",
      " 30%|██▉       | 298/1000 [27:21<2:42:02, 13.85s/it]\u001b[A"
     ]
    },
    {
     "name": "stdout",
     "output_type": "stream",
     "text": [
      "simulating sn as blackbody\n"
     ]
    },
    {
     "name": "stderr",
     "output_type": "stream",
     "text": [
      "\n",
      " 30%|██▉       | 299/1000 [27:35<2:41:46, 13.85s/it]\u001b[A"
     ]
    },
    {
     "name": "stdout",
     "output_type": "stream",
     "text": [
      "simulating sn as blackbody\n"
     ]
    },
    {
     "name": "stderr",
     "output_type": "stream",
     "text": [
      "\n",
      " 30%|███       | 300/1000 [27:49<2:41:32, 13.85s/it]\u001b[A"
     ]
    },
    {
     "name": "stdout",
     "output_type": "stream",
     "text": [
      "simulating sn as blackbody\n"
     ]
    },
    {
     "name": "stderr",
     "output_type": "stream",
     "text": [
      "\n",
      " 30%|███       | 301/1000 [28:03<2:41:18, 13.85s/it]\u001b[A"
     ]
    },
    {
     "name": "stdout",
     "output_type": "stream",
     "text": [
      "F356W\n",
      "Downloading http://sncosmo.github.io/data/bandpasses/nircam/jwst_nircam_f356w.dat [Done]\n"
     ]
    },
    {
     "name": "stderr",
     "output_type": "stream",
     "text": [
      "\n",
      " 30%|███       | 302/1000 [28:12<2:24:34, 12.43s/it]\u001b[A"
     ]
    },
    {
     "name": "stdout",
     "output_type": "stream",
     "text": [
      "simulating sn as blackbody\n"
     ]
    },
    {
     "name": "stderr",
     "output_type": "stream",
     "text": [
      "\n",
      " 30%|███       | 303/1000 [28:21<2:12:38, 11.42s/it]\u001b[A"
     ]
    },
    {
     "name": "stdout",
     "output_type": "stream",
     "text": [
      "simulating sn as blackbody\n"
     ]
    },
    {
     "name": "stderr",
     "output_type": "stream",
     "text": [
      "\n",
      " 30%|███       | 304/1000 [28:30<2:04:13, 10.71s/it]\u001b[A\n",
      " 30%|███       | 305/1000 [28:39<1:58:18, 10.21s/it]\u001b[A\n",
      " 31%|███       | 306/1000 [28:48<1:54:06,  9.87s/it]\u001b[A\n",
      " 31%|███       | 307/1000 [28:57<1:51:08,  9.62s/it]\u001b[A\n",
      " 31%|███       | 308/1000 [29:06<1:49:06,  9.46s/it]\u001b[A\n",
      " 31%|███       | 309/1000 [29:15<1:47:29,  9.33s/it]\u001b[A\n",
      " 31%|███       | 310/1000 [29:24<1:46:17,  9.24s/it]\u001b[A\n",
      " 31%|███       | 311/1000 [29:34<1:45:25,  9.18s/it]\u001b[A\n",
      " 31%|███       | 312/1000 [29:43<1:44:45,  9.14s/it]\u001b[A\n",
      " 31%|███▏      | 313/1000 [29:52<1:44:15,  9.11s/it]\u001b[A\n",
      " 31%|███▏      | 314/1000 [30:07<2:04:16, 10.87s/it]\u001b[A\n",
      " 32%|███▏      | 315/1000 [30:22<2:18:12, 12.11s/it]\u001b[A\n",
      " 32%|███▏      | 316/1000 [30:37<2:27:53, 12.97s/it]\u001b[A\n",
      " 32%|███▏      | 317/1000 [30:52<2:34:33, 13.58s/it]\u001b[A\n",
      " 32%|███▏      | 318/1000 [31:07<2:39:14, 14.01s/it]\u001b[A\n",
      " 32%|███▏      | 319/1000 [31:22<2:42:19, 14.30s/it]\u001b[A\n",
      " 32%|███▏      | 320/1000 [31:37<2:44:25, 14.51s/it]\u001b[A\n",
      " 32%|███▏      | 321/1000 [31:52<2:45:47, 14.65s/it]\u001b[A\n",
      " 32%|███▏      | 322/1000 [32:06<2:46:42, 14.75s/it]\u001b[A\n",
      " 32%|███▏      | 323/1000 [32:21<2:47:14, 14.82s/it]\u001b[A\n",
      " 32%|███▏      | 324/1000 [32:36<2:47:33, 14.87s/it]\u001b[A\n",
      " 32%|███▎      | 325/1000 [32:51<2:47:45, 14.91s/it]\u001b[A\n",
      " 33%|███▎      | 326/1000 [33:07<2:48:00, 14.96s/it]\u001b[A\n",
      " 33%|███▎      | 327/1000 [33:22<2:48:00, 14.98s/it]\u001b[A\n",
      " 33%|███▎      | 328/1000 [33:37<2:47:52, 14.99s/it]\u001b[A\n",
      " 33%|███▎      | 329/1000 [33:52<2:47:37, 14.99s/it]\u001b[A\n",
      " 33%|███▎      | 330/1000 [34:07<2:47:23, 14.99s/it]\u001b[A\n",
      " 33%|███▎      | 331/1000 [34:22<2:47:07, 14.99s/it]\u001b[A\n",
      " 33%|███▎      | 332/1000 [34:37<2:46:53, 14.99s/it]\u001b[A\n",
      " 33%|███▎      | 333/1000 [34:52<2:46:38, 14.99s/it]\u001b[A\n",
      " 33%|███▎      | 334/1000 [35:07<2:46:28, 15.00s/it]\u001b[A\n",
      " 34%|███▎      | 335/1000 [35:22<2:46:11, 14.99s/it]\u001b[A\n",
      " 34%|███▎      | 336/1000 [35:37<2:46:02, 15.00s/it]\u001b[A\n",
      " 34%|███▎      | 337/1000 [35:52<2:45:43, 15.00s/it]\u001b[A\n",
      " 34%|███▍      | 338/1000 [36:07<2:45:26, 14.99s/it]\u001b[A\n",
      " 34%|███▍      | 339/1000 [36:22<2:45:10, 14.99s/it]\u001b[A\n",
      " 34%|███▍      | 340/1000 [36:37<2:45:00, 15.00s/it]\u001b[A\n",
      " 34%|███▍      | 341/1000 [36:52<2:44:46, 15.00s/it]\u001b[A\n",
      " 34%|███▍      | 342/1000 [37:07<2:44:35, 15.01s/it]\u001b[A\n",
      " 34%|███▍      | 343/1000 [37:22<2:44:16, 15.00s/it]\u001b[A\n",
      " 34%|███▍      | 344/1000 [37:37<2:43:58, 15.00s/it]\u001b[A\n",
      " 34%|███▍      | 345/1000 [37:52<2:43:41, 14.99s/it]\u001b[A\n",
      " 35%|███▍      | 346/1000 [38:07<2:43:23, 14.99s/it]\u001b[A\n",
      " 35%|███▍      | 347/1000 [38:21<2:43:04, 14.98s/it]\u001b[A\n",
      " 35%|███▍      | 348/1000 [38:36<2:42:49, 14.98s/it]\u001b[A\n",
      " 35%|███▍      | 349/1000 [38:51<2:42:32, 14.98s/it]\u001b[A\n",
      " 35%|███▌      | 350/1000 [39:06<2:42:19, 14.98s/it]\u001b[A\n",
      " 35%|███▌      | 351/1000 [39:21<2:42:02, 14.98s/it]\u001b[A"
     ]
    },
    {
     "name": "stdout",
     "output_type": "stream",
     "text": [
      "F444W\n",
      "Downloading http://sncosmo.github.io/data/bandpasses/nircam/jwst_nircam_f444w.dat [Done]\n"
     ]
    },
    {
     "name": "stderr",
     "output_type": "stream",
     "text": [
      "\n",
      " 35%|███▌      | 352/1000 [39:34<2:34:09, 14.27s/it]\u001b[A"
     ]
    },
    {
     "name": "stdout",
     "output_type": "stream",
     "text": [
      "simulating sn as blackbody\n"
     ]
    },
    {
     "name": "stderr",
     "output_type": "stream",
     "text": [
      "\n",
      " 35%|███▌      | 353/1000 [39:47<2:28:20, 13.76s/it]\u001b[A"
     ]
    },
    {
     "name": "stdout",
     "output_type": "stream",
     "text": [
      "simulating sn as blackbody\n"
     ]
    },
    {
     "name": "stderr",
     "output_type": "stream",
     "text": [
      "\n",
      " 35%|███▌      | 354/1000 [39:59<2:24:11, 13.39s/it]\u001b[A"
     ]
    },
    {
     "name": "stdout",
     "output_type": "stream",
     "text": [
      "simulating sn as blackbody\n"
     ]
    },
    {
     "name": "stderr",
     "output_type": "stream",
     "text": [
      "\n",
      " 36%|███▌      | 355/1000 [40:12<2:21:13, 13.14s/it]\u001b[A"
     ]
    },
    {
     "name": "stdout",
     "output_type": "stream",
     "text": [
      "simulating sn as blackbody\n"
     ]
    },
    {
     "name": "stderr",
     "output_type": "stream",
     "text": [
      "\n",
      " 36%|███▌      | 356/1000 [40:24<2:19:06, 12.96s/it]\u001b[A\n",
      " 36%|███▌      | 357/1000 [40:37<2:17:34, 12.84s/it]\u001b[A\n",
      " 36%|███▌      | 358/1000 [40:49<2:16:25, 12.75s/it]\u001b[A\n",
      " 36%|███▌      | 359/1000 [41:02<2:15:37, 12.69s/it]\u001b[A\n",
      " 36%|███▌      | 360/1000 [41:14<2:14:53, 12.65s/it]\u001b[A\n",
      " 36%|███▌      | 361/1000 [41:27<2:14:20, 12.61s/it]\u001b[A\n",
      " 36%|███▌      | 362/1000 [41:39<2:13:53, 12.59s/it]\u001b[A\n",
      " 36%|███▋      | 363/1000 [41:52<2:13:21, 12.56s/it]\u001b[A\n",
      " 36%|███▋      | 364/1000 [42:04<2:13:00, 12.55s/it]\u001b[A\n",
      " 36%|███▋      | 365/1000 [42:17<2:12:32, 12.52s/it]\u001b[A\n",
      " 37%|███▋      | 366/1000 [42:29<2:12:08, 12.51s/it]\u001b[A\n",
      " 37%|███▋      | 367/1000 [42:42<2:11:49, 12.49s/it]\u001b[A\n",
      " 37%|███▋      | 368/1000 [43:03<2:37:41, 14.97s/it]\u001b[A\n",
      " 37%|███▋      | 369/1000 [43:23<2:55:54, 16.73s/it]\u001b[A\n",
      " 37%|███▋      | 370/1000 [43:44<3:08:13, 17.93s/it]\u001b[A\n",
      " 37%|███▋      | 371/1000 [44:05<3:16:49, 18.78s/it]\u001b[A\n",
      " 37%|███▋      | 372/1000 [44:26<3:22:38, 19.36s/it]\u001b[A\n",
      " 37%|███▋      | 373/1000 [44:46<3:26:37, 19.77s/it]\u001b[A\n",
      " 37%|███▋      | 374/1000 [45:07<3:29:23, 20.07s/it]\u001b[A\n",
      " 38%|███▊      | 375/1000 [45:28<3:31:06, 20.27s/it]\u001b[A\n",
      " 38%|███▊      | 376/1000 [45:49<3:32:14, 20.41s/it]\u001b[A\n",
      " 38%|███▊      | 377/1000 [46:09<3:32:54, 20.51s/it]\u001b[A\n",
      " 38%|███▊      | 378/1000 [46:30<3:33:15, 20.57s/it]\u001b[A\n",
      " 38%|███▊      | 379/1000 [46:51<3:33:23, 20.62s/it]\u001b[A\n",
      " 38%|███▊      | 380/1000 [47:12<3:33:29, 20.66s/it]\u001b[A\n",
      " 38%|███▊      | 381/1000 [47:32<3:33:20, 20.68s/it]\u001b[A\n",
      " 38%|███▊      | 382/1000 [47:53<3:33:08, 20.69s/it]\u001b[A\n",
      " 38%|███▊      | 383/1000 [48:14<3:32:51, 20.70s/it]\u001b[A\n",
      " 38%|███▊      | 384/1000 [48:34<3:32:34, 20.71s/it]\u001b[A\n",
      " 38%|███▊      | 385/1000 [48:55<3:32:16, 20.71s/it]\u001b[A\n",
      " 39%|███▊      | 386/1000 [49:16<3:32:02, 20.72s/it]\u001b[A\n",
      " 39%|███▊      | 387/1000 [49:37<3:31:38, 20.72s/it]\u001b[A\n",
      " 39%|███▉      | 388/1000 [49:57<3:31:17, 20.72s/it]\u001b[A\n",
      " 39%|███▉      | 389/1000 [50:18<3:30:55, 20.71s/it]\u001b[A\n",
      " 39%|███▉      | 390/1000 [50:39<3:30:33, 20.71s/it]\u001b[A\n",
      " 39%|███▉      | 391/1000 [50:59<3:30:14, 20.71s/it]\u001b[A\n",
      " 39%|███▉      | 392/1000 [51:20<3:30:00, 20.72s/it]\u001b[A\n",
      " 39%|███▉      | 393/1000 [51:41<3:29:38, 20.72s/it]\u001b[A\n",
      " 39%|███▉      | 394/1000 [52:02<3:29:16, 20.72s/it]\u001b[A\n",
      " 40%|███▉      | 395/1000 [52:22<3:28:56, 20.72s/it]\u001b[A\n",
      " 40%|███▉      | 396/1000 [52:43<3:28:35, 20.72s/it]\u001b[A\n",
      " 40%|███▉      | 397/1000 [53:04<3:28:21, 20.73s/it]\u001b[A\n",
      " 40%|███▉      | 398/1000 [53:25<3:27:59, 20.73s/it]\u001b[A\n",
      " 40%|███▉      | 399/1000 [53:45<3:27:24, 20.71s/it]\u001b[A\n",
      " 40%|████      | 400/1000 [54:06<3:26:42, 20.67s/it]\u001b[A\n",
      " 40%|████      | 401/1000 [54:26<3:26:16, 20.66s/it]\u001b[A"
     ]
    },
    {
     "name": "stdout",
     "output_type": "stream",
     "text": [
      "F140M\n",
      "Downloading http://sncosmo.github.io/data/bandpasses/nircam/jwst_nircam_f140m.dat [Done]\n"
     ]
    },
    {
     "name": "stderr",
     "output_type": "stream",
     "text": [
      "\n",
      " 40%|████      | 402/1000 [54:28<2:29:59, 15.05s/it]\u001b[A\n",
      " 40%|████      | 403/1000 [54:30<1:50:30, 11.11s/it]\u001b[A\n",
      " 40%|████      | 404/1000 [54:32<1:22:55,  8.35s/it]\u001b[A\n",
      " 40%|████      | 405/1000 [54:35<1:07:13,  6.78s/it]\u001b[A\n",
      " 41%|████      | 406/1000 [54:38<56:15,  5.68s/it]  \u001b[A\n",
      " 41%|████      | 407/1000 [54:42<48:31,  4.91s/it]\u001b[A\n",
      " 41%|████      | 408/1000 [54:45<43:11,  4.38s/it]\u001b[A\n",
      " 41%|████      | 409/1000 [54:48<39:22,  4.00s/it]\u001b[A\n",
      " 41%|████      | 410/1000 [54:51<36:44,  3.74s/it]\u001b[A\n",
      " 41%|████      | 411/1000 [54:54<34:49,  3.55s/it]\u001b[A\n",
      " 41%|████      | 412/1000 [54:57<33:32,  3.42s/it]\u001b[A\n",
      " 41%|████▏     | 413/1000 [55:00<32:32,  3.33s/it]\u001b[A\n",
      " 41%|████▏     | 414/1000 [55:03<31:59,  3.28s/it]\u001b[A\n",
      " 42%|████▏     | 415/1000 [55:07<31:26,  3.22s/it]\u001b[A\n",
      " 42%|████▏     | 416/1000 [55:10<31:05,  3.19s/it]\u001b[A\n",
      " 42%|████▏     | 417/1000 [55:13<30:46,  3.17s/it]\u001b[A\n",
      " 42%|████▏     | 418/1000 [55:16<30:37,  3.16s/it]\u001b[A\n",
      " 42%|████▏     | 419/1000 [55:19<30:24,  3.14s/it]\u001b[A\n",
      " 42%|████▏     | 420/1000 [55:22<30:19,  3.14s/it]\u001b[A\n",
      " 42%|████▏     | 421/1000 [55:25<30:11,  3.13s/it]\u001b[A\n",
      " 42%|████▏     | 422/1000 [55:28<30:08,  3.13s/it]\u001b[A"
     ]
    },
    {
     "name": "stdout",
     "output_type": "stream",
     "text": [
      "simulating sn as blackbody\n"
     ]
    },
    {
     "name": "stderr",
     "output_type": "stream",
     "text": [
      "\n",
      " 42%|████▏     | 423/1000 [55:31<30:02,  3.12s/it]\u001b[A"
     ]
    },
    {
     "name": "stdout",
     "output_type": "stream",
     "text": [
      "simulating sn as blackbody\n"
     ]
    },
    {
     "name": "stderr",
     "output_type": "stream",
     "text": [
      "\n",
      " 42%|████▏     | 424/1000 [55:35<30:02,  3.13s/it]\u001b[A"
     ]
    },
    {
     "name": "stdout",
     "output_type": "stream",
     "text": [
      "simulating sn as blackbody\n"
     ]
    },
    {
     "name": "stderr",
     "output_type": "stream",
     "text": [
      "\n",
      " 42%|████▎     | 425/1000 [55:38<29:55,  3.12s/it]\u001b[A"
     ]
    },
    {
     "name": "stdout",
     "output_type": "stream",
     "text": [
      "simulating sn as blackbody\n"
     ]
    },
    {
     "name": "stderr",
     "output_type": "stream",
     "text": [
      "\n",
      " 43%|████▎     | 426/1000 [55:41<29:53,  3.13s/it]\u001b[A"
     ]
    },
    {
     "name": "stdout",
     "output_type": "stream",
     "text": [
      "simulating sn as blackbody\n"
     ]
    },
    {
     "name": "stderr",
     "output_type": "stream",
     "text": [
      "\n",
      " 43%|████▎     | 427/1000 [55:44<29:48,  3.12s/it]\u001b[A"
     ]
    },
    {
     "name": "stdout",
     "output_type": "stream",
     "text": [
      "simulating sn as blackbody\n"
     ]
    },
    {
     "name": "stderr",
     "output_type": "stream",
     "text": [
      "\n",
      " 43%|████▎     | 428/1000 [55:47<29:47,  3.13s/it]\u001b[A"
     ]
    },
    {
     "name": "stdout",
     "output_type": "stream",
     "text": [
      "simulating sn as blackbody\n"
     ]
    },
    {
     "name": "stderr",
     "output_type": "stream",
     "text": [
      "\n",
      " 43%|████▎     | 429/1000 [55:50<29:41,  3.12s/it]\u001b[A"
     ]
    },
    {
     "name": "stdout",
     "output_type": "stream",
     "text": [
      "simulating sn as blackbody\n"
     ]
    },
    {
     "name": "stderr",
     "output_type": "stream",
     "text": [
      "\n",
      " 43%|████▎     | 430/1000 [55:53<29:41,  3.13s/it]\u001b[A"
     ]
    },
    {
     "name": "stdout",
     "output_type": "stream",
     "text": [
      "simulating sn as blackbody\n"
     ]
    },
    {
     "name": "stderr",
     "output_type": "stream",
     "text": [
      "\n",
      " 43%|████▎     | 431/1000 [55:56<29:35,  3.12s/it]\u001b[A"
     ]
    },
    {
     "name": "stdout",
     "output_type": "stream",
     "text": [
      "simulating sn as blackbody\n"
     ]
    },
    {
     "name": "stderr",
     "output_type": "stream",
     "text": [
      "\n",
      " 43%|████▎     | 432/1000 [56:00<29:34,  3.12s/it]\u001b[A"
     ]
    },
    {
     "name": "stdout",
     "output_type": "stream",
     "text": [
      "simulating sn as blackbody\n"
     ]
    },
    {
     "name": "stderr",
     "output_type": "stream",
     "text": [
      "\n",
      " 43%|████▎     | 433/1000 [56:03<29:28,  3.12s/it]\u001b[A"
     ]
    },
    {
     "name": "stdout",
     "output_type": "stream",
     "text": [
      "simulating sn as blackbody\n"
     ]
    },
    {
     "name": "stderr",
     "output_type": "stream",
     "text": [
      "\n",
      " 43%|████▎     | 434/1000 [56:06<29:28,  3.13s/it]\u001b[A"
     ]
    },
    {
     "name": "stdout",
     "output_type": "stream",
     "text": [
      "simulating sn as blackbody\n"
     ]
    },
    {
     "name": "stderr",
     "output_type": "stream",
     "text": [
      "\n",
      " 44%|████▎     | 435/1000 [56:09<29:22,  3.12s/it]\u001b[A"
     ]
    },
    {
     "name": "stdout",
     "output_type": "stream",
     "text": [
      "simulating sn as blackbody\n"
     ]
    },
    {
     "name": "stderr",
     "output_type": "stream",
     "text": [
      "\n",
      " 44%|████▎     | 436/1000 [56:12<29:21,  3.12s/it]\u001b[A"
     ]
    },
    {
     "name": "stdout",
     "output_type": "stream",
     "text": [
      "simulating sn as blackbody\n"
     ]
    },
    {
     "name": "stderr",
     "output_type": "stream",
     "text": [
      "\n",
      " 44%|████▎     | 437/1000 [56:15<29:16,  3.12s/it]\u001b[A"
     ]
    },
    {
     "name": "stdout",
     "output_type": "stream",
     "text": [
      "simulating sn as blackbody\n"
     ]
    },
    {
     "name": "stderr",
     "output_type": "stream",
     "text": [
      "\n",
      " 44%|████▍     | 438/1000 [56:18<29:15,  3.12s/it]\u001b[A"
     ]
    },
    {
     "name": "stdout",
     "output_type": "stream",
     "text": [
      "simulating sn as blackbody\n"
     ]
    },
    {
     "name": "stderr",
     "output_type": "stream",
     "text": [
      "\n",
      " 44%|████▍     | 439/1000 [56:21<29:10,  3.12s/it]\u001b[A"
     ]
    },
    {
     "name": "stdout",
     "output_type": "stream",
     "text": [
      "simulating sn as blackbody\n"
     ]
    },
    {
     "name": "stderr",
     "output_type": "stream",
     "text": [
      "\n",
      " 44%|████▍     | 440/1000 [56:25<29:09,  3.12s/it]\u001b[A"
     ]
    },
    {
     "name": "stdout",
     "output_type": "stream",
     "text": [
      "simulating sn as blackbody\n"
     ]
    },
    {
     "name": "stderr",
     "output_type": "stream",
     "text": [
      "\n",
      " 44%|████▍     | 441/1000 [56:28<29:03,  3.12s/it]\u001b[A"
     ]
    },
    {
     "name": "stdout",
     "output_type": "stream",
     "text": [
      "simulating sn as blackbody\n"
     ]
    },
    {
     "name": "stderr",
     "output_type": "stream",
     "text": [
      "\n",
      " 44%|████▍     | 442/1000 [56:31<29:02,  3.12s/it]\u001b[A"
     ]
    },
    {
     "name": "stdout",
     "output_type": "stream",
     "text": [
      "simulating sn as blackbody\n"
     ]
    },
    {
     "name": "stderr",
     "output_type": "stream",
     "text": [
      "\n",
      " 44%|████▍     | 443/1000 [56:34<28:57,  3.12s/it]\u001b[A"
     ]
    },
    {
     "name": "stdout",
     "output_type": "stream",
     "text": [
      "simulating sn as blackbody\n"
     ]
    },
    {
     "name": "stderr",
     "output_type": "stream",
     "text": [
      "\n",
      " 44%|████▍     | 444/1000 [56:37<28:56,  3.12s/it]\u001b[A"
     ]
    },
    {
     "name": "stdout",
     "output_type": "stream",
     "text": [
      "simulating sn as blackbody\n"
     ]
    },
    {
     "name": "stderr",
     "output_type": "stream",
     "text": [
      "\n",
      " 44%|████▍     | 445/1000 [56:40<28:51,  3.12s/it]\u001b[A"
     ]
    },
    {
     "name": "stdout",
     "output_type": "stream",
     "text": [
      "simulating sn as blackbody\n"
     ]
    },
    {
     "name": "stderr",
     "output_type": "stream",
     "text": [
      "\n",
      " 45%|████▍     | 446/1000 [56:43<28:50,  3.12s/it]\u001b[A"
     ]
    },
    {
     "name": "stdout",
     "output_type": "stream",
     "text": [
      "simulating sn as blackbody\n"
     ]
    },
    {
     "name": "stderr",
     "output_type": "stream",
     "text": [
      "\n",
      " 45%|████▍     | 447/1000 [56:46<28:46,  3.12s/it]\u001b[A"
     ]
    },
    {
     "name": "stdout",
     "output_type": "stream",
     "text": [
      "simulating sn as blackbody\n"
     ]
    },
    {
     "name": "stderr",
     "output_type": "stream",
     "text": [
      "\n",
      " 45%|████▍     | 448/1000 [56:50<28:45,  3.13s/it]\u001b[A"
     ]
    },
    {
     "name": "stdout",
     "output_type": "stream",
     "text": [
      "simulating sn as blackbody\n"
     ]
    },
    {
     "name": "stderr",
     "output_type": "stream",
     "text": [
      "\n",
      " 45%|████▍     | 449/1000 [56:53<28:39,  3.12s/it]\u001b[A\n",
      " 45%|████▌     | 450/1000 [56:55<25:19,  2.76s/it]\u001b[A"
     ]
    },
    {
     "name": "stdout",
     "output_type": "stream",
     "text": [
      "simulating sn as blackbody\n"
     ]
    },
    {
     "name": "stderr",
     "output_type": "stream",
     "text": [
      "\n",
      " 45%|████▌     | 451/1000 [56:57<22:57,  2.51s/it]\u001b[A"
     ]
    },
    {
     "name": "stdout",
     "output_type": "stream",
     "text": [
      "simulating sn as blackbody\n",
      "F162M\n",
      "Downloading http://sncosmo.github.io/data/bandpasses/nircam/jwst_nircam_f162m.dat [Done]\n"
     ]
    },
    {
     "name": "stderr",
     "output_type": "stream",
     "text": [
      "\n",
      " 45%|████▌     | 452/1000 [56:59<22:11,  2.43s/it]\u001b[A\n",
      " 45%|████▌     | 453/1000 [57:01<21:34,  2.37s/it]\u001b[A\n",
      " 45%|████▌     | 454/1000 [57:03<21:12,  2.33s/it]\u001b[A\n",
      " 46%|████▌     | 455/1000 [57:05<20:54,  2.30s/it]\u001b[A\n",
      " 46%|████▌     | 456/1000 [57:09<24:28,  2.70s/it]\u001b[A\n",
      " 46%|████▌     | 457/1000 [57:13<26:57,  2.98s/it]\u001b[A\n",
      " 46%|████▌     | 458/1000 [57:16<28:41,  3.18s/it]\u001b[A\n",
      " 46%|████▌     | 459/1000 [57:20<29:52,  3.31s/it]\u001b[A\n",
      " 46%|████▌     | 460/1000 [57:24<30:40,  3.41s/it]\u001b[A\n",
      " 46%|████▌     | 461/1000 [57:27<31:13,  3.48s/it]\u001b[A\n",
      " 46%|████▌     | 462/1000 [57:31<31:35,  3.52s/it]\u001b[A\n",
      " 46%|████▋     | 463/1000 [57:35<31:49,  3.56s/it]\u001b[A\n",
      " 46%|████▋     | 464/1000 [57:38<31:58,  3.58s/it]\u001b[A\n",
      " 46%|████▋     | 465/1000 [57:42<32:03,  3.60s/it]\u001b[A\n",
      " 47%|████▋     | 466/1000 [57:45<32:06,  3.61s/it]\u001b[A\n",
      " 47%|████▋     | 467/1000 [57:49<32:06,  3.62s/it]\u001b[A\n",
      " 47%|████▋     | 468/1000 [57:53<32:05,  3.62s/it]\u001b[A\n",
      " 47%|████▋     | 469/1000 [57:56<32:04,  3.63s/it]\u001b[A\n",
      " 47%|████▋     | 470/1000 [58:00<32:01,  3.63s/it]\u001b[A\n",
      " 47%|████▋     | 471/1000 [58:04<31:58,  3.63s/it]\u001b[A\n",
      " 47%|████▋     | 472/1000 [58:07<31:56,  3.63s/it]\u001b[A\n",
      " 47%|████▋     | 473/1000 [58:11<31:52,  3.63s/it]\u001b[A\n",
      " 47%|████▋     | 474/1000 [58:14<31:49,  3.63s/it]\u001b[A\n",
      " 48%|████▊     | 475/1000 [58:18<31:45,  3.63s/it]\u001b[A\n",
      " 48%|████▊     | 476/1000 [58:22<31:42,  3.63s/it]\u001b[A"
     ]
    },
    {
     "name": "stdout",
     "output_type": "stream",
     "text": [
      "simulating sn as blackbody\n"
     ]
    },
    {
     "name": "stderr",
     "output_type": "stream",
     "text": [
      "\n",
      " 48%|████▊     | 477/1000 [58:25<31:39,  3.63s/it]\u001b[A"
     ]
    },
    {
     "name": "stdout",
     "output_type": "stream",
     "text": [
      "simulating sn as blackbody\n"
     ]
    },
    {
     "name": "stderr",
     "output_type": "stream",
     "text": [
      "\n",
      " 48%|████▊     | 478/1000 [58:29<31:36,  3.63s/it]\u001b[A"
     ]
    },
    {
     "name": "stdout",
     "output_type": "stream",
     "text": [
      "simulating sn as blackbody\n"
     ]
    },
    {
     "name": "stderr",
     "output_type": "stream",
     "text": [
      "\n",
      " 48%|████▊     | 479/1000 [58:33<31:32,  3.63s/it]\u001b[A"
     ]
    },
    {
     "name": "stdout",
     "output_type": "stream",
     "text": [
      "simulating sn as blackbody\n"
     ]
    },
    {
     "name": "stderr",
     "output_type": "stream",
     "text": [
      "\n",
      " 48%|████▊     | 480/1000 [58:36<31:29,  3.63s/it]\u001b[A"
     ]
    },
    {
     "name": "stdout",
     "output_type": "stream",
     "text": [
      "simulating sn as blackbody\n"
     ]
    },
    {
     "name": "stderr",
     "output_type": "stream",
     "text": [
      "\n",
      " 48%|████▊     | 481/1000 [58:40<31:25,  3.63s/it]\u001b[A"
     ]
    },
    {
     "name": "stdout",
     "output_type": "stream",
     "text": [
      "simulating sn as blackbody\n"
     ]
    },
    {
     "name": "stderr",
     "output_type": "stream",
     "text": [
      "\n",
      " 48%|████▊     | 482/1000 [58:44<31:22,  3.63s/it]\u001b[A"
     ]
    },
    {
     "name": "stdout",
     "output_type": "stream",
     "text": [
      "simulating sn as blackbody\n"
     ]
    },
    {
     "name": "stderr",
     "output_type": "stream",
     "text": [
      "\n",
      " 48%|████▊     | 483/1000 [58:47<31:20,  3.64s/it]\u001b[A"
     ]
    },
    {
     "name": "stdout",
     "output_type": "stream",
     "text": [
      "simulating sn as blackbody\n"
     ]
    },
    {
     "name": "stderr",
     "output_type": "stream",
     "text": [
      "\n",
      " 48%|████▊     | 484/1000 [58:51<31:16,  3.64s/it]\u001b[A"
     ]
    },
    {
     "name": "stdout",
     "output_type": "stream",
     "text": [
      "simulating sn as blackbody\n"
     ]
    },
    {
     "name": "stderr",
     "output_type": "stream",
     "text": [
      "\n",
      " 48%|████▊     | 485/1000 [58:54<31:14,  3.64s/it]\u001b[A"
     ]
    },
    {
     "name": "stdout",
     "output_type": "stream",
     "text": [
      "simulating sn as blackbody\n"
     ]
    },
    {
     "name": "stderr",
     "output_type": "stream",
     "text": [
      "\n",
      " 49%|████▊     | 486/1000 [58:58<31:10,  3.64s/it]\u001b[A"
     ]
    },
    {
     "name": "stdout",
     "output_type": "stream",
     "text": [
      "simulating sn as blackbody\n"
     ]
    },
    {
     "name": "stderr",
     "output_type": "stream",
     "text": [
      "\n",
      " 49%|████▊     | 487/1000 [59:02<31:06,  3.64s/it]\u001b[A"
     ]
    },
    {
     "name": "stdout",
     "output_type": "stream",
     "text": [
      "simulating sn as blackbody\n"
     ]
    },
    {
     "name": "stderr",
     "output_type": "stream",
     "text": [
      "\n",
      " 49%|████▉     | 488/1000 [59:05<31:08,  3.65s/it]\u001b[A"
     ]
    },
    {
     "name": "stdout",
     "output_type": "stream",
     "text": [
      "simulating sn as blackbody\n"
     ]
    },
    {
     "name": "stderr",
     "output_type": "stream",
     "text": [
      "\n",
      " 49%|████▉     | 489/1000 [59:09<31:03,  3.65s/it]\u001b[A"
     ]
    },
    {
     "name": "stdout",
     "output_type": "stream",
     "text": [
      "simulating sn as blackbody\n"
     ]
    },
    {
     "name": "stderr",
     "output_type": "stream",
     "text": [
      "\n",
      " 49%|████▉     | 490/1000 [59:13<30:58,  3.64s/it]\u001b[A"
     ]
    },
    {
     "name": "stdout",
     "output_type": "stream",
     "text": [
      "simulating sn as blackbody\n"
     ]
    },
    {
     "name": "stderr",
     "output_type": "stream",
     "text": [
      "\n",
      " 49%|████▉     | 491/1000 [59:16<30:53,  3.64s/it]\u001b[A"
     ]
    },
    {
     "name": "stdout",
     "output_type": "stream",
     "text": [
      "simulating sn as blackbody\n"
     ]
    },
    {
     "name": "stderr",
     "output_type": "stream",
     "text": [
      "\n",
      " 49%|████▉     | 492/1000 [59:20<30:48,  3.64s/it]\u001b[A"
     ]
    },
    {
     "name": "stdout",
     "output_type": "stream",
     "text": [
      "simulating sn as blackbody\n"
     ]
    },
    {
     "name": "stderr",
     "output_type": "stream",
     "text": [
      "\n",
      " 49%|████▉     | 493/1000 [59:24<30:43,  3.64s/it]\u001b[A"
     ]
    },
    {
     "name": "stdout",
     "output_type": "stream",
     "text": [
      "simulating sn as blackbody\n"
     ]
    },
    {
     "name": "stderr",
     "output_type": "stream",
     "text": [
      "\n",
      " 49%|████▉     | 494/1000 [59:27<30:39,  3.64s/it]\u001b[A"
     ]
    },
    {
     "name": "stdout",
     "output_type": "stream",
     "text": [
      "simulating sn as blackbody\n"
     ]
    },
    {
     "name": "stderr",
     "output_type": "stream",
     "text": [
      "\n",
      " 50%|████▉     | 495/1000 [59:31<30:33,  3.63s/it]\u001b[A"
     ]
    },
    {
     "name": "stdout",
     "output_type": "stream",
     "text": [
      "simulating sn as blackbody\n"
     ]
    },
    {
     "name": "stderr",
     "output_type": "stream",
     "text": [
      "\n",
      " 50%|████▉     | 496/1000 [59:34<30:29,  3.63s/it]\u001b[A"
     ]
    },
    {
     "name": "stdout",
     "output_type": "stream",
     "text": [
      "simulating sn as blackbody\n"
     ]
    },
    {
     "name": "stderr",
     "output_type": "stream",
     "text": [
      "\n",
      " 50%|████▉     | 497/1000 [59:38<30:24,  3.63s/it]\u001b[A"
     ]
    },
    {
     "name": "stdout",
     "output_type": "stream",
     "text": [
      "simulating sn as blackbody\n"
     ]
    },
    {
     "name": "stderr",
     "output_type": "stream",
     "text": [
      "\n",
      " 50%|████▉     | 498/1000 [59:42<30:20,  3.63s/it]\u001b[A"
     ]
    },
    {
     "name": "stdout",
     "output_type": "stream",
     "text": [
      "simulating sn as blackbody\n"
     ]
    },
    {
     "name": "stderr",
     "output_type": "stream",
     "text": [
      "\n",
      " 50%|████▉     | 499/1000 [59:45<30:17,  3.63s/it]\u001b[A"
     ]
    },
    {
     "name": "stdout",
     "output_type": "stream",
     "text": [
      "simulating sn as blackbody\n"
     ]
    },
    {
     "name": "stderr",
     "output_type": "stream",
     "text": [
      "\n",
      " 50%|█████     | 500/1000 [59:49<30:13,  3.63s/it]\u001b[A"
     ]
    },
    {
     "name": "stdout",
     "output_type": "stream",
     "text": [
      "simulating sn as blackbody\n"
     ]
    },
    {
     "name": "stderr",
     "output_type": "stream",
     "text": [
      "\n",
      " 50%|█████     | 501/1000 [59:53<30:09,  3.63s/it]\u001b[A"
     ]
    },
    {
     "name": "stdout",
     "output_type": "stream",
     "text": [
      "F182M\n",
      "Downloading http://sncosmo.github.io/data/bandpasses/nircam/jwst_nircam_f182m.dat [Done]\n"
     ]
    },
    {
     "name": "stderr",
     "output_type": "stream",
     "text": [
      "\n",
      " 50%|█████     | 502/1000 [59:56<28:35,  3.44s/it]\u001b[A\n",
      " 50%|█████     | 503/1000 [59:59<27:24,  3.31s/it]\u001b[A\n",
      " 50%|█████     | 504/1000 [1:00:02<26:33,  3.21s/it]\u001b[A\n",
      " 50%|█████     | 505/1000 [1:00:05<25:57,  3.15s/it]\u001b[A\n",
      " 51%|█████     | 506/1000 [1:00:08<25:31,  3.10s/it]\u001b[A\n",
      " 51%|█████     | 507/1000 [1:00:12<29:44,  3.62s/it]\u001b[A\n",
      " 51%|█████     | 508/1000 [1:00:17<32:41,  3.99s/it]\u001b[A\n",
      " 51%|█████     | 509/1000 [1:00:22<34:42,  4.24s/it]\u001b[A\n",
      " 51%|█████     | 510/1000 [1:00:27<36:06,  4.42s/it]\u001b[A\n",
      " 51%|█████     | 511/1000 [1:00:32<37:02,  4.54s/it]\u001b[A\n",
      " 51%|█████     | 512/1000 [1:00:37<37:40,  4.63s/it]\u001b[A\n",
      " 51%|█████▏    | 513/1000 [1:00:41<38:05,  4.69s/it]\u001b[A\n",
      " 51%|█████▏    | 514/1000 [1:00:46<38:21,  4.74s/it]\u001b[A\n",
      " 52%|█████▏    | 515/1000 [1:00:51<38:31,  4.77s/it]\u001b[A\n",
      " 52%|█████▏    | 516/1000 [1:00:56<38:37,  4.79s/it]\u001b[A\n",
      " 52%|█████▏    | 517/1000 [1:01:01<38:38,  4.80s/it]\u001b[A\n",
      " 52%|█████▏    | 518/1000 [1:01:06<38:44,  4.82s/it]\u001b[A\n",
      " 52%|█████▏    | 519/1000 [1:01:11<38:40,  4.83s/it]\u001b[A\n",
      " 52%|█████▏    | 520/1000 [1:01:15<38:37,  4.83s/it]\u001b[A\n",
      " 52%|█████▏    | 521/1000 [1:01:20<38:33,  4.83s/it]\u001b[A\n",
      " 52%|█████▏    | 522/1000 [1:01:25<38:29,  4.83s/it]\u001b[A\n",
      " 52%|█████▏    | 523/1000 [1:01:30<38:24,  4.83s/it]\u001b[A\n",
      " 52%|█████▏    | 524/1000 [1:01:35<38:19,  4.83s/it]\u001b[A\n",
      " 52%|█████▎    | 525/1000 [1:01:40<38:15,  4.83s/it]\u001b[A\n",
      " 53%|█████▎    | 526/1000 [1:01:44<38:10,  4.83s/it]\u001b[A\n",
      " 53%|█████▎    | 527/1000 [1:01:49<38:06,  4.83s/it]\u001b[A\n",
      " 53%|█████▎    | 528/1000 [1:01:54<38:01,  4.83s/it]\u001b[A\n",
      " 53%|█████▎    | 529/1000 [1:01:59<37:57,  4.83s/it]\u001b[A"
     ]
    },
    {
     "name": "stdout",
     "output_type": "stream",
     "text": [
      "simulating sn as blackbody\n"
     ]
    },
    {
     "name": "stderr",
     "output_type": "stream",
     "text": [
      "\n",
      " 53%|█████▎    | 530/1000 [1:02:04<37:52,  4.83s/it]\u001b[A"
     ]
    },
    {
     "name": "stdout",
     "output_type": "stream",
     "text": [
      "simulating sn as blackbody\n"
     ]
    },
    {
     "name": "stderr",
     "output_type": "stream",
     "text": [
      "\n",
      " 53%|█████▎    | 531/1000 [1:02:09<37:47,  4.84s/it]\u001b[A"
     ]
    },
    {
     "name": "stdout",
     "output_type": "stream",
     "text": [
      "simulating sn as blackbody\n"
     ]
    },
    {
     "name": "stderr",
     "output_type": "stream",
     "text": [
      "\n",
      " 53%|█████▎    | 532/1000 [1:02:13<37:42,  4.84s/it]\u001b[A"
     ]
    },
    {
     "name": "stdout",
     "output_type": "stream",
     "text": [
      "simulating sn as blackbody\n"
     ]
    },
    {
     "name": "stderr",
     "output_type": "stream",
     "text": [
      "\n",
      " 53%|█████▎    | 533/1000 [1:02:18<37:38,  4.84s/it]\u001b[A"
     ]
    },
    {
     "name": "stdout",
     "output_type": "stream",
     "text": [
      "simulating sn as blackbody\n"
     ]
    },
    {
     "name": "stderr",
     "output_type": "stream",
     "text": [
      "\n",
      " 53%|█████▎    | 534/1000 [1:02:23<37:32,  4.83s/it]\u001b[A"
     ]
    },
    {
     "name": "stdout",
     "output_type": "stream",
     "text": [
      "simulating sn as blackbody\n"
     ]
    },
    {
     "name": "stderr",
     "output_type": "stream",
     "text": [
      "\n",
      " 54%|█████▎    | 535/1000 [1:02:28<37:28,  4.84s/it]\u001b[A"
     ]
    },
    {
     "name": "stdout",
     "output_type": "stream",
     "text": [
      "simulating sn as blackbody\n"
     ]
    },
    {
     "name": "stderr",
     "output_type": "stream",
     "text": [
      "\n",
      " 54%|█████▎    | 536/1000 [1:02:33<37:23,  4.84s/it]\u001b[A"
     ]
    },
    {
     "name": "stdout",
     "output_type": "stream",
     "text": [
      "simulating sn as blackbody\n"
     ]
    },
    {
     "name": "stderr",
     "output_type": "stream",
     "text": [
      "\n",
      " 54%|█████▎    | 537/1000 [1:02:38<37:18,  4.84s/it]\u001b[A"
     ]
    },
    {
     "name": "stdout",
     "output_type": "stream",
     "text": [
      "simulating sn as blackbody\n"
     ]
    },
    {
     "name": "stderr",
     "output_type": "stream",
     "text": [
      "\n",
      " 54%|█████▍    | 538/1000 [1:02:42<37:13,  4.83s/it]\u001b[A"
     ]
    },
    {
     "name": "stdout",
     "output_type": "stream",
     "text": [
      "simulating sn as blackbody\n"
     ]
    },
    {
     "name": "stderr",
     "output_type": "stream",
     "text": [
      "\n",
      " 54%|█████▍    | 539/1000 [1:02:47<37:09,  4.84s/it]\u001b[A"
     ]
    },
    {
     "name": "stdout",
     "output_type": "stream",
     "text": [
      "simulating sn as blackbody\n"
     ]
    },
    {
     "name": "stderr",
     "output_type": "stream",
     "text": [
      "\n",
      " 54%|█████▍    | 540/1000 [1:02:52<37:04,  4.84s/it]\u001b[A"
     ]
    },
    {
     "name": "stdout",
     "output_type": "stream",
     "text": [
      "simulating sn as blackbody\n"
     ]
    },
    {
     "name": "stderr",
     "output_type": "stream",
     "text": [
      "\n",
      " 54%|█████▍    | 541/1000 [1:02:57<37:00,  4.84s/it]\u001b[A"
     ]
    },
    {
     "name": "stdout",
     "output_type": "stream",
     "text": [
      "simulating sn as blackbody\n"
     ]
    },
    {
     "name": "stderr",
     "output_type": "stream",
     "text": [
      "\n",
      " 54%|█████▍    | 542/1000 [1:03:02<36:54,  4.84s/it]\u001b[A"
     ]
    },
    {
     "name": "stdout",
     "output_type": "stream",
     "text": [
      "simulating sn as blackbody\n"
     ]
    },
    {
     "name": "stderr",
     "output_type": "stream",
     "text": [
      "\n",
      " 54%|█████▍    | 543/1000 [1:03:07<36:54,  4.85s/it]\u001b[A"
     ]
    },
    {
     "name": "stdout",
     "output_type": "stream",
     "text": [
      "simulating sn as blackbody\n"
     ]
    },
    {
     "name": "stderr",
     "output_type": "stream",
     "text": [
      "\n",
      " 54%|█████▍    | 544/1000 [1:03:11<36:48,  4.84s/it]\u001b[A"
     ]
    },
    {
     "name": "stdout",
     "output_type": "stream",
     "text": [
      "simulating sn as blackbody\n"
     ]
    },
    {
     "name": "stderr",
     "output_type": "stream",
     "text": [
      "\n",
      " 55%|█████▍    | 545/1000 [1:03:16<36:43,  4.84s/it]\u001b[A"
     ]
    },
    {
     "name": "stdout",
     "output_type": "stream",
     "text": [
      "simulating sn as blackbody\n"
     ]
    },
    {
     "name": "stderr",
     "output_type": "stream",
     "text": [
      "\n",
      " 55%|█████▍    | 546/1000 [1:03:21<36:36,  4.84s/it]\u001b[A"
     ]
    },
    {
     "name": "stdout",
     "output_type": "stream",
     "text": [
      "simulating sn as blackbody\n"
     ]
    },
    {
     "name": "stderr",
     "output_type": "stream",
     "text": [
      "\n",
      " 55%|█████▍    | 547/1000 [1:03:26<36:31,  4.84s/it]\u001b[A"
     ]
    },
    {
     "name": "stdout",
     "output_type": "stream",
     "text": [
      "simulating sn as blackbody\n"
     ]
    },
    {
     "name": "stderr",
     "output_type": "stream",
     "text": [
      "\n",
      " 55%|█████▍    | 548/1000 [1:03:31<36:26,  4.84s/it]\u001b[A"
     ]
    },
    {
     "name": "stdout",
     "output_type": "stream",
     "text": [
      "simulating sn as blackbody\n"
     ]
    },
    {
     "name": "stderr",
     "output_type": "stream",
     "text": [
      "\n",
      " 55%|█████▍    | 549/1000 [1:03:36<36:20,  4.84s/it]\u001b[A"
     ]
    },
    {
     "name": "stdout",
     "output_type": "stream",
     "text": [
      "simulating sn as blackbody\n"
     ]
    },
    {
     "name": "stderr",
     "output_type": "stream",
     "text": [
      "\n",
      " 55%|█████▌    | 550/1000 [1:03:40<36:16,  4.84s/it]\u001b[A"
     ]
    },
    {
     "name": "stdout",
     "output_type": "stream",
     "text": [
      "simulating sn as blackbody\n"
     ]
    },
    {
     "name": "stderr",
     "output_type": "stream",
     "text": [
      "\n",
      " 55%|█████▌    | 551/1000 [1:03:45<36:11,  4.84s/it]\u001b[A"
     ]
    },
    {
     "name": "stdout",
     "output_type": "stream",
     "text": [
      "F210M\n",
      "Downloading http://sncosmo.github.io/data/bandpasses/nircam/jwst_nircam_f210m.dat [Done]\n"
     ]
    },
    {
     "name": "stderr",
     "output_type": "stream",
     "text": [
      "\n",
      " 55%|█████▌    | 552/1000 [1:03:48<31:06,  4.17s/it]\u001b[A\n",
      " 55%|█████▌    | 553/1000 [1:03:50<27:27,  3.69s/it]\u001b[A\n",
      " 55%|█████▌    | 554/1000 [1:03:53<24:54,  3.35s/it]\u001b[A\n",
      " 56%|█████▌    | 555/1000 [1:03:56<23:06,  3.12s/it]\u001b[A\n",
      " 56%|█████▌    | 556/1000 [1:03:58<21:51,  2.95s/it]\u001b[A\n",
      " 56%|█████▌    | 557/1000 [1:04:02<24:29,  3.32s/it]\u001b[A\n",
      " 56%|█████▌    | 558/1000 [1:04:06<26:18,  3.57s/it]\u001b[A\n",
      " 56%|█████▌    | 559/1000 [1:04:11<27:33,  3.75s/it]\u001b[A\n",
      " 56%|█████▌    | 560/1000 [1:04:15<28:24,  3.87s/it]\u001b[A\n",
      " 56%|█████▌    | 561/1000 [1:04:19<28:59,  3.96s/it]\u001b[A\n",
      " 56%|█████▌    | 562/1000 [1:04:23<29:21,  4.02s/it]\u001b[A\n",
      " 56%|█████▋    | 563/1000 [1:04:27<29:36,  4.07s/it]\u001b[A\n",
      " 56%|█████▋    | 564/1000 [1:04:31<29:45,  4.10s/it]\u001b[A\n",
      " 56%|█████▋    | 565/1000 [1:04:36<29:50,  4.12s/it]\u001b[A\n",
      " 57%|█████▋    | 566/1000 [1:04:40<29:52,  4.13s/it]\u001b[A\n",
      " 57%|█████▋    | 567/1000 [1:04:44<29:52,  4.14s/it]\u001b[A\n",
      " 57%|█████▋    | 568/1000 [1:04:48<29:52,  4.15s/it]\u001b[A\n",
      " 57%|█████▋    | 569/1000 [1:04:52<29:50,  4.15s/it]\u001b[A\n",
      " 57%|█████▋    | 570/1000 [1:04:56<29:48,  4.16s/it]\u001b[A\n",
      " 57%|█████▋    | 571/1000 [1:05:01<29:44,  4.16s/it]\u001b[A\n",
      " 57%|█████▋    | 572/1000 [1:05:05<29:45,  4.17s/it]\u001b[A\n",
      " 57%|█████▋    | 573/1000 [1:05:09<29:40,  4.17s/it]\u001b[A\n",
      " 57%|█████▋    | 574/1000 [1:05:13<29:34,  4.17s/it]\u001b[A\n",
      " 57%|█████▊    | 575/1000 [1:05:17<29:30,  4.17s/it]\u001b[A\n",
      " 58%|█████▊    | 576/1000 [1:05:21<29:25,  4.16s/it]\u001b[A\n",
      " 58%|█████▊    | 577/1000 [1:05:26<29:19,  4.16s/it]\u001b[A\n",
      " 58%|█████▊    | 578/1000 [1:05:30<29:15,  4.16s/it]\u001b[A\n",
      " 58%|█████▊    | 579/1000 [1:05:34<29:10,  4.16s/it]\u001b[A\n",
      " 58%|█████▊    | 580/1000 [1:05:38<29:06,  4.16s/it]\u001b[A\n",
      " 58%|█████▊    | 581/1000 [1:05:42<29:02,  4.16s/it]\u001b[A\n",
      " 58%|█████▊    | 582/1000 [1:05:46<28:58,  4.16s/it]\u001b[A\n",
      " 58%|█████▊    | 583/1000 [1:05:51<28:54,  4.16s/it]\u001b[A\n",
      " 58%|█████▊    | 584/1000 [1:05:55<28:48,  4.16s/it]\u001b[A"
     ]
    },
    {
     "name": "stdout",
     "output_type": "stream",
     "text": [
      "simulating sn as blackbody\n"
     ]
    },
    {
     "name": "stderr",
     "output_type": "stream",
     "text": [
      "\n",
      " 58%|█████▊    | 585/1000 [1:05:59<28:45,  4.16s/it]\u001b[A"
     ]
    },
    {
     "name": "stdout",
     "output_type": "stream",
     "text": [
      "simulating sn as blackbody\n"
     ]
    },
    {
     "name": "stderr",
     "output_type": "stream",
     "text": [
      "\n",
      " 59%|█████▊    | 586/1000 [1:06:03<28:40,  4.16s/it]\u001b[A"
     ]
    },
    {
     "name": "stdout",
     "output_type": "stream",
     "text": [
      "simulating sn as blackbody\n"
     ]
    },
    {
     "name": "stderr",
     "output_type": "stream",
     "text": [
      "\n",
      " 59%|█████▊    | 587/1000 [1:06:07<28:36,  4.16s/it]\u001b[A"
     ]
    },
    {
     "name": "stdout",
     "output_type": "stream",
     "text": [
      "simulating sn as blackbody\n"
     ]
    },
    {
     "name": "stderr",
     "output_type": "stream",
     "text": [
      "\n",
      " 59%|█████▉    | 588/1000 [1:06:11<28:32,  4.16s/it]\u001b[A"
     ]
    },
    {
     "name": "stdout",
     "output_type": "stream",
     "text": [
      "simulating sn as blackbody\n"
     ]
    },
    {
     "name": "stderr",
     "output_type": "stream",
     "text": [
      "\n",
      " 59%|█████▉    | 589/1000 [1:06:16<28:27,  4.16s/it]\u001b[A"
     ]
    },
    {
     "name": "stdout",
     "output_type": "stream",
     "text": [
      "simulating sn as blackbody\n"
     ]
    },
    {
     "name": "stderr",
     "output_type": "stream",
     "text": [
      "\n",
      " 59%|█████▉    | 590/1000 [1:06:20<28:24,  4.16s/it]\u001b[A"
     ]
    },
    {
     "name": "stdout",
     "output_type": "stream",
     "text": [
      "simulating sn as blackbody\n"
     ]
    },
    {
     "name": "stderr",
     "output_type": "stream",
     "text": [
      "\n",
      " 59%|█████▉    | 591/1000 [1:06:24<28:19,  4.16s/it]\u001b[A"
     ]
    },
    {
     "name": "stdout",
     "output_type": "stream",
     "text": [
      "simulating sn as blackbody\n"
     ]
    },
    {
     "name": "stderr",
     "output_type": "stream",
     "text": [
      "\n",
      " 59%|█████▉    | 592/1000 [1:06:28<28:15,  4.16s/it]\u001b[A"
     ]
    },
    {
     "name": "stdout",
     "output_type": "stream",
     "text": [
      "simulating sn as blackbody\n"
     ]
    },
    {
     "name": "stderr",
     "output_type": "stream",
     "text": [
      "\n",
      " 59%|█████▉    | 593/1000 [1:06:32<28:11,  4.15s/it]\u001b[A"
     ]
    },
    {
     "name": "stdout",
     "output_type": "stream",
     "text": [
      "simulating sn as blackbody\n"
     ]
    },
    {
     "name": "stderr",
     "output_type": "stream",
     "text": [
      "\n",
      " 59%|█████▉    | 594/1000 [1:06:36<28:06,  4.15s/it]\u001b[A"
     ]
    },
    {
     "name": "stdout",
     "output_type": "stream",
     "text": [
      "simulating sn as blackbody\n"
     ]
    },
    {
     "name": "stderr",
     "output_type": "stream",
     "text": [
      "\n",
      " 60%|█████▉    | 595/1000 [1:06:40<28:02,  4.16s/it]\u001b[A"
     ]
    },
    {
     "name": "stdout",
     "output_type": "stream",
     "text": [
      "simulating sn as blackbody\n"
     ]
    },
    {
     "name": "stderr",
     "output_type": "stream",
     "text": [
      "\n",
      " 60%|█████▉    | 596/1000 [1:06:45<27:57,  4.15s/it]\u001b[A"
     ]
    },
    {
     "name": "stdout",
     "output_type": "stream",
     "text": [
      "simulating sn as blackbody\n"
     ]
    },
    {
     "name": "stderr",
     "output_type": "stream",
     "text": [
      "\n",
      " 60%|█████▉    | 597/1000 [1:06:49<27:50,  4.15s/it]\u001b[A"
     ]
    },
    {
     "name": "stdout",
     "output_type": "stream",
     "text": [
      "simulating sn as blackbody\n"
     ]
    },
    {
     "name": "stderr",
     "output_type": "stream",
     "text": [
      "\n",
      " 60%|█████▉    | 598/1000 [1:06:53<27:42,  4.14s/it]\u001b[A"
     ]
    },
    {
     "name": "stdout",
     "output_type": "stream",
     "text": [
      "simulating sn as blackbody\n"
     ]
    },
    {
     "name": "stderr",
     "output_type": "stream",
     "text": [
      "\n",
      " 60%|█████▉    | 599/1000 [1:06:57<27:36,  4.13s/it]\u001b[A"
     ]
    },
    {
     "name": "stdout",
     "output_type": "stream",
     "text": [
      "simulating sn as blackbody\n"
     ]
    },
    {
     "name": "stderr",
     "output_type": "stream",
     "text": [
      "\n",
      " 60%|██████    | 600/1000 [1:07:01<27:30,  4.13s/it]\u001b[A"
     ]
    },
    {
     "name": "stdout",
     "output_type": "stream",
     "text": [
      "simulating sn as blackbody\n"
     ]
    },
    {
     "name": "stderr",
     "output_type": "stream",
     "text": [
      "\n",
      " 60%|██████    | 601/1000 [1:07:05<27:30,  4.14s/it]\u001b[A"
     ]
    },
    {
     "name": "stdout",
     "output_type": "stream",
     "text": [
      "F250M\n",
      "Downloading http://sncosmo.github.io/data/bandpasses/nircam/jwst_nircam_f250m.dat [Done]\n"
     ]
    },
    {
     "name": "stderr",
     "output_type": "stream",
     "text": [
      "\n",
      " 60%|██████    | 602/1000 [1:07:07<23:24,  3.53s/it]\u001b[A\n",
      " 60%|██████    | 603/1000 [1:07:09<20:27,  3.09s/it]\u001b[A\n",
      " 60%|██████    | 604/1000 [1:07:11<18:24,  2.79s/it]\u001b[A\n",
      " 60%|██████    | 605/1000 [1:07:14<16:56,  2.57s/it]\u001b[A\n",
      " 61%|██████    | 606/1000 [1:07:16<15:55,  2.43s/it]\u001b[A\n",
      " 61%|██████    | 607/1000 [1:07:18<15:12,  2.32s/it]\u001b[A\n",
      " 61%|██████    | 608/1000 [1:07:20<14:41,  2.25s/it]\u001b[A\n",
      " 61%|██████    | 609/1000 [1:07:23<16:52,  2.59s/it]\u001b[A\n",
      " 61%|██████    | 610/1000 [1:07:27<18:18,  2.82s/it]\u001b[A\n",
      " 61%|██████    | 611/1000 [1:07:30<19:22,  2.99s/it]\u001b[A\n",
      " 61%|██████    | 612/1000 [1:07:33<20:02,  3.10s/it]\u001b[A\n",
      " 61%|██████▏   | 613/1000 [1:07:37<20:31,  3.18s/it]\u001b[A\n",
      " 61%|██████▏   | 614/1000 [1:07:40<20:49,  3.24s/it]\u001b[A\n",
      " 62%|██████▏   | 615/1000 [1:07:43<21:02,  3.28s/it]\u001b[A\n",
      " 62%|██████▏   | 616/1000 [1:07:47<21:08,  3.30s/it]\u001b[A\n",
      " 62%|██████▏   | 617/1000 [1:07:50<21:15,  3.33s/it]\u001b[A\n",
      " 62%|██████▏   | 618/1000 [1:07:53<21:14,  3.34s/it]\u001b[A\n",
      " 62%|██████▏   | 619/1000 [1:07:57<21:17,  3.35s/it]\u001b[A\n",
      " 62%|██████▏   | 620/1000 [1:08:00<21:15,  3.36s/it]\u001b[A\n",
      " 62%|██████▏   | 621/1000 [1:08:04<21:16,  3.37s/it]\u001b[A\n",
      " 62%|██████▏   | 622/1000 [1:08:07<21:11,  3.36s/it]\u001b[A\n",
      " 62%|██████▏   | 623/1000 [1:08:10<21:12,  3.38s/it]\u001b[A\n",
      " 62%|██████▏   | 624/1000 [1:08:14<21:07,  3.37s/it]\u001b[A\n",
      " 62%|██████▎   | 625/1000 [1:08:17<21:07,  3.38s/it]\u001b[A\n",
      " 63%|██████▎   | 626/1000 [1:08:21<20:59,  3.37s/it]\u001b[A\n",
      " 63%|██████▎   | 627/1000 [1:08:24<20:57,  3.37s/it]\u001b[A\n",
      " 63%|██████▎   | 628/1000 [1:08:27<20:50,  3.36s/it]\u001b[A\n",
      " 63%|██████▎   | 629/1000 [1:08:31<20:49,  3.37s/it]\u001b[A\n",
      " 63%|██████▎   | 630/1000 [1:08:34<20:42,  3.36s/it]\u001b[A\n",
      " 63%|██████▎   | 631/1000 [1:08:37<20:41,  3.37s/it]\u001b[A\n",
      " 63%|██████▎   | 632/1000 [1:08:41<20:35,  3.36s/it]\u001b[A\n",
      " 63%|██████▎   | 633/1000 [1:08:44<20:34,  3.36s/it]\u001b[A\n",
      " 63%|██████▎   | 634/1000 [1:08:47<20:28,  3.36s/it]\u001b[A\n",
      " 64%|██████▎   | 635/1000 [1:08:51<20:28,  3.37s/it]\u001b[A\n",
      " 64%|██████▎   | 636/1000 [1:08:54<20:21,  3.36s/it]\u001b[A\n",
      " 64%|██████▎   | 637/1000 [1:08:57<20:20,  3.36s/it]\u001b[A\n",
      " 64%|██████▍   | 638/1000 [1:09:01<20:15,  3.36s/it]\u001b[A\n",
      " 64%|██████▍   | 639/1000 [1:09:04<20:14,  3.36s/it]\u001b[A\n",
      " 64%|██████▍   | 640/1000 [1:09:08<20:11,  3.37s/it]\u001b[A\n",
      " 64%|██████▍   | 641/1000 [1:09:11<20:10,  3.37s/it]\u001b[A\n",
      " 64%|██████▍   | 642/1000 [1:09:14<20:03,  3.36s/it]\u001b[A"
     ]
    },
    {
     "name": "stdout",
     "output_type": "stream",
     "text": [
      "simulating sn as blackbody\n"
     ]
    },
    {
     "name": "stderr",
     "output_type": "stream",
     "text": [
      "\n",
      " 64%|██████▍   | 643/1000 [1:09:18<20:02,  3.37s/it]\u001b[A"
     ]
    },
    {
     "name": "stdout",
     "output_type": "stream",
     "text": [
      "simulating sn as blackbody\n"
     ]
    },
    {
     "name": "stderr",
     "output_type": "stream",
     "text": [
      "\n",
      " 64%|██████▍   | 644/1000 [1:09:21<19:56,  3.36s/it]\u001b[A"
     ]
    },
    {
     "name": "stdout",
     "output_type": "stream",
     "text": [
      "simulating sn as blackbody\n"
     ]
    },
    {
     "name": "stderr",
     "output_type": "stream",
     "text": [
      "\n",
      " 64%|██████▍   | 645/1000 [1:09:24<19:55,  3.37s/it]\u001b[A"
     ]
    },
    {
     "name": "stdout",
     "output_type": "stream",
     "text": [
      "simulating sn as blackbody\n"
     ]
    },
    {
     "name": "stderr",
     "output_type": "stream",
     "text": [
      "\n",
      " 65%|██████▍   | 646/1000 [1:09:28<19:48,  3.36s/it]\u001b[A"
     ]
    },
    {
     "name": "stdout",
     "output_type": "stream",
     "text": [
      "simulating sn as blackbody\n"
     ]
    },
    {
     "name": "stderr",
     "output_type": "stream",
     "text": [
      "\n",
      " 65%|██████▍   | 647/1000 [1:09:31<19:48,  3.37s/it]\u001b[A"
     ]
    },
    {
     "name": "stdout",
     "output_type": "stream",
     "text": [
      "simulating sn as blackbody\n"
     ]
    },
    {
     "name": "stderr",
     "output_type": "stream",
     "text": [
      "\n",
      " 65%|██████▍   | 648/1000 [1:09:34<19:42,  3.36s/it]\u001b[A"
     ]
    },
    {
     "name": "stdout",
     "output_type": "stream",
     "text": [
      "simulating sn as blackbody\n"
     ]
    },
    {
     "name": "stderr",
     "output_type": "stream",
     "text": [
      "\n",
      " 65%|██████▍   | 649/1000 [1:09:38<19:41,  3.37s/it]\u001b[A"
     ]
    },
    {
     "name": "stdout",
     "output_type": "stream",
     "text": [
      "simulating sn as blackbody\n"
     ]
    },
    {
     "name": "stderr",
     "output_type": "stream",
     "text": [
      "\n",
      " 65%|██████▌   | 650/1000 [1:09:41<19:35,  3.36s/it]\u001b[A"
     ]
    },
    {
     "name": "stdout",
     "output_type": "stream",
     "text": [
      "simulating sn as blackbody\n"
     ]
    },
    {
     "name": "stderr",
     "output_type": "stream",
     "text": [
      "\n",
      " 65%|██████▌   | 651/1000 [1:09:45<19:34,  3.37s/it]\u001b[A"
     ]
    },
    {
     "name": "stdout",
     "output_type": "stream",
     "text": [
      "F300M\n",
      "Downloading http://sncosmo.github.io/data/bandpasses/nircam/jwst_nircam_f300m.dat [Done]\n"
     ]
    },
    {
     "name": "stderr",
     "output_type": "stream",
     "text": [
      "\n",
      " 65%|██████▌   | 652/1000 [1:09:49<21:44,  3.75s/it]\u001b[A"
     ]
    },
    {
     "name": "stdout",
     "output_type": "stream",
     "text": [
      "simulating sn as blackbody\n"
     ]
    },
    {
     "name": "stderr",
     "output_type": "stream",
     "text": [
      "\n",
      " 65%|██████▌   | 653/1000 [1:09:54<23:08,  4.00s/it]\u001b[A\n",
      " 65%|██████▌   | 654/1000 [1:09:58<24:06,  4.18s/it]\u001b[A\n",
      " 66%|██████▌   | 655/1000 [1:10:03<24:45,  4.30s/it]\u001b[A\n",
      " 66%|██████▌   | 656/1000 [1:10:08<25:10,  4.39s/it]\u001b[A\n",
      " 66%|██████▌   | 657/1000 [1:10:12<25:27,  4.45s/it]\u001b[A\n",
      " 66%|██████▌   | 658/1000 [1:10:17<25:36,  4.49s/it]\u001b[A\n",
      " 66%|██████▌   | 659/1000 [1:10:21<25:42,  4.52s/it]\u001b[A\n",
      " 66%|██████▌   | 660/1000 [1:10:26<25:44,  4.54s/it]\u001b[A\n",
      " 66%|██████▌   | 661/1000 [1:10:34<30:46,  5.45s/it]\u001b[A\n",
      " 66%|██████▌   | 662/1000 [1:10:41<34:14,  6.08s/it]\u001b[A\n",
      " 66%|██████▋   | 663/1000 [1:10:49<36:37,  6.52s/it]\u001b[A\n",
      " 66%|██████▋   | 664/1000 [1:10:56<38:13,  6.83s/it]\u001b[A\n",
      " 66%|██████▋   | 665/1000 [1:11:04<39:20,  7.05s/it]\u001b[A\n",
      " 67%|██████▋   | 666/1000 [1:11:11<40:07,  7.21s/it]\u001b[A\n",
      " 67%|██████▋   | 667/1000 [1:11:19<40:34,  7.31s/it]\u001b[A\n",
      " 67%|██████▋   | 668/1000 [1:11:26<40:50,  7.38s/it]\u001b[A\n",
      " 67%|██████▋   | 669/1000 [1:11:34<41:00,  7.43s/it]\u001b[A\n",
      " 67%|██████▋   | 670/1000 [1:11:42<41:04,  7.47s/it]\u001b[A\n",
      " 67%|██████▋   | 671/1000 [1:11:49<41:04,  7.49s/it]\u001b[A\n",
      " 67%|██████▋   | 672/1000 [1:11:57<41:02,  7.51s/it]\u001b[A\n",
      " 67%|██████▋   | 673/1000 [1:12:04<40:59,  7.52s/it]\u001b[A\n",
      " 67%|██████▋   | 674/1000 [1:12:12<40:54,  7.53s/it]\u001b[A\n",
      " 68%|██████▊   | 675/1000 [1:12:19<40:49,  7.54s/it]\u001b[A\n",
      " 68%|██████▊   | 676/1000 [1:12:27<40:42,  7.54s/it]\u001b[A\n",
      " 68%|██████▊   | 677/1000 [1:12:34<40:36,  7.54s/it]\u001b[A\n",
      " 68%|██████▊   | 678/1000 [1:12:42<40:29,  7.54s/it]\u001b[A\n",
      " 68%|██████▊   | 679/1000 [1:12:49<40:22,  7.55s/it]\u001b[A\n",
      " 68%|██████▊   | 680/1000 [1:12:57<40:14,  7.55s/it]\u001b[A\n",
      " 68%|██████▊   | 681/1000 [1:13:05<40:07,  7.55s/it]\u001b[A\n",
      " 68%|██████▊   | 682/1000 [1:13:12<40:03,  7.56s/it]\u001b[A\n",
      " 68%|██████▊   | 683/1000 [1:13:20<39:55,  7.56s/it]\u001b[A\n",
      " 68%|██████▊   | 684/1000 [1:13:27<39:46,  7.55s/it]\u001b[A\n",
      " 68%|██████▊   | 685/1000 [1:13:35<39:38,  7.55s/it]\u001b[A\n",
      " 69%|██████▊   | 686/1000 [1:13:42<39:31,  7.55s/it]\u001b[A\n",
      " 69%|██████▊   | 687/1000 [1:13:50<39:23,  7.55s/it]\u001b[A\n",
      " 69%|██████▉   | 688/1000 [1:13:57<39:15,  7.55s/it]\u001b[A\n",
      " 69%|██████▉   | 689/1000 [1:14:05<39:08,  7.55s/it]\u001b[A\n",
      " 69%|██████▉   | 690/1000 [1:14:13<39:00,  7.55s/it]\u001b[A\n",
      " 69%|██████▉   | 691/1000 [1:14:20<38:53,  7.55s/it]\u001b[A\n",
      " 69%|██████▉   | 692/1000 [1:14:28<38:44,  7.55s/it]\u001b[A\n",
      " 69%|██████▉   | 693/1000 [1:14:35<38:37,  7.55s/it]\u001b[A\n",
      " 69%|██████▉   | 694/1000 [1:14:43<38:29,  7.55s/it]\u001b[A\n",
      " 70%|██████▉   | 695/1000 [1:14:50<38:22,  7.55s/it]\u001b[A\n",
      " 70%|██████▉   | 696/1000 [1:14:58<38:14,  7.55s/it]\u001b[A\n",
      " 70%|██████▉   | 697/1000 [1:15:05<38:07,  7.55s/it]\u001b[A\n",
      " 70%|██████▉   | 698/1000 [1:15:13<38:03,  7.56s/it]\u001b[A\n",
      " 70%|██████▉   | 699/1000 [1:15:21<37:54,  7.56s/it]\u001b[A"
     ]
    },
    {
     "name": "stdout",
     "output_type": "stream",
     "text": [
      "simulating sn as blackbody\n"
     ]
    },
    {
     "name": "stderr",
     "output_type": "stream",
     "text": [
      "\n",
      " 70%|███████   | 700/1000 [1:15:28<37:46,  7.55s/it]\u001b[A"
     ]
    },
    {
     "name": "stdout",
     "output_type": "stream",
     "text": [
      "simulating sn as blackbody\n"
     ]
    },
    {
     "name": "stderr",
     "output_type": "stream",
     "text": [
      "\n",
      " 70%|███████   | 701/1000 [1:15:36<37:38,  7.55s/it]\u001b[A"
     ]
    },
    {
     "name": "stdout",
     "output_type": "stream",
     "text": [
      "F335M\n",
      "Downloading http://sncosmo.github.io/data/bandpasses/nircam/jwst_nircam_f335m.dat [Done]\n"
     ]
    },
    {
     "name": "stderr",
     "output_type": "stream",
     "text": [
      "\n",
      " 70%|███████   | 702/1000 [1:15:41<34:57,  7.04s/it]\u001b[A"
     ]
    },
    {
     "name": "stdout",
     "output_type": "stream",
     "text": [
      "simulating sn as blackbody\n"
     ]
    },
    {
     "name": "stderr",
     "output_type": "stream",
     "text": [
      "\n",
      " 70%|███████   | 703/1000 [1:15:47<33:00,  6.67s/it]\u001b[A"
     ]
    },
    {
     "name": "stdout",
     "output_type": "stream",
     "text": [
      "simulating sn as blackbody\n"
     ]
    },
    {
     "name": "stderr",
     "output_type": "stream",
     "text": [
      "\n",
      " 70%|███████   | 704/1000 [1:15:53<31:36,  6.41s/it]\u001b[A\n",
      " 70%|███████   | 705/1000 [1:15:59<30:35,  6.22s/it]\u001b[A\n",
      " 71%|███████   | 706/1000 [1:16:05<29:52,  6.10s/it]\u001b[A\n",
      " 71%|███████   | 707/1000 [1:16:10<29:19,  6.01s/it]\u001b[A\n",
      " 71%|███████   | 708/1000 [1:16:16<28:55,  5.94s/it]\u001b[A\n",
      " 71%|███████   | 709/1000 [1:16:22<28:37,  5.90s/it]\u001b[A\n",
      " 71%|███████   | 710/1000 [1:16:28<28:21,  5.87s/it]\u001b[A\n",
      " 71%|███████   | 711/1000 [1:16:34<28:09,  5.85s/it]\u001b[A\n",
      " 71%|███████   | 712/1000 [1:16:39<27:59,  5.83s/it]\u001b[A\n",
      " 71%|███████▏  | 713/1000 [1:16:49<33:12,  6.94s/it]\u001b[A\n",
      " 71%|███████▏  | 714/1000 [1:16:58<36:47,  7.72s/it]\u001b[A\n",
      " 72%|███████▏  | 715/1000 [1:17:08<39:18,  8.28s/it]\u001b[A\n",
      " 72%|███████▏  | 716/1000 [1:17:18<40:57,  8.65s/it]\u001b[A\n",
      " 72%|███████▏  | 717/1000 [1:17:27<42:02,  8.91s/it]\u001b[A\n",
      " 72%|███████▏  | 718/1000 [1:17:37<42:45,  9.10s/it]\u001b[A\n",
      " 72%|███████▏  | 719/1000 [1:17:46<43:12,  9.23s/it]\u001b[A\n",
      " 72%|███████▏  | 720/1000 [1:17:56<43:28,  9.31s/it]\u001b[A\n",
      " 72%|███████▏  | 721/1000 [1:18:05<43:36,  9.38s/it]\u001b[A\n",
      " 72%|███████▏  | 722/1000 [1:18:15<43:39,  9.42s/it]\u001b[A\n",
      " 72%|███████▏  | 723/1000 [1:18:24<43:37,  9.45s/it]\u001b[A\n",
      " 72%|███████▏  | 724/1000 [1:18:34<43:34,  9.47s/it]\u001b[A\n",
      " 72%|███████▎  | 725/1000 [1:18:43<43:29,  9.49s/it]\u001b[A\n",
      " 73%|███████▎  | 726/1000 [1:18:53<43:22,  9.50s/it]\u001b[A\n",
      " 73%|███████▎  | 727/1000 [1:19:02<43:14,  9.50s/it]\u001b[A\n",
      " 73%|███████▎  | 728/1000 [1:19:12<43:10,  9.52s/it]\u001b[A\n",
      " 73%|███████▎  | 729/1000 [1:19:21<43:00,  9.52s/it]\u001b[A\n",
      " 73%|███████▎  | 730/1000 [1:19:31<42:51,  9.52s/it]\u001b[A\n",
      " 73%|███████▎  | 731/1000 [1:19:40<42:42,  9.53s/it]\u001b[A\n",
      " 73%|███████▎  | 732/1000 [1:19:50<42:32,  9.52s/it]\u001b[A\n",
      " 73%|███████▎  | 733/1000 [1:20:00<42:22,  9.52s/it]\u001b[A\n",
      " 73%|███████▎  | 734/1000 [1:20:09<42:13,  9.52s/it]\u001b[A\n",
      " 74%|███████▎  | 735/1000 [1:20:19<42:04,  9.52s/it]\u001b[A\n",
      " 74%|███████▎  | 736/1000 [1:20:28<41:54,  9.52s/it]\u001b[A\n",
      " 74%|███████▎  | 737/1000 [1:20:38<41:45,  9.52s/it]\u001b[A\n",
      " 74%|███████▍  | 738/1000 [1:20:47<41:35,  9.53s/it]\u001b[A\n",
      " 74%|███████▍  | 739/1000 [1:20:57<41:26,  9.53s/it]\u001b[A\n",
      " 74%|███████▍  | 740/1000 [1:21:06<41:19,  9.54s/it]\u001b[A\n",
      " 74%|███████▍  | 741/1000 [1:21:16<41:09,  9.53s/it]\u001b[A\n",
      " 74%|███████▍  | 742/1000 [1:21:25<40:59,  9.53s/it]\u001b[A\n",
      " 74%|███████▍  | 743/1000 [1:21:35<40:49,  9.53s/it]\u001b[A\n",
      " 74%|███████▍  | 744/1000 [1:21:44<40:39,  9.53s/it]\u001b[A\n",
      " 74%|███████▍  | 745/1000 [1:21:54<40:29,  9.53s/it]\u001b[A\n",
      " 75%|███████▍  | 746/1000 [1:22:03<40:19,  9.53s/it]\u001b[A\n",
      " 75%|███████▍  | 747/1000 [1:22:13<40:10,  9.53s/it]\u001b[A\n",
      " 75%|███████▍  | 748/1000 [1:22:22<40:00,  9.53s/it]\u001b[A\n",
      " 75%|███████▍  | 749/1000 [1:22:32<39:50,  9.52s/it]\u001b[A\n",
      " 75%|███████▌  | 750/1000 [1:22:42<39:43,  9.53s/it]\u001b[A\n",
      " 75%|███████▌  | 751/1000 [1:22:51<39:32,  9.53s/it]\u001b[A"
     ]
    },
    {
     "name": "stdout",
     "output_type": "stream",
     "text": [
      "F360M\n",
      "Downloading http://sncosmo.github.io/data/bandpasses/nircam/jwst_nircam_f360m.dat [Done]\n"
     ]
    },
    {
     "name": "stderr",
     "output_type": "stream",
     "text": [
      "\n",
      " 75%|███████▌  | 752/1000 [1:22:57<34:45,  8.41s/it]\u001b[A"
     ]
    },
    {
     "name": "stdout",
     "output_type": "stream",
     "text": [
      "simulating sn as blackbody\n"
     ]
    },
    {
     "name": "stderr",
     "output_type": "stream",
     "text": [
      "\n",
      " 75%|███████▌  | 753/1000 [1:23:03<31:18,  7.61s/it]\u001b[A"
     ]
    },
    {
     "name": "stdout",
     "output_type": "stream",
     "text": [
      "simulating sn as blackbody\n"
     ]
    },
    {
     "name": "stderr",
     "output_type": "stream",
     "text": [
      "\n",
      " 75%|███████▌  | 754/1000 [1:23:08<28:56,  7.06s/it]\u001b[A\n",
      " 76%|███████▌  | 755/1000 [1:23:14<27:11,  6.66s/it]\u001b[A\n",
      " 76%|███████▌  | 756/1000 [1:23:20<25:57,  6.38s/it]\u001b[A\n",
      " 76%|███████▌  | 757/1000 [1:23:26<25:03,  6.19s/it]\u001b[A\n",
      " 76%|███████▌  | 758/1000 [1:23:31<24:24,  6.05s/it]\u001b[A\n",
      " 76%|███████▌  | 759/1000 [1:23:37<23:55,  5.96s/it]\u001b[A\n",
      " 76%|███████▌  | 760/1000 [1:23:43<23:33,  5.89s/it]\u001b[A\n",
      " 76%|███████▌  | 761/1000 [1:23:48<23:16,  5.84s/it]\u001b[A\n",
      " 76%|███████▌  | 762/1000 [1:23:54<23:02,  5.81s/it]\u001b[A\n",
      " 76%|███████▋  | 763/1000 [1:24:00<22:51,  5.79s/it]\u001b[A\n",
      " 76%|███████▋  | 764/1000 [1:24:09<26:55,  6.84s/it]\u001b[A\n",
      " 76%|███████▋  | 765/1000 [1:24:18<28:51,  7.37s/it]\u001b[A\n",
      " 77%|███████▋  | 766/1000 [1:24:26<30:08,  7.73s/it]\u001b[A\n",
      " 77%|███████▋  | 767/1000 [1:24:35<30:58,  7.98s/it]\u001b[A\n",
      " 77%|███████▋  | 768/1000 [1:24:44<31:30,  8.15s/it]\u001b[A\n",
      " 77%|███████▋  | 769/1000 [1:24:52<31:50,  8.27s/it]\u001b[A\n",
      " 77%|███████▋  | 770/1000 [1:25:01<32:02,  8.36s/it]\u001b[A\n",
      " 77%|███████▋  | 771/1000 [1:25:09<32:09,  8.43s/it]\u001b[A\n",
      " 77%|███████▋  | 772/1000 [1:25:18<32:10,  8.47s/it]\u001b[A\n",
      " 77%|███████▋  | 773/1000 [1:25:26<32:08,  8.50s/it]\u001b[A\n",
      " 77%|███████▋  | 774/1000 [1:25:35<32:04,  8.51s/it]\u001b[A\n",
      " 78%|███████▊  | 775/1000 [1:25:43<31:57,  8.52s/it]\u001b[A\n",
      " 78%|███████▊  | 776/1000 [1:25:52<31:52,  8.54s/it]\u001b[A\n",
      " 78%|███████▊  | 777/1000 [1:26:01<31:45,  8.55s/it]\u001b[A\n",
      " 78%|███████▊  | 778/1000 [1:26:09<31:37,  8.55s/it]\u001b[A\n",
      " 78%|███████▊  | 779/1000 [1:26:18<31:29,  8.55s/it]\u001b[A\n",
      " 78%|███████▊  | 780/1000 [1:26:26<31:21,  8.55s/it]\u001b[A\n",
      " 78%|███████▊  | 781/1000 [1:26:35<31:13,  8.55s/it]\u001b[A\n",
      " 78%|███████▊  | 782/1000 [1:26:43<31:04,  8.55s/it]\u001b[A\n",
      " 78%|███████▊  | 783/1000 [1:26:52<30:57,  8.56s/it]\u001b[A\n",
      " 78%|███████▊  | 784/1000 [1:27:01<30:48,  8.56s/it]\u001b[A\n",
      " 78%|███████▊  | 785/1000 [1:27:09<30:42,  8.57s/it]\u001b[A\n",
      " 79%|███████▊  | 786/1000 [1:27:18<30:32,  8.57s/it]\u001b[A\n",
      " 79%|███████▊  | 787/1000 [1:27:26<30:24,  8.57s/it]\u001b[A\n",
      " 79%|███████▉  | 788/1000 [1:27:35<30:15,  8.56s/it]\u001b[A\n",
      " 79%|███████▉  | 789/1000 [1:27:43<30:05,  8.56s/it]\u001b[A\n",
      " 79%|███████▉  | 790/1000 [1:27:52<29:57,  8.56s/it]\u001b[A\n",
      " 79%|███████▉  | 791/1000 [1:28:00<29:49,  8.56s/it]\u001b[A\n",
      " 79%|███████▉  | 792/1000 [1:28:09<29:39,  8.56s/it]\u001b[A\n",
      " 79%|███████▉  | 793/1000 [1:28:18<29:31,  8.56s/it]\u001b[A\n",
      " 79%|███████▉  | 794/1000 [1:28:26<29:23,  8.56s/it]\u001b[A\n",
      " 80%|███████▉  | 795/1000 [1:28:35<29:14,  8.56s/it]\u001b[A\n",
      " 80%|███████▉  | 796/1000 [1:28:43<29:05,  8.56s/it]\u001b[A\n",
      " 80%|███████▉  | 797/1000 [1:28:52<28:58,  8.56s/it]\u001b[A\n",
      " 80%|███████▉  | 798/1000 [1:29:00<28:49,  8.56s/it]\u001b[A\n",
      " 80%|███████▉  | 799/1000 [1:29:09<28:43,  8.57s/it]\u001b[A\n",
      " 80%|████████  | 800/1000 [1:29:18<28:33,  8.57s/it]\u001b[A\n",
      " 80%|████████  | 801/1000 [1:29:26<28:24,  8.57s/it]\u001b[A"
     ]
    },
    {
     "name": "stdout",
     "output_type": "stream",
     "text": [
      "F410M\n",
      "Downloading http://sncosmo.github.io/data/bandpasses/nircam/jwst_nircam_f410m.dat [Done]\n"
     ]
    },
    {
     "name": "stderr",
     "output_type": "stream",
     "text": [
      "\n",
      " 80%|████████  | 802/1000 [1:29:31<24:45,  7.50s/it]\u001b[A"
     ]
    },
    {
     "name": "stdout",
     "output_type": "stream",
     "text": [
      "simulating sn as blackbody\n"
     ]
    },
    {
     "name": "stderr",
     "output_type": "stream",
     "text": [
      "\n",
      " 80%|████████  | 803/1000 [1:29:36<22:08,  6.74s/it]\u001b[A"
     ]
    },
    {
     "name": "stdout",
     "output_type": "stream",
     "text": [
      "simulating sn as blackbody\n"
     ]
    },
    {
     "name": "stderr",
     "output_type": "stream",
     "text": [
      "\n",
      " 80%|████████  | 804/1000 [1:29:41<20:17,  6.21s/it]\u001b[A"
     ]
    },
    {
     "name": "stdout",
     "output_type": "stream",
     "text": [
      "simulating sn as blackbody\n"
     ]
    },
    {
     "name": "stderr",
     "output_type": "stream",
     "text": [
      "\n",
      " 80%|████████  | 805/1000 [1:29:46<18:59,  5.84s/it]\u001b[A\n",
      " 81%|████████  | 806/1000 [1:29:51<18:03,  5.58s/it]\u001b[A\n",
      " 81%|████████  | 807/1000 [1:29:56<17:22,  5.40s/it]\u001b[A\n",
      " 81%|████████  | 808/1000 [1:30:01<16:53,  5.28s/it]\u001b[A\n",
      " 81%|████████  | 809/1000 [1:30:06<16:30,  5.19s/it]\u001b[A\n",
      " 81%|████████  | 810/1000 [1:30:11<16:13,  5.12s/it]\u001b[A\n",
      " 81%|████████  | 811/1000 [1:30:16<15:59,  5.08s/it]\u001b[A\n",
      " 81%|████████  | 812/1000 [1:30:21<15:49,  5.05s/it]\u001b[A\n",
      " 81%|████████▏ | 813/1000 [1:30:26<15:40,  5.03s/it]\u001b[A\n",
      " 81%|████████▏ | 814/1000 [1:30:31<15:32,  5.01s/it]\u001b[A\n",
      " 82%|████████▏ | 815/1000 [1:30:39<18:22,  5.96s/it]\u001b[A\n",
      " 82%|████████▏ | 816/1000 [1:30:47<20:19,  6.63s/it]\u001b[A\n",
      " 82%|████████▏ | 817/1000 [1:30:55<21:37,  7.09s/it]\u001b[A\n",
      " 82%|████████▏ | 818/1000 [1:31:04<22:29,  7.42s/it]\u001b[A\n",
      " 82%|████████▏ | 819/1000 [1:31:12<23:05,  7.66s/it]\u001b[A\n",
      " 82%|████████▏ | 820/1000 [1:31:20<23:26,  7.81s/it]\u001b[A\n",
      " 82%|████████▏ | 821/1000 [1:31:28<23:38,  7.92s/it]\u001b[A\n",
      " 82%|████████▏ | 822/1000 [1:31:36<23:43,  8.00s/it]\u001b[A\n",
      " 82%|████████▏ | 823/1000 [1:31:44<23:44,  8.05s/it]\u001b[A\n",
      " 82%|████████▏ | 824/1000 [1:31:53<23:43,  8.09s/it]\u001b[A\n",
      " 82%|████████▎ | 825/1000 [1:32:01<23:40,  8.12s/it]\u001b[A\n",
      " 83%|████████▎ | 826/1000 [1:32:09<23:35,  8.13s/it]\u001b[A\n",
      " 83%|████████▎ | 827/1000 [1:32:17<23:29,  8.14s/it]\u001b[A\n",
      " 83%|████████▎ | 828/1000 [1:32:25<23:22,  8.16s/it]\u001b[A\n",
      " 83%|████████▎ | 829/1000 [1:32:34<23:15,  8.16s/it]\u001b[A\n",
      " 83%|████████▎ | 830/1000 [1:32:42<23:07,  8.16s/it]\u001b[A\n",
      " 83%|████████▎ | 831/1000 [1:32:50<23:00,  8.17s/it]\u001b[A\n",
      " 83%|████████▎ | 832/1000 [1:32:58<22:52,  8.17s/it]\u001b[A\n",
      " 83%|████████▎ | 833/1000 [1:33:06<22:44,  8.17s/it]\u001b[A\n",
      " 83%|████████▎ | 834/1000 [1:33:14<22:38,  8.18s/it]\u001b[A\n",
      " 84%|████████▎ | 835/1000 [1:33:23<22:29,  8.18s/it]\u001b[A\n",
      " 84%|████████▎ | 836/1000 [1:33:31<22:21,  8.18s/it]\u001b[A\n",
      " 84%|████████▎ | 837/1000 [1:33:39<22:12,  8.18s/it]\u001b[A\n",
      " 84%|████████▍ | 838/1000 [1:33:47<22:04,  8.17s/it]\u001b[A\n",
      " 84%|████████▍ | 839/1000 [1:33:55<21:55,  8.17s/it]\u001b[A\n",
      " 84%|████████▍ | 840/1000 [1:34:03<21:47,  8.17s/it]\u001b[A\n",
      " 84%|████████▍ | 841/1000 [1:34:12<21:39,  8.17s/it]\u001b[A\n",
      " 84%|████████▍ | 842/1000 [1:34:20<21:31,  8.17s/it]\u001b[A\n",
      " 84%|████████▍ | 843/1000 [1:34:28<21:23,  8.17s/it]\u001b[A\n",
      " 84%|████████▍ | 844/1000 [1:34:36<21:15,  8.18s/it]\u001b[A\n",
      " 84%|████████▍ | 845/1000 [1:34:44<21:07,  8.18s/it]\u001b[A\n",
      " 85%|████████▍ | 846/1000 [1:34:53<20:58,  8.17s/it]\u001b[A\n",
      " 85%|████████▍ | 847/1000 [1:35:01<20:50,  8.17s/it]\u001b[A\n",
      " 85%|████████▍ | 848/1000 [1:35:09<20:44,  8.19s/it]\u001b[A\n",
      " 85%|████████▍ | 849/1000 [1:35:17<20:35,  8.18s/it]\u001b[A\n",
      " 85%|████████▌ | 850/1000 [1:35:25<20:26,  8.18s/it]\u001b[A\n",
      " 85%|████████▌ | 851/1000 [1:35:33<20:18,  8.18s/it]\u001b[A"
     ]
    },
    {
     "name": "stdout",
     "output_type": "stream",
     "text": [
      "F430M\n",
      "Downloading http://sncosmo.github.io/data/bandpasses/nircam/jwst_nircam_f430m.dat [Done]\n"
     ]
    },
    {
     "name": "stderr",
     "output_type": "stream",
     "text": [
      "\n",
      " 85%|████████▌ | 852/1000 [1:35:36<16:07,  6.54s/it]\u001b[A"
     ]
    },
    {
     "name": "stdout",
     "output_type": "stream",
     "text": [
      "simulating sn as blackbody\n"
     ]
    },
    {
     "name": "stderr",
     "output_type": "stream",
     "text": [
      "\n",
      " 85%|████████▌ | 853/1000 [1:35:39<13:09,  5.37s/it]\u001b[A"
     ]
    },
    {
     "name": "stdout",
     "output_type": "stream",
     "text": [
      "simulating sn as blackbody\n"
     ]
    },
    {
     "name": "stderr",
     "output_type": "stream",
     "text": [
      "\n",
      " 85%|████████▌ | 854/1000 [1:35:41<11:05,  4.56s/it]\u001b[A"
     ]
    },
    {
     "name": "stdout",
     "output_type": "stream",
     "text": [
      "simulating sn as blackbody\n"
     ]
    },
    {
     "name": "stderr",
     "output_type": "stream",
     "text": [
      "\n",
      " 86%|████████▌ | 855/1000 [1:35:44<09:38,  3.99s/it]\u001b[A\n",
      " 86%|████████▌ | 856/1000 [1:35:47<08:36,  3.59s/it]\u001b[A\n",
      " 86%|████████▌ | 857/1000 [1:35:49<07:53,  3.31s/it]\u001b[A\n",
      " 86%|████████▌ | 858/1000 [1:35:52<07:22,  3.11s/it]\u001b[A\n",
      " 86%|████████▌ | 859/1000 [1:35:55<06:59,  2.98s/it]\u001b[A\n",
      " 86%|████████▌ | 860/1000 [1:35:57<06:43,  2.88s/it]\u001b[A\n",
      " 86%|████████▌ | 861/1000 [1:36:00<06:31,  2.82s/it]\u001b[A\n",
      " 86%|████████▌ | 862/1000 [1:36:03<06:22,  2.77s/it]\u001b[A\n",
      " 86%|████████▋ | 863/1000 [1:36:05<06:14,  2.74s/it]\u001b[A\n",
      " 86%|████████▋ | 864/1000 [1:36:08<06:08,  2.71s/it]\u001b[A\n",
      " 86%|████████▋ | 865/1000 [1:36:11<06:04,  2.70s/it]\u001b[A\n",
      " 87%|████████▋ | 866/1000 [1:36:15<07:05,  3.18s/it]\u001b[A\n",
      " 87%|████████▋ | 867/1000 [1:36:19<07:47,  3.52s/it]\u001b[A\n",
      " 87%|████████▋ | 868/1000 [1:36:24<08:15,  3.75s/it]\u001b[A\n",
      " 87%|████████▋ | 869/1000 [1:36:28<08:33,  3.92s/it]\u001b[A\n",
      " 87%|████████▋ | 870/1000 [1:36:32<08:44,  4.04s/it]\u001b[A\n",
      " 87%|████████▋ | 871/1000 [1:36:37<08:51,  4.12s/it]\u001b[A\n",
      " 87%|████████▋ | 872/1000 [1:36:41<08:54,  4.18s/it]\u001b[A\n",
      " 87%|████████▋ | 873/1000 [1:36:45<08:55,  4.21s/it]\u001b[A\n",
      " 87%|████████▋ | 874/1000 [1:36:49<08:54,  4.24s/it]\u001b[A\n",
      " 88%|████████▊ | 875/1000 [1:36:54<08:52,  4.26s/it]\u001b[A\n",
      " 88%|████████▊ | 876/1000 [1:36:58<08:50,  4.28s/it]\u001b[A\n",
      " 88%|████████▊ | 877/1000 [1:37:02<08:47,  4.29s/it]\u001b[A\n",
      " 88%|████████▊ | 878/1000 [1:37:07<08:43,  4.29s/it]\u001b[A\n",
      " 88%|████████▊ | 879/1000 [1:37:11<08:41,  4.31s/it]\u001b[A\n",
      " 88%|████████▊ | 880/1000 [1:37:15<08:36,  4.31s/it]\u001b[A\n",
      " 88%|████████▊ | 881/1000 [1:37:20<08:32,  4.31s/it]\u001b[A\n",
      " 88%|████████▊ | 882/1000 [1:37:24<08:28,  4.31s/it]\u001b[A\n",
      " 88%|████████▊ | 883/1000 [1:37:28<08:24,  4.31s/it]\u001b[A\n",
      " 88%|████████▊ | 884/1000 [1:37:33<08:20,  4.31s/it]\u001b[A\n",
      " 88%|████████▊ | 885/1000 [1:37:37<08:15,  4.31s/it]\u001b[A\n",
      " 89%|████████▊ | 886/1000 [1:37:41<08:11,  4.31s/it]\u001b[A\n",
      " 89%|████████▊ | 887/1000 [1:37:46<08:06,  4.31s/it]\u001b[A\n",
      " 89%|████████▉ | 888/1000 [1:37:50<08:02,  4.31s/it]\u001b[A\n",
      " 89%|████████▉ | 889/1000 [1:37:54<07:57,  4.31s/it]\u001b[A\n",
      " 89%|████████▉ | 890/1000 [1:37:58<07:53,  4.30s/it]\u001b[A\n",
      " 89%|████████▉ | 891/1000 [1:38:03<07:49,  4.31s/it]\u001b[A\n",
      " 89%|████████▉ | 892/1000 [1:38:07<07:45,  4.31s/it]\u001b[A\n",
      " 89%|████████▉ | 893/1000 [1:38:11<07:40,  4.31s/it]\u001b[A\n",
      " 89%|████████▉ | 894/1000 [1:38:16<07:36,  4.31s/it]\u001b[A\n",
      " 90%|████████▉ | 895/1000 [1:38:20<07:31,  4.30s/it]\u001b[A\n",
      " 90%|████████▉ | 896/1000 [1:38:24<07:27,  4.31s/it]\u001b[A\n",
      " 90%|████████▉ | 897/1000 [1:38:29<07:23,  4.31s/it]\u001b[A\n",
      " 90%|████████▉ | 898/1000 [1:38:33<07:19,  4.31s/it]\u001b[A\n",
      " 90%|████████▉ | 899/1000 [1:38:37<07:15,  4.31s/it]\u001b[A\n",
      " 90%|█████████ | 900/1000 [1:38:42<07:11,  4.31s/it]\u001b[A\n",
      " 90%|█████████ | 901/1000 [1:38:46<07:06,  4.31s/it]\u001b[A"
     ]
    },
    {
     "name": "stdout",
     "output_type": "stream",
     "text": [
      "F460M\n",
      "Downloading http://sncosmo.github.io/data/bandpasses/nircam/jwst_nircam_f460m.dat [Done]\n"
     ]
    },
    {
     "name": "stderr",
     "output_type": "stream",
     "text": [
      "\n",
      " 90%|█████████ | 902/1000 [1:38:55<09:29,  5.81s/it]\u001b[A"
     ]
    },
    {
     "name": "stdout",
     "output_type": "stream",
     "text": [
      "simulating sn as blackbody\n"
     ]
    },
    {
     "name": "stderr",
     "output_type": "stream",
     "text": [
      "\n",
      " 90%|█████████ | 903/1000 [1:39:04<11:05,  6.86s/it]\u001b[A"
     ]
    },
    {
     "name": "stdout",
     "output_type": "stream",
     "text": [
      "simulating sn as blackbody\n"
     ]
    },
    {
     "name": "stderr",
     "output_type": "stream",
     "text": [
      "\n",
      " 90%|█████████ | 904/1000 [1:39:14<12:09,  7.60s/it]\u001b[A"
     ]
    },
    {
     "name": "stdout",
     "output_type": "stream",
     "text": [
      "simulating sn as blackbody\n"
     ]
    },
    {
     "name": "stderr",
     "output_type": "stream",
     "text": [
      "\n",
      " 90%|█████████ | 905/1000 [1:39:23<12:49,  8.10s/it]\u001b[A"
     ]
    },
    {
     "name": "stdout",
     "output_type": "stream",
     "text": [
      "simulating sn as blackbody\n"
     ]
    },
    {
     "name": "stderr",
     "output_type": "stream",
     "text": [
      "\n",
      " 91%|█████████ | 906/1000 [1:39:32<13:14,  8.45s/it]\u001b[A\n",
      " 91%|█████████ | 907/1000 [1:39:42<13:29,  8.70s/it]\u001b[A\n",
      " 91%|█████████ | 908/1000 [1:39:51<13:36,  8.87s/it]\u001b[A\n",
      " 91%|█████████ | 909/1000 [1:40:00<13:38,  9.00s/it]\u001b[A\n",
      " 91%|█████████ | 910/1000 [1:40:09<13:37,  9.08s/it]\u001b[A\n",
      " 91%|█████████ | 911/1000 [1:40:19<13:33,  9.14s/it]\u001b[A\n",
      " 91%|█████████ | 912/1000 [1:40:28<13:27,  9.18s/it]\u001b[A\n",
      " 91%|█████████▏| 913/1000 [1:40:37<13:21,  9.22s/it]\u001b[A\n",
      " 91%|█████████▏| 914/1000 [1:40:47<13:13,  9.23s/it]\u001b[A\n",
      " 92%|█████████▏| 915/1000 [1:40:56<13:05,  9.24s/it]\u001b[A\n",
      " 92%|█████████▏| 916/1000 [1:41:05<12:57,  9.26s/it]\u001b[A\n",
      " 92%|█████████▏| 917/1000 [1:41:14<12:49,  9.28s/it]\u001b[A\n",
      " 92%|█████████▏| 918/1000 [1:41:24<12:40,  9.27s/it]\u001b[A\n",
      " 92%|█████████▏| 919/1000 [1:41:33<12:31,  9.28s/it]\u001b[A\n",
      " 92%|█████████▏| 920/1000 [1:41:48<14:47, 11.09s/it]\u001b[A\n",
      " 92%|█████████▏| 921/1000 [1:42:04<16:17, 12.37s/it]\u001b[A\n",
      " 92%|█████████▏| 922/1000 [1:42:19<17:13, 13.25s/it]\u001b[A\n",
      " 92%|█████████▏| 923/1000 [1:42:34<17:49, 13.89s/it]\u001b[A\n",
      " 92%|█████████▏| 924/1000 [1:42:50<18:08, 14.32s/it]\u001b[A\n",
      " 92%|█████████▎| 925/1000 [1:43:05<18:17, 14.63s/it]\u001b[A\n",
      " 93%|█████████▎| 926/1000 [1:43:20<18:18, 14.85s/it]\u001b[A\n",
      " 93%|█████████▎| 927/1000 [1:43:36<18:14, 15.00s/it]\u001b[A\n",
      " 93%|█████████▎| 928/1000 [1:43:51<18:06, 15.09s/it]\u001b[A\n",
      " 93%|█████████▎| 929/1000 [1:44:06<17:57, 15.17s/it]\u001b[A\n",
      " 93%|█████████▎| 930/1000 [1:44:22<17:45, 15.22s/it]\u001b[A\n",
      " 93%|█████████▎| 931/1000 [1:44:37<17:32, 15.26s/it]\u001b[A\n",
      " 93%|█████████▎| 932/1000 [1:44:52<17:18, 15.28s/it]\u001b[A\n",
      " 93%|█████████▎| 933/1000 [1:45:08<17:04, 15.29s/it]\u001b[A\n",
      " 93%|█████████▎| 934/1000 [1:45:23<16:50, 15.32s/it]\u001b[A\n",
      " 94%|█████████▎| 935/1000 [1:45:38<16:35, 15.32s/it]\u001b[A\n",
      " 94%|█████████▎| 936/1000 [1:45:54<16:20, 15.32s/it]\u001b[A\n",
      " 94%|█████████▎| 937/1000 [1:46:09<16:05, 15.32s/it]\u001b[A\n",
      " 94%|█████████▍| 938/1000 [1:46:24<15:50, 15.33s/it]\u001b[A\n",
      " 94%|█████████▍| 939/1000 [1:46:40<15:35, 15.33s/it]\u001b[A\n",
      " 94%|█████████▍| 940/1000 [1:46:55<15:19, 15.33s/it]\u001b[A\n",
      " 94%|█████████▍| 941/1000 [1:47:10<15:05, 15.34s/it]\u001b[A\n",
      " 94%|█████████▍| 942/1000 [1:47:26<14:49, 15.34s/it]\u001b[A\n",
      " 94%|█████████▍| 943/1000 [1:47:41<14:34, 15.34s/it]\u001b[A\n",
      " 94%|█████████▍| 944/1000 [1:47:56<14:18, 15.34s/it]\u001b[A\n",
      " 94%|█████████▍| 945/1000 [1:48:12<14:03, 15.34s/it]\u001b[A\n",
      " 95%|█████████▍| 946/1000 [1:48:27<13:48, 15.34s/it]\u001b[A\n",
      " 95%|█████████▍| 947/1000 [1:48:42<13:32, 15.34s/it]\u001b[A\n",
      " 95%|█████████▍| 948/1000 [1:48:58<13:17, 15.34s/it]\u001b[A\n",
      " 95%|█████████▍| 949/1000 [1:49:13<13:02, 15.35s/it]\u001b[A\n",
      " 95%|█████████▌| 950/1000 [1:49:29<12:47, 15.34s/it]\u001b[A\n",
      " 95%|█████████▌| 951/1000 [1:49:44<12:31, 15.34s/it]\u001b[A"
     ]
    },
    {
     "name": "stdout",
     "output_type": "stream",
     "text": [
      "F480M\n",
      "Downloading http://sncosmo.github.io/data/bandpasses/nircam/jwst_nircam_f480m.dat [Done]\n"
     ]
    },
    {
     "name": "stderr",
     "output_type": "stream",
     "text": [
      "\n",
      " 95%|█████████▌| 952/1000 [1:49:47<09:27, 11.82s/it]\u001b[A"
     ]
    },
    {
     "name": "stdout",
     "output_type": "stream",
     "text": [
      "simulating sn as blackbody\n"
     ]
    },
    {
     "name": "stderr",
     "output_type": "stream",
     "text": [
      "\n",
      " 95%|█████████▌| 953/1000 [1:49:51<07:18,  9.34s/it]\u001b[A"
     ]
    },
    {
     "name": "stdout",
     "output_type": "stream",
     "text": [
      "simulating sn as blackbody\n"
     ]
    },
    {
     "name": "stderr",
     "output_type": "stream",
     "text": [
      "\n",
      " 95%|█████████▌| 954/1000 [1:49:55<05:49,  7.60s/it]\u001b[A"
     ]
    },
    {
     "name": "stdout",
     "output_type": "stream",
     "text": [
      "simulating sn as blackbody\n"
     ]
    },
    {
     "name": "stderr",
     "output_type": "stream",
     "text": [
      "\n",
      " 96%|█████████▌| 955/1000 [1:49:58<04:47,  6.38s/it]\u001b[A\n",
      " 96%|█████████▌| 956/1000 [1:50:02<04:03,  5.53s/it]\u001b[A\n",
      " 96%|█████████▌| 957/1000 [1:50:05<03:32,  4.93s/it]\u001b[A\n",
      " 96%|█████████▌| 958/1000 [1:50:09<03:09,  4.52s/it]\u001b[A\n",
      " 96%|█████████▌| 959/1000 [1:50:12<02:53,  4.23s/it]\u001b[A\n",
      " 96%|█████████▌| 960/1000 [1:50:16<02:40,  4.02s/it]\u001b[A\n",
      " 96%|█████████▌| 961/1000 [1:50:19<02:31,  3.88s/it]\u001b[A\n",
      " 96%|█████████▌| 962/1000 [1:50:23<02:23,  3.78s/it]\u001b[A\n",
      " 96%|█████████▋| 963/1000 [1:50:26<02:17,  3.71s/it]\u001b[A\n",
      " 96%|█████████▋| 964/1000 [1:50:30<02:11,  3.66s/it]\u001b[A\n",
      " 96%|█████████▋| 965/1000 [1:50:33<02:06,  3.62s/it]\u001b[A\n",
      " 97%|█████████▋| 966/1000 [1:50:37<02:02,  3.60s/it]\u001b[A\n",
      " 97%|█████████▋| 967/1000 [1:50:41<01:58,  3.58s/it]\u001b[A\n",
      " 97%|█████████▋| 968/1000 [1:50:46<02:15,  4.24s/it]\u001b[A\n",
      " 97%|█████████▋| 969/1000 [1:50:52<02:25,  4.71s/it]\u001b[A\n",
      " 97%|█████████▋| 970/1000 [1:50:58<02:30,  5.03s/it]\u001b[A\n",
      " 97%|█████████▋| 971/1000 [1:51:04<02:32,  5.26s/it]\u001b[A\n",
      " 97%|█████████▋| 972/1000 [1:51:10<02:31,  5.42s/it]\u001b[A"
     ]
    }
   ],
   "source": [
    "filter_loop = tqdm(list(tde_mags.keys()), total = len(list(tde_mags.keys()))*len(zs))\n",
    "\n",
    "for filt in filter_loop:\n",
    "    print(filt)\n",
    "    for i, z in enumerate(zs):\n",
    "    \n",
    "        luminosity_distance = cosmo.luminosity_distance(z)\n",
    "        \n",
    "        # TDE Magnitudes\n",
    "        source = tde_utils.BlackBodySource(30000)\n",
    "        bb_model = sncosmo.Model(source=source)\n",
    "        bb_model.set(z=z)\n",
    "\n",
    "        filter_zstretched_mag = bb_model.bandmag(filt, 'ab', 0)\n",
    "        app_mag = filter_zstretched_mag + 5*np.log10(luminosity_distance/(10 * u.parsec))\n",
    "        tde_mags[filt][i] = app_mag\n",
    "\n",
    "        # Galaxy Magnitudes\n",
    "\n",
    "        gal_model = sncosmo.Model(source=gal)\n",
    "        gal_model.set(z=z)\n",
    "        try:\n",
    "            gal_zstretched_mag = gal_model.bandmag(filt, 'ab', 0)\n",
    "            app_mag = gal_zstretched_mag + 5*np.log10(luminosity_distance/(10 * u.parsec))\n",
    "            gal_mags[filt][i] = app_mag\n",
    "        except:\n",
    "            gal_mags[filt][i] = np.nan\n",
    "        \n",
    "        # SNe Ia Magnitudes\n",
    "\n",
    "        snia_model = sncosmo.Model(source='salt2-extended')\n",
    "        snia_model.set(z=z)\n",
    "        snia_model.set(x1=0, c=0, x0= 1051627384124.3574, t0=0)\n",
    "        try:\n",
    "            snia_zstretched_mag = snia_model.bandmag(filt, 'ab', 0)\n",
    "            snia_app_mag = snia_zstretched_mag + 5*np.log10(luminosity_distance/(10 * u.parsec))\n",
    "            snia_mags[filt][i] = snia_app_mag\n",
    "        except Exception as e:\n",
    "            #snia_mags[filt].append(np.nan)\n",
    "            print('simulating sn as blackbody')\n",
    "            snia_scale = 1.718e-16\n",
    "            snia_source = tde_utils.BlackBodySource(temperature=5500., scale=snia_scale)\n",
    "            snia_model = sncosmo.Model(source=snia_source)\n",
    "            snia_model.set(z=z)\n",
    "            \n",
    "            snia_zstretched_mag = snia_model.bandmag(filt, 'ab', 0)\n",
    "            snia_app_mag = snia_zstretched_mag + 5*np.log10(luminosity_distance/(10 * u.parsec))\n",
    "            snia_mags[filt][i] = snia_app_mag\n",
    "            \n",
    "        # QSO Magnitudes\n",
    "        \n",
    "        qso_model = sncosmo.Model(source=qso_source)\n",
    "        qso_model.set(z=z)\n",
    "        try:\n",
    "            qso_zstretched_mag = qso_model.bandmag(filt, 'ab', 0)\n",
    "            app_mag = qso_zstretched_mag + 5*np.log10(luminosity_distance/(10 * u.parsec))\n",
    "            qso_mags[filt][i] = app_mag\n",
    "        except:\n",
    "            qso_mags[filt][i] = np.nan\n",
    "            \n",
    "        filter_loop.update()"
   ]
  },
  {
   "cell_type": "code",
   "execution_count": null,
   "id": "3ffef7a1-95a8-4daa-ac18-1dd1525ea088",
   "metadata": {},
   "outputs": [],
   "source": []
  }
 ],
 "metadata": {
  "kernelspec": {
   "display_name": "mkarmen",
   "language": "python",
   "name": "mkarmen"
  },
  "language_info": {
   "codemirror_mode": {
    "name": "ipython",
    "version": 3
   },
   "file_extension": ".py",
   "mimetype": "text/x-python",
   "name": "python",
   "nbconvert_exporter": "python",
   "pygments_lexer": "ipython3",
   "version": "3.10.9"
  }
 },
 "nbformat": 4,
 "nbformat_minor": 5
}

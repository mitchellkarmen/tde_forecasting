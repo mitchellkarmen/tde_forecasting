{
 "cells": [
  {
   "cell_type": "markdown",
   "id": "6faf42ac",
   "metadata": {},
   "source": [
    "Based on this example: https://github.com/micappe/ppxf_examples/blob/main/ppxf_example_population_photometry.ipynb"
   ]
  },
  {
   "cell_type": "code",
   "execution_count": 2,
   "id": "eafbe8a4",
   "metadata": {},
   "outputs": [],
   "source": [
    "from astropy.io import fits\n",
    "from astropy.table import Table\n",
    "import matplotlib.pyplot as plt\n",
    "import pandas as pd\n",
    "import numpy as np\n",
    "from os import path\n",
    "\n",
    "from ppxf.ppxf import ppxf\n",
    "import ppxf.ppxf_util as util\n",
    "import ppxf.miles_util as lib\n",
    "\n",
    "ppxf_dir = path.dirname(path.realpath(lib.__file__))"
   ]
  },
  {
   "cell_type": "code",
   "execution_count": 31,
   "id": "a769d474",
   "metadata": {},
   "outputs": [],
   "source": [
    "file = \"/Users/mitchell/offcenter_blackholes/data/spec-at2018bsi-host-sdss.fits\"\n",
    "hdu = fits.open(file)\n",
    "t = hdu[1].data\n",
    "spec_meta = Table(hdu[2].data)\n",
    "z = spec_meta['Z'].value[0]\n",
    "tde_info = Table.read(file, hdu=1)"
   ]
  },
  {
   "cell_type": "code",
   "execution_count": 32,
   "id": "c099f259",
   "metadata": {},
   "outputs": [
    {
     "data": {
      "text/html": [
       "<div><i>Table length=4627</i>\n",
       "<table id=\"table140384958594592\" class=\"table-striped table-bordered table-condensed\">\n",
       "<thead><tr><th>flux</th><th>loglam</th><th>ivar</th><th>and_mask</th><th>or_mask</th><th>wdisp</th><th>sky</th><th>model</th></tr></thead>\n",
       "<thead><tr><th>float32</th><th>float32</th><th>float32</th><th>int32</th><th>int32</th><th>float32</th><th>float32</th><th>float32</th></tr></thead>\n",
       "<tr><td>11.579388</td><td>3.5518</td><td>0.06664483</td><td>0</td><td>205520896</td><td>1.3881465</td><td>11.032989</td><td>11.970299</td></tr>\n",
       "<tr><td>11.672122</td><td>3.5519</td><td>0.0</td><td>0</td><td>205520896</td><td>1.3913608</td><td>10.034883</td><td>11.882823</td></tr>\n",
       "<tr><td>11.764823</td><td>3.552</td><td>0.17657176</td><td>0</td><td>67108864</td><td>1.391772</td><td>10.03673</td><td>11.822939</td></tr>\n",
       "<tr><td>9.968305</td><td>3.5521</td><td>0.19721588</td><td>0</td><td>67108864</td><td>1.3906612</td><td>9.644577</td><td>11.720858</td></tr>\n",
       "<tr><td>7.9081964</td><td>3.5522</td><td>0.21488994</td><td>0</td><td>67108864</td><td>1.3904653</td><td>9.213051</td><td>11.68229</td></tr>\n",
       "<tr><td>7.6717715</td><td>3.5523</td><td>0.23644818</td><td>0</td><td>67108864</td><td>1.3910186</td><td>9.066986</td><td>11.749537</td></tr>\n",
       "<tr><td>8.774834</td><td>3.5524</td><td>0.24325718</td><td>0</td><td>0</td><td>1.3898807</td><td>8.71358</td><td>11.914837</td></tr>\n",
       "<tr><td>9.796442</td><td>3.5525</td><td>0.23826803</td><td>0</td><td>0</td><td>1.3894504</td><td>8.80366</td><td>12.180039</td></tr>\n",
       "<tr><td>10.342739</td><td>3.5526</td><td>0.23219198</td><td>0</td><td>0</td><td>1.3889034</td><td>8.805332</td><td>12.419239</td></tr>\n",
       "<tr><td>10.717923</td><td>3.5527</td><td>0.22674248</td><td>0</td><td>0</td><td>1.388496</td><td>8.679841</td><td>12.765832</td></tr>\n",
       "<tr><td>11.283292</td><td>3.5528</td><td>0.22540602</td><td>0</td><td>0</td><td>1.388157</td><td>8.632464</td><td>13.118491</td></tr>\n",
       "<tr><td>11.279069</td><td>3.5529</td><td>0.23033042</td><td>0</td><td>0</td><td>1.3875796</td><td>8.571722</td><td>13.360209</td></tr>\n",
       "<tr><td>11.949989</td><td>3.553</td><td>0.21465817</td><td>0</td><td>0</td><td>1.386926</td><td>8.659627</td><td>13.473555</td></tr>\n",
       "<tr><td>12.270343</td><td>3.5531</td><td>0.22185634</td><td>0</td><td>0</td><td>1.3866627</td><td>8.741033</td><td>13.517966</td></tr>\n",
       "<tr><td>6.564215</td><td>3.5532</td><td>0.23828362</td><td>0</td><td>589824</td><td>1.3861843</td><td>8.82095</td><td>13.472877</td></tr>\n",
       "<tr><td>8.631042</td><td>3.5533</td><td>0.23449042</td><td>0</td><td>589824</td><td>1.3859943</td><td>8.8482685</td><td>13.381108</td></tr>\n",
       "<tr><td>11.8994055</td><td>3.5534</td><td>0.22294532</td><td>0</td><td>589824</td><td>1.385372</td><td>8.882875</td><td>13.2069435</td></tr>\n",
       "<tr><td>12.036589</td><td>3.5535</td><td>0.21520956</td><td>0</td><td>589824</td><td>1.3845568</td><td>8.800217</td><td>13.022391</td></tr>\n",
       "<tr><td>11.6499815</td><td>3.5536</td><td>0.21866208</td><td>0</td><td>0</td><td>1.3843448</td><td>8.614737</td><td>12.884772</td></tr>\n",
       "<tr><td>...</td><td>...</td><td>...</td><td>...</td><td>...</td><td>...</td><td>...</td><td>...</td></tr>\n",
       "<tr><td>11.698905</td><td>4.0125</td><td>0.5448016</td><td>0</td><td>142868480</td><td>0.92963827</td><td>129.51602</td><td>28.183039</td></tr>\n",
       "<tr><td>13.937188</td><td>4.0126</td><td>1.2280589</td><td>0</td><td>176160768</td><td>0.9296541</td><td>52.235188</td><td>28.299114</td></tr>\n",
       "<tr><td>12.243087</td><td>4.0127</td><td>0.87283826</td><td>8388608</td><td>41943040</td><td>0.9328443</td><td>74.80593</td><td>28.338974</td></tr>\n",
       "<tr><td>10.798356</td><td>4.0128</td><td>0.98193</td><td>8388608</td><td>8388608</td><td>0.9318165</td><td>84.41051</td><td>28.309984</td></tr>\n",
       "<tr><td>16.23464</td><td>4.0129</td><td>0.9337359</td><td>0</td><td>8388608</td><td>0.9299922</td><td>61.713192</td><td>28.250778</td></tr>\n",
       "<tr><td>21.184992</td><td>4.013</td><td>1.0282187</td><td>0</td><td>41943040</td><td>0.9309947</td><td>22.534775</td><td>28.202646</td></tr>\n",
       "<tr><td>22.672657</td><td>4.0131</td><td>0.78717303</td><td>0</td><td>33554432</td><td>0.9304391</td><td>19.093576</td><td>28.184893</td></tr>\n",
       "<tr><td>20.502384</td><td>4.0132</td><td>0.69188946</td><td>0</td><td>0</td><td>0.93159455</td><td>31.063747</td><td>28.196611</td></tr>\n",
       "<tr><td>17.016546</td><td>4.0133</td><td>0.9571663</td><td>0</td><td>0</td><td>0.9306047</td><td>34.762333</td><td>28.231703</td></tr>\n",
       "<tr><td>17.706156</td><td>4.0134</td><td>0.7390643</td><td>0</td><td>0</td><td>0.9308941</td><td>38.44952</td><td>28.283487</td></tr>\n",
       "<tr><td>19.940924</td><td>4.0135</td><td>0.7337272</td><td>0</td><td>134217728</td><td>0.9311015</td><td>22.39483</td><td>28.343306</td></tr>\n",
       "<tr><td>22.076784</td><td>4.0136</td><td>0.8788277</td><td>0</td><td>134217728</td><td>0.9309888</td><td>7.8442</td><td>28.399931</td></tr>\n",
       "<tr><td>23.035116</td><td>4.0137</td><td>0.84053594</td><td>0</td><td>134217728</td><td>0.9312852</td><td>6.4880986</td><td>28.43868</td></tr>\n",
       "<tr><td>26.265568</td><td>4.0138</td><td>0.4481064</td><td>0</td><td>167772160</td><td>0.9319869</td><td>10.304762</td><td>28.441755</td></tr>\n",
       "<tr><td>28.498373</td><td>4.0139</td><td>0.32078877</td><td>0</td><td>234881024</td><td>0.9345554</td><td>13.582643</td><td>28.404522</td></tr>\n",
       "<tr><td>14.515671</td><td>4.014</td><td>1.1203536</td><td>0</td><td>201326592</td><td>0.9294242</td><td>7.938707</td><td>28.32203</td></tr>\n",
       "<tr><td>16.623861</td><td>4.0141</td><td>1.039764</td><td>0</td><td>201326592</td><td>0.9285967</td><td>8.410328</td><td>28.226202</td></tr>\n",
       "<tr><td>19.235287</td><td>4.0142</td><td>0.5095527</td><td>0</td><td>201326592</td><td>0.93103063</td><td>11.923839</td><td>28.139597</td></tr>\n",
       "<tr><td>18.199635</td><td>4.0143</td><td>0.55675167</td><td>0</td><td>201326592</td><td>0.9297702</td><td>12.324304</td><td>28.072071</td></tr>\n",
       "<tr><td>16.495544</td><td>4.0144</td><td>0.66418827</td><td>0</td><td>239075328</td><td>0.92881715</td><td>8.258522</td><td>28.15056</td></tr>\n",
       "</table></div>"
      ],
      "text/plain": [
       "<Table length=4627>\n",
       "   flux     loglam    ivar    and_mask  or_mask    wdisp       sky      model   \n",
       " float32   float32  float32    int32     int32    float32    float32   float32  \n",
       "---------- ------- ---------- -------- --------- ---------- --------- ----------\n",
       " 11.579388  3.5518 0.06664483        0 205520896  1.3881465 11.032989  11.970299\n",
       " 11.672122  3.5519        0.0        0 205520896  1.3913608 10.034883  11.882823\n",
       " 11.764823   3.552 0.17657176        0  67108864   1.391772  10.03673  11.822939\n",
       "  9.968305  3.5521 0.19721588        0  67108864  1.3906612  9.644577  11.720858\n",
       " 7.9081964  3.5522 0.21488994        0  67108864  1.3904653  9.213051   11.68229\n",
       " 7.6717715  3.5523 0.23644818        0  67108864  1.3910186  9.066986  11.749537\n",
       "  8.774834  3.5524 0.24325718        0         0  1.3898807   8.71358  11.914837\n",
       "  9.796442  3.5525 0.23826803        0         0  1.3894504   8.80366  12.180039\n",
       " 10.342739  3.5526 0.23219198        0         0  1.3889034  8.805332  12.419239\n",
       " 10.717923  3.5527 0.22674248        0         0   1.388496  8.679841  12.765832\n",
       " 11.283292  3.5528 0.22540602        0         0   1.388157  8.632464  13.118491\n",
       " 11.279069  3.5529 0.23033042        0         0  1.3875796  8.571722  13.360209\n",
       " 11.949989   3.553 0.21465817        0         0   1.386926  8.659627  13.473555\n",
       " 12.270343  3.5531 0.22185634        0         0  1.3866627  8.741033  13.517966\n",
       "  6.564215  3.5532 0.23828362        0    589824  1.3861843   8.82095  13.472877\n",
       "  8.631042  3.5533 0.23449042        0    589824  1.3859943 8.8482685  13.381108\n",
       "11.8994055  3.5534 0.22294532        0    589824   1.385372  8.882875 13.2069435\n",
       " 12.036589  3.5535 0.21520956        0    589824  1.3845568  8.800217  13.022391\n",
       "11.6499815  3.5536 0.21866208        0         0  1.3843448  8.614737  12.884772\n",
       "       ...     ...        ...      ...       ...        ...       ...        ...\n",
       " 11.698905  4.0125  0.5448016        0 142868480 0.92963827 129.51602  28.183039\n",
       " 13.937188  4.0126  1.2280589        0 176160768  0.9296541 52.235188  28.299114\n",
       " 12.243087  4.0127 0.87283826  8388608  41943040  0.9328443  74.80593  28.338974\n",
       " 10.798356  4.0128    0.98193  8388608   8388608  0.9318165  84.41051  28.309984\n",
       "  16.23464  4.0129  0.9337359        0   8388608  0.9299922 61.713192  28.250778\n",
       " 21.184992   4.013  1.0282187        0  41943040  0.9309947 22.534775  28.202646\n",
       " 22.672657  4.0131 0.78717303        0  33554432  0.9304391 19.093576  28.184893\n",
       " 20.502384  4.0132 0.69188946        0         0 0.93159455 31.063747  28.196611\n",
       " 17.016546  4.0133  0.9571663        0         0  0.9306047 34.762333  28.231703\n",
       " 17.706156  4.0134  0.7390643        0         0  0.9308941  38.44952  28.283487\n",
       " 19.940924  4.0135  0.7337272        0 134217728  0.9311015  22.39483  28.343306\n",
       " 22.076784  4.0136  0.8788277        0 134217728  0.9309888    7.8442  28.399931\n",
       " 23.035116  4.0137 0.84053594        0 134217728  0.9312852 6.4880986   28.43868\n",
       " 26.265568  4.0138  0.4481064        0 167772160  0.9319869 10.304762  28.441755\n",
       " 28.498373  4.0139 0.32078877        0 234881024  0.9345554 13.582643  28.404522\n",
       " 14.515671   4.014  1.1203536        0 201326592  0.9294242  7.938707   28.32203\n",
       " 16.623861  4.0141   1.039764        0 201326592  0.9285967  8.410328  28.226202\n",
       " 19.235287  4.0142  0.5095527        0 201326592 0.93103063 11.923839  28.139597\n",
       " 18.199635  4.0143 0.55675167        0 201326592  0.9297702 12.324304  28.072071\n",
       " 16.495544  4.0144 0.66418827        0 239075328 0.92881715  8.258522   28.15056"
      ]
     },
     "execution_count": 32,
     "metadata": {},
     "output_type": "execute_result"
    }
   ],
   "source": [
    "tde_info"
   ]
  },
  {
   "cell_type": "code",
   "execution_count": 33,
   "id": "6b03525a",
   "metadata": {},
   "outputs": [],
   "source": [
    "flux = t['flux']\n",
    "galaxy = flux/np.median(flux)   # Normalize spectrum to avoid numerical issues\n",
    "wave = 10**t['loglam']\n",
    "#noise = 1/t['ivar']\n",
    "# temporary\n",
    "noise = np.ones_like(galaxy)"
   ]
  },
  {
   "cell_type": "code",
   "execution_count": 35,
   "id": "d0e1f755",
   "metadata": {},
   "outputs": [],
   "source": [
    "wave *= np.median(util.vac_to_air(wave)/wave)\n",
    "rms = 0.019  # rms scatter of the spectrum residuals ??\n",
    "goodpixels = goodpixels = np.arange(galaxy.size)  # fit full spectrum"
   ]
  },
  {
   "cell_type": "code",
   "execution_count": 36,
   "id": "da7dc157",
   "metadata": {},
   "outputs": [],
   "source": [
    "wave_good = wave[goodpixels]\n",
    "lam_range_gal = np.array([np.min(wave_good), np.max(wave_good)])/(1 + z)"
   ]
  },
  {
   "cell_type": "code",
   "execution_count": 38,
   "id": "0a266b4b",
   "metadata": {},
   "outputs": [],
   "source": [
    "c = 299792.458  # speed of light in km/s\n",
    "velscale = c*(np.diff(np.log(wave[[0, -1]]))/(wave.size - 1))[0]\n",
    "FWHM_gal = 2.76  # SDSS has an approximate instrumental resolution FWHM of 2.76A."
   ]
  },
  {
   "cell_type": "code",
   "execution_count": 41,
   "id": "632dc4be",
   "metadata": {},
   "outputs": [],
   "source": [
    "pathname = ppxf_dir + '/miles_models/Eun1.30*.fits'\n",
    "miles = lib.miles(pathname, velscale, FWHM_gal, norm_range=[5070, 5950])"
   ]
  },
  {
   "cell_type": "code",
   "execution_count": 42,
   "id": "75a85685",
   "metadata": {},
   "outputs": [
    {
     "data": {
      "text/plain": [
       "array([3389.0405, 9832.789 ], dtype=float32)"
      ]
     },
     "execution_count": 42,
     "metadata": {},
     "output_type": "execute_result"
    }
   ],
   "source": [
    "lam_range_gal"
   ]
  },
  {
   "cell_type": "code",
   "execution_count": 43,
   "id": "b80c7efa",
   "metadata": {},
   "outputs": [],
   "source": [
    "reg_dim = miles.templates.shape[1:]\n",
    "stars_templates = miles.templates.reshape(miles.templates.shape[0], -1)"
   ]
  },
  {
   "cell_type": "code",
   "execution_count": 44,
   "id": "36dd2fcb",
   "metadata": {},
   "outputs": [
    {
     "name": "stdout",
     "output_type": "stream",
     "text": [
      "Emission lines included in gas templates:\n",
      "['H10' 'H9' 'H8' 'Heps' 'Hdelta' 'Hgamma' 'Hbeta' 'Halpha' '[OII]3726'\n",
      " '[OII]3729' '[SII]6716' '[SII]6731' '[NeIII]3968' '[NeIII]3869'\n",
      " 'HeII4687' 'HeI5876' '[OIII]5007_d' '[OI]6300_d' '[NII]6583_d']\n"
     ]
    }
   ],
   "source": [
    "gas_templates, gas_names, line_wave = util.emission_lines(\n",
    "    miles.ln_lam_temp, lam_range_gal, FWHM_gal)"
   ]
  },
  {
   "cell_type": "code",
   "execution_count": 45,
   "id": "8c19b292",
   "metadata": {},
   "outputs": [],
   "source": [
    "templates = np.column_stack([stars_templates, gas_templates])"
   ]
  },
  {
   "cell_type": "code",
   "execution_count": 46,
   "id": "a207e2eb",
   "metadata": {},
   "outputs": [],
   "source": [
    "c = 299792.458\n",
    "vel = c*np.log(1 + z)   # eq.(8) of Cappellari (2017)\n",
    "start = [vel, 180.]     # (km/s), starting guess for [V, sigma]"
   ]
  },
  {
   "cell_type": "code",
   "execution_count": 47,
   "id": "5ae7cd68",
   "metadata": {},
   "outputs": [],
   "source": [
    "n_stars = stars_templates.shape[1]\n",
    "n_gas = len(gas_names)\n",
    "component = [0]*n_stars + [1]*n_gas\n",
    "gas_component = np.array(component) > 0  # gas_component=True for gas templates"
   ]
  },
  {
   "cell_type": "code",
   "execution_count": 48,
   "id": "7c152563",
   "metadata": {},
   "outputs": [],
   "source": [
    "moments = [2, 2]"
   ]
  },
  {
   "cell_type": "code",
   "execution_count": 49,
   "id": "c508f770",
   "metadata": {},
   "outputs": [],
   "source": [
    "start = [start, start]"
   ]
  },
  {
   "cell_type": "code",
   "execution_count": 50,
   "id": "9e67cd93",
   "metadata": {},
   "outputs": [
    {
     "name": "stdout",
     "output_type": "stream",
     "text": [
      " Best Fit:       Vel     sigma\n",
      " comp.  0:     14891       139\n",
      " comp.  1:     14926       111\n",
      "Stars Attenuation A_V: 2.340\n",
      "chi2/DOF: 0.007699; DOF: 4614; degree = -1; mdegree = 8\n",
      "method = capfit; Jac calls: 16; Func calls: 229; Status: 2\n",
      "linear_method = lsq_box; Nonzero Templates (>0.1%): 98/169\n",
      "+++++++++++++++++++++++++++++++++++++++++++++++++++++++++++++++++\n",
      "gas_component           name        flux       err      V     sig\n",
      "+++++++++++++++++++++++++++++++++++++++++++++++++++++++++++++++++\n",
      "Comp:  1                   H10    0.07389       2.7   14926   111\n",
      "Comp:  1                    H9     0.1892       2.7   14926   111\n",
      "Comp:  1                    H8     0.2242       2.7   14926   111\n",
      "Comp:  1                  Heps     0.1482       3.5   14926   111\n",
      "Comp:  1                Hdelta     0.4284       2.7   14926   111\n",
      "Comp:  1                Hgamma     0.8176       2.7   14926   111\n",
      "Comp:  1                 Hbeta      1.527       2.6   14926   111\n",
      "Comp:  1                Halpha      5.498       2.5   14926   111\n",
      "Comp:  1             [OII]3726     0.6736       3.3   14926   111\n",
      "Comp:  1             [OII]3729     0.8424       3.3   14926   111\n",
      "Comp:  1             [SII]6716     0.7195       2.5   14926   111\n",
      "Comp:  1             [SII]6731     0.5303       2.5   14926   111\n",
      "Comp:  1           [NeIII]3968     0.2581       3.5   14926   111\n",
      "Comp:  1           [NeIII]3869    0.03123       2.7   14926   111\n",
      "Comp:  1              HeII4687    0.07332       2.6   14926   111\n",
      "Comp:  1               HeI5876     0.2214       2.6   14926   111\n",
      "Comp:  1          [OIII]5007_d     0.7462       3.3   14926   111\n",
      "Comp:  1            [OI]6300_d    0.03883       3.2   14926   111\n",
      "Comp:  1           [NII]6583_d      3.221       3.2   14926   111\n",
      "-----------------------------------------------------------------\n"
     ]
    }
   ],
   "source": [
    "pp = ppxf(templates, galaxy, noise, velscale, start,\n",
    "          moments=moments, degree=-1, mdegree=8, lam=wave, lam_temp=miles.lam_temp, regul=1/rms,\n",
    "          reg_dim=reg_dim, component=component, gas_component=gas_component, reddening=0, \n",
    "          gas_names=gas_names, goodpixels=goodpixels)"
   ]
  },
  {
   "cell_type": "code",
   "execution_count": 65,
   "id": "49d681de",
   "metadata": {},
   "outputs": [
    {
     "data": {
      "text/plain": [
       "[<matplotlib.lines.Line2D at 0x7faddc2a9580>]"
      ]
     },
     "execution_count": 65,
     "metadata": {},
     "output_type": "execute_result"
    },
    {
     "data": {
      "image/png": "[encoded data removed]",
      "text/plain": [
       "<Figure size 432x288 with 1 Axes>"
      ]
     },
     "metadata": {
      "needs_background": "light"
     },
     "output_type": "display_data"
    }
   ],
   "source": [
    "plt.plot(pp.templates @ pp.weights)"
   ]
  },
  {
   "cell_type": "code",
   "execution_count": 51,
   "id": "82385c99",
   "metadata": {},
   "outputs": [],
   "source": [
    "light_weights = pp.weights[~gas_component]      # Exclude weights of the gas templates\n",
    "light_weights = light_weights.reshape(reg_dim)  # Reshape to (n_ages, n_metal)\n",
    "light_weights /= light_weights.sum()            # Normalize to light fractions"
   ]
  },
  {
   "cell_type": "code",
   "execution_count": 52,
   "id": "226120f9",
   "metadata": {},
   "outputs": [
    {
     "name": "stdout",
     "output_type": "stream",
     "text": [
      "Weighted <lg_age> [yr]: 9.61\n",
      "Weighted <[M/H]>: -0.194\n"
     ]
    }
   ],
   "source": [
    "miles.mean_age_metal(light_weights);"
   ]
  },
  {
   "cell_type": "code",
   "execution_count": 53,
   "id": "efd810f8",
   "metadata": {},
   "outputs": [
    {
     "name": "stdout",
     "output_type": "stream",
     "text": [
      "(M*/L)_r: 3.269\n"
     ]
    }
   ],
   "source": [
    "mass_weights = light_weights/miles.flux\n",
    "mass_weights /= mass_weights.sum()              # Normalize to mass fractions\n",
    "miles.mass_to_light(mass_weights, band=\"r\");"
   ]
  },
  {
   "cell_type": "code",
   "execution_count": 96,
   "id": "a4c79969",
   "metadata": {},
   "outputs": [
    {
     "data": {
      "image/png": "[encoded data removed]",
      "text/plain": [
       "<Figure size 720x360 with 1 Axes>"
      ]
     },
     "metadata": {
      "needs_background": "light"
     },
     "output_type": "display_data"
    },
    {
     "data": {
      "image/png": "[encoded data removed]",
      "text/plain": [
       "<Figure size 720x216 with 2 Axes>"
      ]
     },
     "metadata": {
      "needs_background": "light"
     },
     "output_type": "display_data"
    }
   ],
   "source": [
    "plt.figure(figsize=(10,5))\n",
    "pp.plot(spec=True, phot=False, gas_clip=True)\n",
    "plt.tight_layout()\n",
    "\n",
    "plt.figure(figsize=(10,3))\n",
    "miles.plot(light_weights)\n",
    "plt.title(\"Light Fraction\");"
   ]
  },
  {
   "cell_type": "code",
   "execution_count": 91,
   "id": "1d917559",
   "metadata": {},
   "outputs": [
    {
     "data": {
      "text/plain": [
       "[<matplotlib.lines.Line2D at 0x7fadde595b20>]"
      ]
     },
     "execution_count": 91,
     "metadata": {},
     "output_type": "execute_result"
    },
    {
     "data": {
      "image/png": "[encoded data removed]",
      "text/plain": [
       "<Figure size 432x288 with 1 Axes>"
      ]
     },
     "metadata": {
      "needs_background": "light"
     },
     "output_type": "display_data"
    }
   ],
   "source": [
    "plt.plot(wave, galaxy, 'k')\n",
    "temp_spec = templates @ pp.weights\n",
    "plt.plot(miles.lam_temp, temp_spec*np.median(galaxy)/np.median(temp_spec), 'r')"
   ]
  },
  {
   "cell_type": "code",
   "execution_count": 97,
   "id": "4e06223a",
   "metadata": {},
   "outputs": [],
   "source": [
    "ext_wave = miles.lam_temp"
   ]
  },
  {
   "cell_type": "code",
   "execution_count": 106,
   "id": "71491401",
   "metadata": {},
   "outputs": [
    {
     "data": {
      "text/plain": [
       "array([ 1679.94339935,  1680.33026485,  1680.71721944, ...,\n",
       "       49968.17718772, 49979.68410152, 49991.19366518])"
      ]
     },
     "execution_count": 106,
     "metadata": {},
     "output_type": "execute_result"
    }
   ],
   "source": [
    "ext_wave"
   ]
  },
  {
   "cell_type": "code",
   "execution_count": 107,
   "id": "1e187dfa",
   "metadata": {},
   "outputs": [
    {
     "data": {
      "text/plain": [
       "array([ 3561.884 ,  3562.7034,  3563.525 , ..., 10329.516 , 10331.886 ,\n",
       "       10334.269 ], dtype=float32)"
      ]
     },
     "execution_count": 107,
     "metadata": {},
     "output_type": "execute_result"
    }
   ],
   "source": [
    "wave"
   ]
  },
  {
   "cell_type": "code",
   "execution_count": 108,
   "id": "6d3bb66d",
   "metadata": {},
   "outputs": [
    {
     "data": {
      "text/plain": [
       "[<matplotlib.lines.Line2D at 0x7fadc14ba520>]"
      ]
     },
     "execution_count": 108,
     "metadata": {},
     "output_type": "execute_result"
    },
    {
     "data": {
      "image/png": "[encoded data removed]",
      "text/plain": [
       "<Figure size 432x288 with 1 Axes>"
      ]
     },
     "metadata": {
      "needs_background": "light"
     },
     "output_type": "display_data"
    }
   ],
   "source": [
    "plt.plot(wave)"
   ]
  },
  {
   "cell_type": "code",
   "execution_count": 101,
   "id": "e97d427c",
   "metadata": {},
   "outputs": [],
   "source": [
    "from numpy.polynomial import legendre\n",
    "x = np.linspace(-1, 1, len(ext_wave))\n",
    "mpoly = legendre.legval(x, pp.mpolyweights)"
   ]
  },
  {
   "cell_type": "code",
   "execution_count": 105,
   "id": "6993e07d",
   "metadata": {},
   "outputs": [
    {
     "data": {
      "text/plain": [
       "array([0.00043234, 0.00043234, 0.00043234, ..., 0.00043234, 0.00043234,\n",
       "       0.00043234])"
      ]
     },
     "execution_count": 105,
     "metadata": {},
     "output_type": "execute_result"
    }
   ],
   "source": [
    "x = np.linspace(-1, 1, len(galaxy))\n",
    "spacing = x[0]"
   ]
  },
  {
   "cell_type": "code",
   "execution_count": 103,
   "id": "20c5574c",
   "metadata": {},
   "outputs": [
    {
     "data": {
      "text/plain": [
       "[<matplotlib.lines.Line2D at 0x7fadc11d8b50>]"
      ]
     },
     "execution_count": 103,
     "metadata": {},
     "output_type": "execute_result"
    },
    {
     "data": {
      "image/png": "[encoded data removed]",
      "text/plain": [
       "<Figure size 432x288 with 1 Axes>"
      ]
     },
     "metadata": {
      "needs_background": "light"
     },
     "output_type": "display_data"
    }
   ],
   "source": [
    "plt.plot(ext_wave, temp_spec*mpoly, 'r')"
   ]
  },
  {
   "cell_type": "code",
   "execution_count": 95,
   "id": "1f7c0805",
   "metadata": {},
   "outputs": [
    {
     "data": {
      "text/plain": [
       "<matplotlib.collections.PathCollection at 0x7fadf02e9af0>"
      ]
     },
     "execution_count": 95,
     "metadata": {},
     "output_type": "execute_result"
    },
    {
     "data": {
      "image/png": "[encoded data removed]",
      "text/plain": [
       "<Figure size 432x288 with 1 Axes>"
      ]
     },
     "metadata": {
      "needs_background": "light"
     },
     "output_type": "display_data"
    }
   ],
   "source": [
    "plt.scatter(galaxy, pp.bestfit)"
   ]
  },
  {
   "cell_type": "code",
   "execution_count": 74,
   "id": "1833c866",
   "metadata": {},
   "outputs": [
    {
     "data": {
      "text/plain": [
       "(4627,)"
      ]
     },
     "execution_count": 74,
     "metadata": {},
     "output_type": "execute_result"
    }
   ],
   "source": [
    "wave.shape"
   ]
  },
  {
   "cell_type": "code",
   "execution_count": 75,
   "id": "50449f5b",
   "metadata": {},
   "outputs": [
    {
     "data": {
      "text/plain": [
       "(14737, 19)"
      ]
     },
     "execution_count": 75,
     "metadata": {},
     "output_type": "execute_result"
    }
   ],
   "source": [
    "gas_templates.shape"
   ]
  },
  {
   "cell_type": "code",
   "execution_count": 73,
   "id": "c901d0f7",
   "metadata": {},
   "outputs": [
    {
     "data": {
      "text/plain": [
       "(14737, 150)"
      ]
     },
     "execution_count": 73,
     "metadata": {},
     "output_type": "execute_result"
    }
   ],
   "source": [
    "stars_templates.shape"
   ]
  },
  {
   "cell_type": "code",
   "execution_count": 78,
   "id": "826ad3e8",
   "metadata": {},
   "outputs": [
    {
     "data": {
      "text/plain": [
       "(14737, 169)"
      ]
     },
     "execution_count": 78,
     "metadata": {},
     "output_type": "execute_result"
    }
   ],
   "source": [
    "templates.shape"
   ]
  },
  {
   "cell_type": "code",
   "execution_count": 80,
   "id": "48057177",
   "metadata": {},
   "outputs": [
    {
     "data": {
      "text/plain": [
       "(4710, 169)"
      ]
     },
     "execution_count": 80,
     "metadata": {},
     "output_type": "execute_result"
    }
   ],
   "source": [
    "pp.templates.shape"
   ]
  },
  {
   "cell_type": "code",
   "execution_count": 77,
   "id": "36b6ecc4",
   "metadata": {},
   "outputs": [
    {
     "data": {
      "text/plain": [
       "(169,)"
      ]
     },
     "execution_count": 77,
     "metadata": {},
     "output_type": "execute_result"
    }
   ],
   "source": [
    "pp.weights.shape"
   ]
  },
  {
   "cell_type": "code",
   "execution_count": 89,
   "id": "dce9f25f",
   "metadata": {},
   "outputs": [
    {
     "ename": "ValueError",
     "evalue": "x and y must have same first dimension, but have shapes (14737,) and (4710,)",
     "output_type": "error",
     "traceback": [
      "\u001b[0;31m---------------------------------------------------------------------------\u001b[0m",
      "\u001b[0;31mValueError\u001b[0m                                Traceback (most recent call last)",
      "Input \u001b[0;32mIn [89]\u001b[0m, in \u001b[0;36m<cell line: 1>\u001b[0;34m()\u001b[0m\n\u001b[0;32m----> 1\u001b[0m \u001b[43mplt\u001b[49m\u001b[38;5;241;43m.\u001b[39;49m\u001b[43mplot\u001b[49m\u001b[43m(\u001b[49m\u001b[43mmiles\u001b[49m\u001b[38;5;241;43m.\u001b[39;49m\u001b[43mlam_temp\u001b[49m\u001b[43m,\u001b[49m\u001b[43m \u001b[49m\u001b[43mtemp_spec\u001b[49m\u001b[38;5;241;43m*\u001b[39;49m\u001b[43mnp\u001b[49m\u001b[38;5;241;43m.\u001b[39;49m\u001b[43mmedian\u001b[49m\u001b[43m(\u001b[49m\u001b[43mgalaxy\u001b[49m\u001b[43m)\u001b[49m\u001b[38;5;241;43m/\u001b[39;49m\u001b[43mnp\u001b[49m\u001b[38;5;241;43m.\u001b[39;49m\u001b[43mmedian\u001b[49m\u001b[43m(\u001b[49m\u001b[43mtemp_spec\u001b[49m\u001b[43m)\u001b[49m\u001b[43m)\u001b[49m\n\u001b[1;32m      2\u001b[0m plt\u001b[38;5;241m.\u001b[39mplot(wave, galaxy)\n",
      "File \u001b[0;32m~/opt/anaconda3/lib/python3.9/site-packages/matplotlib/pyplot.py:2730\u001b[0m, in \u001b[0;36mplot\u001b[0;34m(scalex, scaley, data, *args, **kwargs)\u001b[0m\n\u001b[1;32m   2728\u001b[0m \u001b[38;5;129m@_copy_docstring_and_deprecators\u001b[39m(Axes\u001b[38;5;241m.\u001b[39mplot)\n\u001b[1;32m   2729\u001b[0m \u001b[38;5;28;01mdef\u001b[39;00m \u001b[38;5;21mplot\u001b[39m(\u001b[38;5;241m*\u001b[39margs, scalex\u001b[38;5;241m=\u001b[39m\u001b[38;5;28;01mTrue\u001b[39;00m, scaley\u001b[38;5;241m=\u001b[39m\u001b[38;5;28;01mTrue\u001b[39;00m, data\u001b[38;5;241m=\u001b[39m\u001b[38;5;28;01mNone\u001b[39;00m, \u001b[38;5;241m*\u001b[39m\u001b[38;5;241m*\u001b[39mkwargs):\n\u001b[0;32m-> 2730\u001b[0m     \u001b[38;5;28;01mreturn\u001b[39;00m \u001b[43mgca\u001b[49m\u001b[43m(\u001b[49m\u001b[43m)\u001b[49m\u001b[38;5;241;43m.\u001b[39;49m\u001b[43mplot\u001b[49m\u001b[43m(\u001b[49m\n\u001b[1;32m   2731\u001b[0m \u001b[43m        \u001b[49m\u001b[38;5;241;43m*\u001b[39;49m\u001b[43margs\u001b[49m\u001b[43m,\u001b[49m\u001b[43m \u001b[49m\u001b[43mscalex\u001b[49m\u001b[38;5;241;43m=\u001b[39;49m\u001b[43mscalex\u001b[49m\u001b[43m,\u001b[49m\u001b[43m \u001b[49m\u001b[43mscaley\u001b[49m\u001b[38;5;241;43m=\u001b[39;49m\u001b[43mscaley\u001b[49m\u001b[43m,\u001b[49m\n\u001b[1;32m   2732\u001b[0m \u001b[43m        \u001b[49m\u001b[38;5;241;43m*\u001b[39;49m\u001b[38;5;241;43m*\u001b[39;49m\u001b[43m(\u001b[49m\u001b[43m{\u001b[49m\u001b[38;5;124;43m\"\u001b[39;49m\u001b[38;5;124;43mdata\u001b[39;49m\u001b[38;5;124;43m\"\u001b[39;49m\u001b[43m:\u001b[49m\u001b[43m \u001b[49m\u001b[43mdata\u001b[49m\u001b[43m}\u001b[49m\u001b[43m \u001b[49m\u001b[38;5;28;43;01mif\u001b[39;49;00m\u001b[43m \u001b[49m\u001b[43mdata\u001b[49m\u001b[43m \u001b[49m\u001b[38;5;129;43;01mis\u001b[39;49;00m\u001b[43m \u001b[49m\u001b[38;5;129;43;01mnot\u001b[39;49;00m\u001b[43m \u001b[49m\u001b[38;5;28;43;01mNone\u001b[39;49;00m\u001b[43m \u001b[49m\u001b[38;5;28;43;01melse\u001b[39;49;00m\u001b[43m \u001b[49m\u001b[43m{\u001b[49m\u001b[43m}\u001b[49m\u001b[43m)\u001b[49m\u001b[43m,\u001b[49m\u001b[43m \u001b[49m\u001b[38;5;241;43m*\u001b[39;49m\u001b[38;5;241;43m*\u001b[39;49m\u001b[43mkwargs\u001b[49m\u001b[43m)\u001b[49m\n",
      "File \u001b[0;32m~/opt/anaconda3/lib/python3.9/site-packages/matplotlib/axes/_axes.py:1662\u001b[0m, in \u001b[0;36mAxes.plot\u001b[0;34m(self, scalex, scaley, data, *args, **kwargs)\u001b[0m\n\u001b[1;32m   1419\u001b[0m \u001b[38;5;124;03m\"\"\"\u001b[39;00m\n\u001b[1;32m   1420\u001b[0m \u001b[38;5;124;03mPlot y versus x as lines and/or markers.\u001b[39;00m\n\u001b[1;32m   1421\u001b[0m \n\u001b[0;32m   (...)\u001b[0m\n\u001b[1;32m   1659\u001b[0m \u001b[38;5;124;03m(``'green'``) or hex strings (``'#008000'``).\u001b[39;00m\n\u001b[1;32m   1660\u001b[0m \u001b[38;5;124;03m\"\"\"\u001b[39;00m\n\u001b[1;32m   1661\u001b[0m kwargs \u001b[38;5;241m=\u001b[39m cbook\u001b[38;5;241m.\u001b[39mnormalize_kwargs(kwargs, mlines\u001b[38;5;241m.\u001b[39mLine2D)\n\u001b[0;32m-> 1662\u001b[0m lines \u001b[38;5;241m=\u001b[39m [\u001b[38;5;241m*\u001b[39m\u001b[38;5;28mself\u001b[39m\u001b[38;5;241m.\u001b[39m_get_lines(\u001b[38;5;241m*\u001b[39margs, data\u001b[38;5;241m=\u001b[39mdata, \u001b[38;5;241m*\u001b[39m\u001b[38;5;241m*\u001b[39mkwargs)]\n\u001b[1;32m   1663\u001b[0m \u001b[38;5;28;01mfor\u001b[39;00m line \u001b[38;5;129;01min\u001b[39;00m lines:\n\u001b[1;32m   1664\u001b[0m     \u001b[38;5;28mself\u001b[39m\u001b[38;5;241m.\u001b[39madd_line(line)\n",
      "File \u001b[0;32m~/opt/anaconda3/lib/python3.9/site-packages/matplotlib/axes/_base.py:311\u001b[0m, in \u001b[0;36m_process_plot_var_args.__call__\u001b[0;34m(self, data, *args, **kwargs)\u001b[0m\n\u001b[1;32m    309\u001b[0m     this \u001b[38;5;241m+\u001b[39m\u001b[38;5;241m=\u001b[39m args[\u001b[38;5;241m0\u001b[39m],\n\u001b[1;32m    310\u001b[0m     args \u001b[38;5;241m=\u001b[39m args[\u001b[38;5;241m1\u001b[39m:]\n\u001b[0;32m--> 311\u001b[0m \u001b[38;5;28;01myield from\u001b[39;00m \u001b[38;5;28;43mself\u001b[39;49m\u001b[38;5;241;43m.\u001b[39;49m\u001b[43m_plot_args\u001b[49m\u001b[43m(\u001b[49m\n\u001b[1;32m    312\u001b[0m \u001b[43m    \u001b[49m\u001b[43mthis\u001b[49m\u001b[43m,\u001b[49m\u001b[43m \u001b[49m\u001b[43mkwargs\u001b[49m\u001b[43m,\u001b[49m\u001b[43m \u001b[49m\u001b[43mambiguous_fmt_datakey\u001b[49m\u001b[38;5;241;43m=\u001b[39;49m\u001b[43mambiguous_fmt_datakey\u001b[49m\u001b[43m)\u001b[49m\n",
      "File \u001b[0;32m~/opt/anaconda3/lib/python3.9/site-packages/matplotlib/axes/_base.py:504\u001b[0m, in \u001b[0;36m_process_plot_var_args._plot_args\u001b[0;34m(self, tup, kwargs, return_kwargs, ambiguous_fmt_datakey)\u001b[0m\n\u001b[1;32m    501\u001b[0m     \u001b[38;5;28mself\u001b[39m\u001b[38;5;241m.\u001b[39maxes\u001b[38;5;241m.\u001b[39myaxis\u001b[38;5;241m.\u001b[39mupdate_units(y)\n\u001b[1;32m    503\u001b[0m \u001b[38;5;28;01mif\u001b[39;00m x\u001b[38;5;241m.\u001b[39mshape[\u001b[38;5;241m0\u001b[39m] \u001b[38;5;241m!=\u001b[39m y\u001b[38;5;241m.\u001b[39mshape[\u001b[38;5;241m0\u001b[39m]:\n\u001b[0;32m--> 504\u001b[0m     \u001b[38;5;28;01mraise\u001b[39;00m \u001b[38;5;167;01mValueError\u001b[39;00m(\u001b[38;5;124mf\u001b[39m\u001b[38;5;124m\"\u001b[39m\u001b[38;5;124mx and y must have same first dimension, but \u001b[39m\u001b[38;5;124m\"\u001b[39m\n\u001b[1;32m    505\u001b[0m                      \u001b[38;5;124mf\u001b[39m\u001b[38;5;124m\"\u001b[39m\u001b[38;5;124mhave shapes \u001b[39m\u001b[38;5;132;01m{\u001b[39;00mx\u001b[38;5;241m.\u001b[39mshape\u001b[38;5;132;01m}\u001b[39;00m\u001b[38;5;124m and \u001b[39m\u001b[38;5;132;01m{\u001b[39;00my\u001b[38;5;241m.\u001b[39mshape\u001b[38;5;132;01m}\u001b[39;00m\u001b[38;5;124m\"\u001b[39m)\n\u001b[1;32m    506\u001b[0m \u001b[38;5;28;01mif\u001b[39;00m x\u001b[38;5;241m.\u001b[39mndim \u001b[38;5;241m>\u001b[39m \u001b[38;5;241m2\u001b[39m \u001b[38;5;129;01mor\u001b[39;00m y\u001b[38;5;241m.\u001b[39mndim \u001b[38;5;241m>\u001b[39m \u001b[38;5;241m2\u001b[39m:\n\u001b[1;32m    507\u001b[0m     \u001b[38;5;28;01mraise\u001b[39;00m \u001b[38;5;167;01mValueError\u001b[39;00m(\u001b[38;5;124mf\u001b[39m\u001b[38;5;124m\"\u001b[39m\u001b[38;5;124mx and y can be no greater than 2D, but have \u001b[39m\u001b[38;5;124m\"\u001b[39m\n\u001b[1;32m    508\u001b[0m                      \u001b[38;5;124mf\u001b[39m\u001b[38;5;124m\"\u001b[39m\u001b[38;5;124mshapes \u001b[39m\u001b[38;5;132;01m{\u001b[39;00mx\u001b[38;5;241m.\u001b[39mshape\u001b[38;5;132;01m}\u001b[39;00m\u001b[38;5;124m and \u001b[39m\u001b[38;5;132;01m{\u001b[39;00my\u001b[38;5;241m.\u001b[39mshape\u001b[38;5;132;01m}\u001b[39;00m\u001b[38;5;124m\"\u001b[39m)\n",
      "\u001b[0;31mValueError\u001b[0m: x and y must have same first dimension, but have shapes (14737,) and (4710,)"
     ]
    },
    {
     "data": {
      "image/png": "[encoded data removed]",
      "text/plain": [
       "<Figure size 432x288 with 1 Axes>"
      ]
     },
     "metadata": {
      "needs_background": "light"
     },
     "output_type": "display_data"
    }
   ],
   "source": [
    "plt.plot(miles.lam_temp, temp_spec*np.median(galaxy)/np.median(temp_spec))\n",
    "plt.plot(wave, galaxy)"
   ]
  },
  {
   "cell_type": "code",
   "execution_count": 87,
   "id": "d6f9d352",
   "metadata": {},
   "outputs": [
    {
     "data": {
      "text/plain": [
       "(array([ 1679.94339935,  1680.33026485,  1680.71721944, ...,\n",
       "        49968.17718772, 49979.68410152, 49991.19366518]),\n",
       " 14737)"
      ]
     },
     "execution_count": 87,
     "metadata": {},
     "output_type": "execute_result"
    }
   ],
   "source": [
    "miles.lam_temp, len(miles.lam_temp)"
   ]
  },
  {
   "cell_type": "code",
   "execution_count": null,
   "id": "f6af105a",
   "metadata": {},
   "outputs": [],
   "source": [
    "stars_templates = miles.templates.reshape(miles.templates.shape[0], -1)"
   ]
  },
  {
   "cell_type": "code",
   "execution_count": null,
   "id": "0daec938",
   "metadata": {},
   "outputs": [],
   "source": [
    "gas_templates, gas_names, line_wave = util.emission_lines(\n",
    "    miles.ln_lam_temp, lam_range_gal, FWHM_gal)\n"
   ]
  }
 ],
 "metadata": {
  "kernelspec": {
   "display_name": "Python 3 (ipykernel)",
   "language": "python",
   "name": "python3"
  },
  "language_info": {
   "codemirror_mode": {
    "name": "ipython",
    "version": 3
   },
   "file_extension": ".py",
   "mimetype": "text/x-python",
   "name": "python",
   "nbconvert_exporter": "python",
   "pygments_lexer": "ipython3",
   "version": "3.9.12"
  }
 },
 "nbformat": 4,
 "nbformat_minor": 5
}

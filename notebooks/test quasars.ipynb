{
 "cells": [
  {
   "cell_type": "code",
   "execution_count": 1,
   "id": "1b4d5112",
   "metadata": {},
   "outputs": [
    {
     "name": "stderr",
     "output_type": "stream",
     "text": [
      "WARNING: AstropyDeprecationWarning: The update_default_config function is deprecated and may be removed in a future version. [sncosmo]\n"
     ]
    }
   ],
   "source": [
    "import numpy as np\n",
    "import sncosmo\n",
    "from astropy import units as u\n",
    "from astropy.cosmology import WMAP9 as cosmo\n",
    "from astropy import constants as const\n",
    "import sys\n",
    "sys.path.append('../')\n",
    "from scripts import tde_utils\n",
    "from tqdm.notebook import tqdm\n",
    "\n",
    "\n",
    "import matplotlib.pyplot as plt\n",
    "import seaborn as sns\n",
    "sns.set_context('paper')"
   ]
  },
  {
   "cell_type": "code",
   "execution_count": 2,
   "id": "81ba0c2c",
   "metadata": {},
   "outputs": [],
   "source": [
    "qso_source = tde_utils.QSOSource(r_mag = -25.)\n"
   ]
  },
  {
   "cell_type": "code",
   "execution_count": 3,
   "id": "c96dd4f6",
   "metadata": {},
   "outputs": [
    {
     "data": {
      "text/plain": [
       "[<matplotlib.lines.Line2D at 0x7ffd750c1490>]"
      ]
     },
     "execution_count": 3,
     "metadata": {},
     "output_type": "execute_result"
    },
    {
     "data": {
      "image/png": "[encoded data removed]",
      "text/plain": [
       "<Figure size 432x288 with 1 Axes>"
      ]
     },
     "metadata": {
      "needs_background": "light"
     },
     "output_type": "display_data"
    }
   ],
   "source": [
    "plt.plot(qso_source._wave, qso_source._scaled_flux)"
   ]
  },
  {
   "cell_type": "code",
   "execution_count": null,
   "id": "da71cb07",
   "metadata": {},
   "outputs": [],
   "source": [
    "model = sncosmo.Model(source=qso_source)\n",
    "model.set(z = 0)\n",
    "wave = qso_source._wave\n",
    "flux = model.flux(0, wave=wave)\n",
    "plt.plot(wave, flux)"
   ]
  },
  {
   "cell_type": "code",
   "execution_count": null,
   "id": "5680e358",
   "metadata": {},
   "outputs": [],
   "source": [
    "model.minwave(), model.maxwave()"
   ]
  },
  {
   "cell_type": "code",
   "execution_count": 12,
   "id": "1dd72e06",
   "metadata": {},
   "outputs": [
    {
     "data": {
      "text/plain": [
       "array([  800.5,   801.5,   802.5, ...,  8552.5,  8553.5,  8554.5])"
      ]
     },
     "execution_count": 12,
     "metadata": {},
     "output_type": "execute_result"
    }
   ],
   "source": [
    "qso_source._wave"
   ]
  },
  {
   "cell_type": "code",
   "execution_count": null,
   "id": "53d9b8e5",
   "metadata": {},
   "outputs": [],
   "source": []
  }
 ],
 "metadata": {
  "kernelspec": {
   "display_name": "Python 3 (ipykernel)",
   "language": "python",
   "name": "python3"
  },
  "language_info": {
   "codemirror_mode": {
    "name": "ipython",
    "version": 3
   },
   "file_extension": ".py",
   "mimetype": "text/x-python",
   "name": "python",
   "nbconvert_exporter": "python",
   "pygments_lexer": "ipython3",
   "version": "3.9.12"
  }
 },
 "nbformat": 4,
 "nbformat_minor": 5
}
